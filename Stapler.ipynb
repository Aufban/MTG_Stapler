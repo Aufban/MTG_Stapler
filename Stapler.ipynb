{
 "cells": [
  {
   "cell_type": "code",
   "execution_count": 1,
   "id": "da86fcc0-4ee6-480a-b915-53e6dd4bf90e",
   "metadata": {},
   "outputs": [],
   "source": [
    "from bs4 import BeautifulSoup as soup \n",
    "from urllib.request import urlopen as uReq\n",
    "from urllib.request import Request\n",
    "import time\n",
    "from selenium import webdriver\n",
    "from selenium.webdriver.chrome.options import Options\n",
    "from webdriver_manager.chrome import ChromeDriverManager\n",
    "import pandas as pd\n",
    "import numpy as np\n",
    "import os\n",
    "import re"
   ]
  },
  {
   "cell_type": "code",
   "execution_count": 2,
   "id": "1bff3f6d-df7a-47b1-bccc-1a68e4c14bc1",
   "metadata": {},
   "outputs": [],
   "source": [
    "myurl =  'https://cedh-decklist-database.com'\n",
    "cards = [] # initializes list of all cards"
   ]
  },
  {
   "cell_type": "code",
   "execution_count": 68,
   "id": "e47b0fda-4fc2-44ea-b98e-adaf39caebe5",
   "metadata": {
    "tags": []
   },
   "outputs": [
    {
     "output_type": "execute_result",
     "data": {
      "text/plain": [
       "211"
      ]
     },
     "metadata": {},
     "execution_count": 68
    }
   ],
   "source": [
    "\n",
    "client = uReq(myurl) # opening connection \n",
    "page_html = client.read() # content to variable\n",
    "client.close() # closes connection \n",
    "page_soup = soup(page_html, 'html.parser') # html parsing \n",
    "containers = page_soup.findAll(\"div\",{\"class\": \"ddb-section\"})\n",
    "htmls = []\n",
    "for c in containers:\n",
    "    if c.get_text().strip() == 'COMPETITIVE':\n",
    "        x = c.parent.parent.find(\"ul\", {\"class\": \"ddb-decklists\"})\n",
    "        lis = x.findAll('li')\n",
    "        for li in lis:\n",
    "            htmls.append(li.a[\"href\"])\n",
    "len(htmls)"
   ]
  },
  {
   "cell_type": "code",
   "execution_count": 70,
   "metadata": {},
   "outputs": [
    {
     "output_type": "execute_result",
     "data": {
      "text/plain": [
       "['https://www.moxfield.com/decks/yPLtlCQp00qmtCg3Jis5sw',\n",
       " 'https://www.moxfield.com/decks/77tKzEJx8UO_YsL1wXKA1A',\n",
       " 'https://www.moxfield.com/decks/OjY9mvS_eUqlNUqdSpfPTQ']"
      ]
     },
     "metadata": {},
     "execution_count": 70
    }
   ],
   "source": [
    "#cleaning moxfield primer lists\n",
    "def second_group(m):\n",
    "    return m.group(1)\n",
    "htmls = list(map(lambda x: re.sub(r'(.*)/$|(.*)/primer$',second_group,x ), htmls))\n",
    "htmls[128:131]"
   ]
  },
  {
   "cell_type": "code",
   "execution_count": 16,
   "id": "92ca3760-d056-41b7-b36a-7c0ffbec4213",
   "metadata": {},
   "outputs": [],
   "source": [
    "chromedriver_path=os.path.join(os.getcwd(), \"chromedriver.exe\")\n",
    "options = Options()\n",
    "options.headless = True\n",
    "for decklist in htmls[:4]:\n",
    "    if 'moxfield' in decklist: # checks if its a moxfield deck\n",
    "        driver = webdriver.Chrome(chromedriver_path, options= options)\n",
    "        driver.get(decklist)\n",
    "        time.sleep(5) #if you want to wait 3 seconds for the page to load\n",
    "        page_source = driver.page_source\n",
    "        driver.close()\n",
    "        page_soup = soup(page_source, 'html.parser')\n",
    "        containers = page_soup.findAll(\"tr\",{\"class\": \"table-deck-row\"})\n",
    "        title = page_soup.find(\"span\", {\"class\": \"deckheader-name\"}).get_text()\n",
    "        deck_info = {'Link': decklist, 'Title':title }\n",
    "        deck_cards = []\n",
    "        for c in containers:\n",
    "            c_name = {'Card Name': c.a.get_text()}\n",
    "            deck_cards.append(c_name)\n",
    "        deck_info['Cards'] = deck_cards\n",
    "        cards.append(deck_info)"
   ]
  },
  {
   "cell_type": "code",
   "execution_count": 17,
   "metadata": {},
   "outputs": [
    {
     "output_type": "stream",
     "name": "stdout",
     "text": [
      "{'Link': 'https://www.moxfield.com/decks/1vqfLIEtWkOnZo-ywKQtKA', 'Title': 'Tymna/Sidar Raza', 'Cards': [{'Card Name': 'Sidar Kondo of Jamuraa'}, {'Card Name': 'Tymna the Weaver'}, {'Card Name': 'Arbor Elf'}, {'Card Name': \"Avacyn's Pilgrim\"}, {'Card Name': 'Birds of Paradise'}, {'Card Name': 'Cabal Therapist'}, {'Card Name': 'Collector Ouphe'}, {'Card Name': 'Corpse Knight'}, {'Card Name': 'Dark Confidant'}, {'Card Name': 'Dauthi Voidwalker'}, {'Card Name': 'Deathrite Shaman'}, {'Card Name': 'Drannith Magistrate'}, {'Card Name': 'Elesh Norn, Grand Cenobite'}, {'Card Name': 'Elves of Deep Shadow'}, {'Card Name': 'Elvish Mystic'}, {'Card Name': 'Esper Sentinel'}, {'Card Name': 'Fyndhorn Elves'}, {'Card Name': 'Grim Flayer'}, {'Card Name': 'Hope of Ghirapur'}, {'Card Name': 'Leonin Relic-Warder'}, {'Card Name': 'Llanowar Elves'}, {'Card Name': 'Loyal Retainers'}, {'Card Name': 'Opposition Agent'}, {'Card Name': 'Priest of Titania'}, {'Card Name': 'Razaketh, the Foulblooded'}, {'Card Name': 'Toski, Bearer of Secrets'}, {'Card Name': 'Vilis, Broker of Blood'}, {'Card Name': 'Witherbloom Apprentice'}, {'Card Name': 'Chain of Smog'}, {'Card Name': 'Culling Ritual'}, {'Card Name': 'Demonic Tutor'}, {'Card Name': 'Diabolic Intent'}, {'Card Name': 'Finale of Devastation'}, {'Card Name': 'Imperial Seal'}, {'Card Name': 'Life // Death'}, {'Card Name': 'Reanimate'}, {'Card Name': 'Abrupt Decay'}, {'Card Name': \"Assassin's Trophy\"}, {'Card Name': 'Crop Rotation'}, {'Card Name': 'Dark Ritual'}, {'Card Name': \"Eladamri's Call\"}, {'Card Name': 'Enlightened Tutor'}, {'Card Name': 'Entomb'}, {'Card Name': \"Imp's Mischief\"}, {'Card Name': \"Nature's Claim\"}, {'Card Name': 'Noxious Revival'}, {'Card Name': 'Reap'}, {'Card Name': 'Rushed Rebirth'}, {'Card Name': 'Secure the Wastes'}, {'Card Name': 'Silence'}, {'Card Name': 'Swords to Plowshares'}, {'Card Name': 'Vampiric Tutor'}, {'Card Name': 'Veil of Summer'}, {'Card Name': 'Worldly Tutor'}, {'Card Name': 'Blasting Station'}, {'Card Name': 'Chrome Mox'}, {'Card Name': 'Jeweled Lotus'}, {'Card Name': 'Mana Crypt'}, {'Card Name': 'Mox Diamond'}, {'Card Name': 'Sol Ring'}, {'Card Name': 'Animate Dead'}, {'Card Name': 'Carpet of Flowers'}, {'Card Name': 'Earthcraft'}, {'Card Name': 'Necromancy'}, {'Card Name': 'Necropotence'}, {'Card Name': 'Squirrel Nest'}, {'Card Name': 'Survival of the Fittest'}, {'Card Name': 'Sylvan Library'}, {'Card Name': 'Utopia Sprawl'}, {'Card Name': 'Wild Growth'}, {'Card Name': 'Arid Mesa'}, {'Card Name': 'Bayou'}, {'Card Name': 'Bloodstained Mire'}, {'Card Name': 'Bountiful Promenade'}, {'Card Name': 'City of Brass'}, {'Card Name': 'Command Tower'}, {'Card Name': 'Exotic Orchard'}, {'Card Name': 'Flooded Strand'}, {'Card Name': 'Forbidden Orchard'}, {'Card Name': \"Gaea's Cradle\"}, {'Card Name': 'Godless Shrine'}, {'Card Name': 'Horizon Canopy'}, {'Card Name': 'Mana Confluence'}, {'Card Name': 'Marsh Flats'}, {'Card Name': 'Misty Rainforest'}, {'Card Name': 'Nurturing Peatland'}, {'Card Name': 'Overgrown Tomb'}, {'Card Name': 'Phyrexian Tower'}, {'Card Name': 'Polluted Delta'}, {'Card Name': 'Prismatic Vista'}, {'Card Name': 'Savannah'}, {'Card Name': 'Scrubland'}, {'Card Name': 'Snow-Covered Forest'}, {'Card Name': 'Snow-Covered Swamp'}, {'Card Name': 'Temple Garden'}, {'Card Name': 'Undergrowth Stadium'}, {'Card Name': 'Verdant Catacombs'}, {'Card Name': 'Windswept Heath'}, {'Card Name': 'Wooded Foothills'}, {'Card Name': 'Branchloft Pathway'}, {'Card Name': 'Darkbore Pathway'}, {'Card Name': 'Deadly Rollick'}, {'Card Name': 'Fauna Shaman'}, {'Card Name': 'Oakhame Adversary'}, {'Card Name': 'Thalia, Guardian of Thraben'}, {'Card Name': 'Toxic Deluge'}, {'Card Name': 'Zealous Persecution'}, {'Card Name': 'Chrome Mox'}, {'Card Name': 'Jeweled Lotus'}, {'Card Name': 'Mana Crypt'}, {'Card Name': 'Mox Diamond'}]}\n"
     ]
    }
   ],
   "source": [
    "print(cards[0])"
   ]
  },
  {
   "cell_type": "code",
   "execution_count": 18,
   "metadata": {},
   "outputs": [],
   "source": [
    "df = pd.json_normalize(cards,\n",
    "    record_path='Cards', meta=['Link', 'Title'])"
   ]
  },
  {
   "cell_type": "code",
   "execution_count": 20,
   "metadata": {},
   "outputs": [
    {
     "output_type": "execute_result",
     "data": {
      "text/plain": [
       "Tymna/Sidar Raza                 111\n",
       "[Primer] Rog Turbo Ad Nauseam    111\n",
       "Frozen Scepter Parun 2.0         105\n",
       "Niv-Mizzet, Parun                100\n",
       "Name: Title, dtype: int64"
      ]
     },
     "metadata": {},
     "execution_count": 20
    }
   ],
   "source": [
    "df['Title'].value_counts()"
   ]
  },
  {
   "cell_type": "code",
   "execution_count": 84,
   "metadata": {},
   "outputs": [
    {
     "output_type": "execute_result",
     "data": {
      "text/plain": [
       "          Card Name                                              Title  \\\n",
       "0     Academy Ruins                 [Brago, playing cedh with Azorius]   \n",
       "1    Adarkar Wastes                 [Brago, playing cedh with Azorius]   \n",
       "2      Ancient Tomb  [Brago, playing cedh with Azorius, Evolution: ...   \n",
       "3     Arcane Signet  [Brago, playing cedh with Azorius, Evolution: ...   \n",
       "4  Archon of Emeria                 [Brago, playing cedh with Azorius]   \n",
       "\n",
       "                                                Link  \n",
       "0  [https://www.moxfield.com/decks/hbLMs7xcfUyun2...  \n",
       "1  [https://www.moxfield.com/decks/hbLMs7xcfUyun2...  \n",
       "2  [https://www.moxfield.com/decks/hbLMs7xcfUyun2...  \n",
       "3  [https://www.moxfield.com/decks/hbLMs7xcfUyun2...  \n",
       "4  [https://www.moxfield.com/decks/hbLMs7xcfUyun2...  "
      ],
      "text/html": "<div>\n<style scoped>\n    .dataframe tbody tr th:only-of-type {\n        vertical-align: middle;\n    }\n\n    .dataframe tbody tr th {\n        vertical-align: top;\n    }\n\n    .dataframe thead th {\n        text-align: right;\n    }\n</style>\n<table border=\"1\" class=\"dataframe\">\n  <thead>\n    <tr style=\"text-align: right;\">\n      <th></th>\n      <th>Card Name</th>\n      <th>Title</th>\n      <th>Link</th>\n    </tr>\n  </thead>\n  <tbody>\n    <tr>\n      <th>0</th>\n      <td>Academy Ruins</td>\n      <td>[Brago, playing cedh with Azorius]</td>\n      <td>[https://www.moxfield.com/decks/hbLMs7xcfUyun2...</td>\n    </tr>\n    <tr>\n      <th>1</th>\n      <td>Adarkar Wastes</td>\n      <td>[Brago, playing cedh with Azorius]</td>\n      <td>[https://www.moxfield.com/decks/hbLMs7xcfUyun2...</td>\n    </tr>\n    <tr>\n      <th>2</th>\n      <td>Ancient Tomb</td>\n      <td>[Brago, playing cedh with Azorius, Evolution: ...</td>\n      <td>[https://www.moxfield.com/decks/hbLMs7xcfUyun2...</td>\n    </tr>\n    <tr>\n      <th>3</th>\n      <td>Arcane Signet</td>\n      <td>[Brago, playing cedh with Azorius, Evolution: ...</td>\n      <td>[https://www.moxfield.com/decks/hbLMs7xcfUyun2...</td>\n    </tr>\n    <tr>\n      <th>4</th>\n      <td>Archon of Emeria</td>\n      <td>[Brago, playing cedh with Azorius]</td>\n      <td>[https://www.moxfield.com/decks/hbLMs7xcfUyun2...</td>\n    </tr>\n  </tbody>\n</table>\n</div>"
     },
     "metadata": {},
     "execution_count": 84
    }
   ],
   "source": [
    "df_1 = df.groupby('Card Name')['Title'].apply(list).reset_index()\n",
    "df_2 = df.groupby('Card Name')['Link'].apply(list).reset_index()\n",
    "df_12 = pd.merge(df_1, df_2, on='Card Name')\n",
    "df_12.head()"
   ]
  },
  {
   "cell_type": "code",
   "execution_count": 77,
   "metadata": {},
   "outputs": [
    {
     "output_type": "execute_result",
     "data": {
      "text/plain": [
       "                 Card Name  Ocurrences\n",
       "0               Chrome Mox           5\n",
       "1              Lotus Petal           5\n",
       "2               Mana Crypt           5\n",
       "3              Mox Diamond           5\n",
       "4            Jeweled Lotus           3\n",
       "..                     ...         ...\n",
       "151  Sensei's Divining Top           1\n",
       "152        Prismatic Vista           1\n",
       "153            Timetwister           1\n",
       "154      Waterlogged Grove           1\n",
       "155  Venser, Shaper Savant           1\n",
       "\n",
       "[156 rows x 2 columns]"
      ],
      "text/html": "<div>\n<style scoped>\n    .dataframe tbody tr th:only-of-type {\n        vertical-align: middle;\n    }\n\n    .dataframe tbody tr th {\n        vertical-align: top;\n    }\n\n    .dataframe thead th {\n        text-align: right;\n    }\n</style>\n<table border=\"1\" class=\"dataframe\">\n  <thead>\n    <tr style=\"text-align: right;\">\n      <th></th>\n      <th>Card Name</th>\n      <th>Ocurrences</th>\n    </tr>\n  </thead>\n  <tbody>\n    <tr>\n      <th>0</th>\n      <td>Chrome Mox</td>\n      <td>5</td>\n    </tr>\n    <tr>\n      <th>1</th>\n      <td>Lotus Petal</td>\n      <td>5</td>\n    </tr>\n    <tr>\n      <th>2</th>\n      <td>Mana Crypt</td>\n      <td>5</td>\n    </tr>\n    <tr>\n      <th>3</th>\n      <td>Mox Diamond</td>\n      <td>5</td>\n    </tr>\n    <tr>\n      <th>4</th>\n      <td>Jeweled Lotus</td>\n      <td>3</td>\n    </tr>\n    <tr>\n      <th>...</th>\n      <td>...</td>\n      <td>...</td>\n    </tr>\n    <tr>\n      <th>151</th>\n      <td>Sensei's Divining Top</td>\n      <td>1</td>\n    </tr>\n    <tr>\n      <th>152</th>\n      <td>Prismatic Vista</td>\n      <td>1</td>\n    </tr>\n    <tr>\n      <th>153</th>\n      <td>Timetwister</td>\n      <td>1</td>\n    </tr>\n    <tr>\n      <th>154</th>\n      <td>Waterlogged Grove</td>\n      <td>1</td>\n    </tr>\n    <tr>\n      <th>155</th>\n      <td>Venser, Shaper Savant</td>\n      <td>1</td>\n    </tr>\n  </tbody>\n</table>\n<p>156 rows × 2 columns</p>\n</div>"
     },
     "metadata": {},
     "execution_count": 77
    }
   ],
   "source": [
    "card_vc = df['Card Name'].value_counts()\n",
    "card_vc = card_vc.reset_index()\n",
    "card_vc.rename( columns={'index' :'Card Name', 'Card Name':'Ocurrences'}, inplace=True )#columns names\n",
    "card_vc"
   ]
  },
  {
   "cell_type": "code",
   "execution_count": 95,
   "metadata": {},
   "outputs": [],
   "source": [
    "card_vc.to_json('results/competitiveCards.json', orient='records')\n",
    "card_vc.to_csv('results/competitive_cards.csv')"
   ]
  },
  {
   "cell_type": "code",
   "execution_count": 85,
   "metadata": {},
   "outputs": [
    {
     "output_type": "execute_result",
     "data": {
      "text/plain": [
       "          Card Name                                              Title  \\\n",
       "0     Academy Ruins                 [Brago, playing cedh with Azorius]   \n",
       "1    Adarkar Wastes                 [Brago, playing cedh with Azorius]   \n",
       "2      Ancient Tomb  [Brago, playing cedh with Azorius, Evolution: ...   \n",
       "3     Arcane Signet  [Brago, playing cedh with Azorius, Evolution: ...   \n",
       "4  Archon of Emeria                 [Brago, playing cedh with Azorius]   \n",
       "\n",
       "                                                Link  Ocurrences  \n",
       "0  [https://www.moxfield.com/decks/hbLMs7xcfUyun2...           1  \n",
       "1  [https://www.moxfield.com/decks/hbLMs7xcfUyun2...           1  \n",
       "2  [https://www.moxfield.com/decks/hbLMs7xcfUyun2...           2  \n",
       "3  [https://www.moxfield.com/decks/hbLMs7xcfUyun2...           2  \n",
       "4  [https://www.moxfield.com/decks/hbLMs7xcfUyun2...           1  "
      ],
      "text/html": "<div>\n<style scoped>\n    .dataframe tbody tr th:only-of-type {\n        vertical-align: middle;\n    }\n\n    .dataframe tbody tr th {\n        vertical-align: top;\n    }\n\n    .dataframe thead th {\n        text-align: right;\n    }\n</style>\n<table border=\"1\" class=\"dataframe\">\n  <thead>\n    <tr style=\"text-align: right;\">\n      <th></th>\n      <th>Card Name</th>\n      <th>Title</th>\n      <th>Link</th>\n      <th>Ocurrences</th>\n    </tr>\n  </thead>\n  <tbody>\n    <tr>\n      <th>0</th>\n      <td>Academy Ruins</td>\n      <td>[Brago, playing cedh with Azorius]</td>\n      <td>[https://www.moxfield.com/decks/hbLMs7xcfUyun2...</td>\n      <td>1</td>\n    </tr>\n    <tr>\n      <th>1</th>\n      <td>Adarkar Wastes</td>\n      <td>[Brago, playing cedh with Azorius]</td>\n      <td>[https://www.moxfield.com/decks/hbLMs7xcfUyun2...</td>\n      <td>1</td>\n    </tr>\n    <tr>\n      <th>2</th>\n      <td>Ancient Tomb</td>\n      <td>[Brago, playing cedh with Azorius, Evolution: ...</td>\n      <td>[https://www.moxfield.com/decks/hbLMs7xcfUyun2...</td>\n      <td>2</td>\n    </tr>\n    <tr>\n      <th>3</th>\n      <td>Arcane Signet</td>\n      <td>[Brago, playing cedh with Azorius, Evolution: ...</td>\n      <td>[https://www.moxfield.com/decks/hbLMs7xcfUyun2...</td>\n      <td>2</td>\n    </tr>\n    <tr>\n      <th>4</th>\n      <td>Archon of Emeria</td>\n      <td>[Brago, playing cedh with Azorius]</td>\n      <td>[https://www.moxfield.com/decks/hbLMs7xcfUyun2...</td>\n      <td>1</td>\n    </tr>\n  </tbody>\n</table>\n</div>"
     },
     "metadata": {},
     "execution_count": 85
    }
   ],
   "source": [
    "full_cards = pd.merge(df_12,card_vc, on = 'Card Name')\n",
    "full_cards.head()"
   ]
  },
  {
   "cell_type": "code",
   "execution_count": 86,
   "metadata": {},
   "outputs": [],
   "source": [
    "full_cards.to_json('results/competitiveCards_full.json', orient='records')"
   ]
  },
  {
   "cell_type": "code",
   "execution_count": 96,
   "metadata": {},
   "outputs": [
    {
     "output_type": "execute_result",
     "data": {
      "text/plain": [
       "   Quantity                                               Name\n",
       "0         1                           Tasigur, the Golden Fang\n",
       "1         1                             Witherbloom Apprentice\n",
       "2         1                                  Emiel the Blessed\n",
       "3         1  Valentin, Dean of the Vein // Lisette, Dean of...\n",
       "4         1                                      Goblin Matron"
      ],
      "text/html": "<div>\n<style scoped>\n    .dataframe tbody tr th:only-of-type {\n        vertical-align: middle;\n    }\n\n    .dataframe tbody tr th {\n        vertical-align: top;\n    }\n\n    .dataframe thead th {\n        text-align: right;\n    }\n</style>\n<table border=\"1\" class=\"dataframe\">\n  <thead>\n    <tr style=\"text-align: right;\">\n      <th></th>\n      <th>Quantity</th>\n      <th>Name</th>\n    </tr>\n  </thead>\n  <tbody>\n    <tr>\n      <th>0</th>\n      <td>1</td>\n      <td>Tasigur, the Golden Fang</td>\n    </tr>\n    <tr>\n      <th>1</th>\n      <td>1</td>\n      <td>Witherbloom Apprentice</td>\n    </tr>\n    <tr>\n      <th>2</th>\n      <td>1</td>\n      <td>Emiel the Blessed</td>\n    </tr>\n    <tr>\n      <th>3</th>\n      <td>1</td>\n      <td>Valentin, Dean of the Vein // Lisette, Dean of...</td>\n    </tr>\n    <tr>\n      <th>4</th>\n      <td>1</td>\n      <td>Goblin Matron</td>\n    </tr>\n  </tbody>\n</table>\n</div>"
     },
     "metadata": {},
     "execution_count": 96
    }
   ],
   "source": [
    "my_collection = pd.read_csv('ArchidektCollection-Sat Jul 10 2021.csv')\n",
    "my_collection.head()"
   ]
  },
  {
   "cell_type": "code",
   "execution_count": 97,
   "metadata": {},
   "outputs": [
    {
     "output_type": "execute_result",
     "data": {
      "text/plain": [
       "                      Card Name  Occurences  Quantity Name     _merge\n",
       "34                Imperial Seal         193       NaN  NaN  left_only\n",
       "52                  Timetwister         144       NaN  NaN  left_only\n",
       "61             Wheel of Fortune         137       NaN  NaN  left_only\n",
       "82              Volcanic Island         110       NaN  NaN  left_only\n",
       "90                     Badlands         106       NaN  NaN  left_only\n",
       "93                 Necropotence         102       NaN  NaN  left_only\n",
       "96                Gaea's Cradle          99       NaN  NaN  left_only\n",
       "121             Cavern of Souls          79       NaN  NaN  left_only\n",
       "130                    Savannah          75       NaN  NaN  left_only\n",
       "135                       Taiga          72       NaN  NaN  left_only\n",
       "147                   Scrubland          65       NaN  NaN  left_only\n",
       "180  Birgi, God of Storytelling          49       NaN  NaN  left_only\n",
       "186       Shatterskull Smashing          46       NaN  NaN  left_only\n",
       "192          Solve the Equation          44       NaN  NaN  left_only\n",
       "211        Sea Gate Restoration          37       NaN  NaN  left_only\n",
       "218         Allosaurus Shepherd          36       NaN  NaN  left_only\n",
       "220          Transmute Artifact          36       NaN  NaN  left_only\n",
       "232                   Twinflame          31       NaN  NaN  left_only\n",
       "247                    Resculpt          29       NaN  NaN  left_only\n",
       "271           Wandering Archaic          25       NaN  NaN  left_only\n",
       "275            Darkslick Shores          24       NaN  NaN  left_only\n",
       "305               Shallow Grave          21       NaN  NaN  left_only\n",
       "312            Loyal Apprentice          21       NaN  NaN  left_only\n",
       "314      Vilis, Broker of Blood          20       NaN  NaN  left_only\n",
       "345                Manamorphose          17       NaN  NaN  left_only\n",
       "347           Archmage Emeritus          16       NaN  NaN  left_only\n",
       "351              Personal Tutor          16       NaN  NaN  left_only\n",
       "354        Tana, the Bloodsower          16       NaN  NaN  left_only\n",
       "355                Thoughtseize          16       NaN  NaN  left_only\n",
       "357         Capture of Jingzhou          16       NaN  NaN  left_only\n",
       "360  Elesh Norn, Grand Cenobite          16       NaN  NaN  left_only\n",
       "367        Turntimber Symbiosis          15       NaN  NaN  left_only\n",
       "393          Vault of Champions          14       NaN  NaN  left_only\n",
       "404          Riverglide Pathway          13       NaN  NaN  left_only\n",
       "409    Chains of Mephistopheles          13       NaN  NaN  left_only\n",
       "419         Agadeem's Awakening          12       NaN  NaN  left_only\n",
       "424               Graven Cairns          12       NaN  NaN  left_only\n",
       "426                Sylvan Tutor          12       NaN  NaN  left_only\n",
       "429          Clearwater Pathway          12       NaN  NaN  left_only\n",
       "442        Jace, Vryn's Prodigy          11       NaN  NaN  left_only"
      ],
      "text/html": "<div>\n<style scoped>\n    .dataframe tbody tr th:only-of-type {\n        vertical-align: middle;\n    }\n\n    .dataframe tbody tr th {\n        vertical-align: top;\n    }\n\n    .dataframe thead th {\n        text-align: right;\n    }\n</style>\n<table border=\"1\" class=\"dataframe\">\n  <thead>\n    <tr style=\"text-align: right;\">\n      <th></th>\n      <th>Card Name</th>\n      <th>Occurences</th>\n      <th>Quantity</th>\n      <th>Name</th>\n      <th>_merge</th>\n    </tr>\n  </thead>\n  <tbody>\n    <tr>\n      <th>34</th>\n      <td>Imperial Seal</td>\n      <td>193</td>\n      <td>NaN</td>\n      <td>NaN</td>\n      <td>left_only</td>\n    </tr>\n    <tr>\n      <th>52</th>\n      <td>Timetwister</td>\n      <td>144</td>\n      <td>NaN</td>\n      <td>NaN</td>\n      <td>left_only</td>\n    </tr>\n    <tr>\n      <th>61</th>\n      <td>Wheel of Fortune</td>\n      <td>137</td>\n      <td>NaN</td>\n      <td>NaN</td>\n      <td>left_only</td>\n    </tr>\n    <tr>\n      <th>82</th>\n      <td>Volcanic Island</td>\n      <td>110</td>\n      <td>NaN</td>\n      <td>NaN</td>\n      <td>left_only</td>\n    </tr>\n    <tr>\n      <th>90</th>\n      <td>Badlands</td>\n      <td>106</td>\n      <td>NaN</td>\n      <td>NaN</td>\n      <td>left_only</td>\n    </tr>\n    <tr>\n      <th>93</th>\n      <td>Necropotence</td>\n      <td>102</td>\n      <td>NaN</td>\n      <td>NaN</td>\n      <td>left_only</td>\n    </tr>\n    <tr>\n      <th>96</th>\n      <td>Gaea's Cradle</td>\n      <td>99</td>\n      <td>NaN</td>\n      <td>NaN</td>\n      <td>left_only</td>\n    </tr>\n    <tr>\n      <th>121</th>\n      <td>Cavern of Souls</td>\n      <td>79</td>\n      <td>NaN</td>\n      <td>NaN</td>\n      <td>left_only</td>\n    </tr>\n    <tr>\n      <th>130</th>\n      <td>Savannah</td>\n      <td>75</td>\n      <td>NaN</td>\n      <td>NaN</td>\n      <td>left_only</td>\n    </tr>\n    <tr>\n      <th>135</th>\n      <td>Taiga</td>\n      <td>72</td>\n      <td>NaN</td>\n      <td>NaN</td>\n      <td>left_only</td>\n    </tr>\n    <tr>\n      <th>147</th>\n      <td>Scrubland</td>\n      <td>65</td>\n      <td>NaN</td>\n      <td>NaN</td>\n      <td>left_only</td>\n    </tr>\n    <tr>\n      <th>180</th>\n      <td>Birgi, God of Storytelling</td>\n      <td>49</td>\n      <td>NaN</td>\n      <td>NaN</td>\n      <td>left_only</td>\n    </tr>\n    <tr>\n      <th>186</th>\n      <td>Shatterskull Smashing</td>\n      <td>46</td>\n      <td>NaN</td>\n      <td>NaN</td>\n      <td>left_only</td>\n    </tr>\n    <tr>\n      <th>192</th>\n      <td>Solve the Equation</td>\n      <td>44</td>\n      <td>NaN</td>\n      <td>NaN</td>\n      <td>left_only</td>\n    </tr>\n    <tr>\n      <th>211</th>\n      <td>Sea Gate Restoration</td>\n      <td>37</td>\n      <td>NaN</td>\n      <td>NaN</td>\n      <td>left_only</td>\n    </tr>\n    <tr>\n      <th>218</th>\n      <td>Allosaurus Shepherd</td>\n      <td>36</td>\n      <td>NaN</td>\n      <td>NaN</td>\n      <td>left_only</td>\n    </tr>\n    <tr>\n      <th>220</th>\n      <td>Transmute Artifact</td>\n      <td>36</td>\n      <td>NaN</td>\n      <td>NaN</td>\n      <td>left_only</td>\n    </tr>\n    <tr>\n      <th>232</th>\n      <td>Twinflame</td>\n      <td>31</td>\n      <td>NaN</td>\n      <td>NaN</td>\n      <td>left_only</td>\n    </tr>\n    <tr>\n      <th>247</th>\n      <td>Resculpt</td>\n      <td>29</td>\n      <td>NaN</td>\n      <td>NaN</td>\n      <td>left_only</td>\n    </tr>\n    <tr>\n      <th>271</th>\n      <td>Wandering Archaic</td>\n      <td>25</td>\n      <td>NaN</td>\n      <td>NaN</td>\n      <td>left_only</td>\n    </tr>\n    <tr>\n      <th>275</th>\n      <td>Darkslick Shores</td>\n      <td>24</td>\n      <td>NaN</td>\n      <td>NaN</td>\n      <td>left_only</td>\n    </tr>\n    <tr>\n      <th>305</th>\n      <td>Shallow Grave</td>\n      <td>21</td>\n      <td>NaN</td>\n      <td>NaN</td>\n      <td>left_only</td>\n    </tr>\n    <tr>\n      <th>312</th>\n      <td>Loyal Apprentice</td>\n      <td>21</td>\n      <td>NaN</td>\n      <td>NaN</td>\n      <td>left_only</td>\n    </tr>\n    <tr>\n      <th>314</th>\n      <td>Vilis, Broker of Blood</td>\n      <td>20</td>\n      <td>NaN</td>\n      <td>NaN</td>\n      <td>left_only</td>\n    </tr>\n    <tr>\n      <th>345</th>\n      <td>Manamorphose</td>\n      <td>17</td>\n      <td>NaN</td>\n      <td>NaN</td>\n      <td>left_only</td>\n    </tr>\n    <tr>\n      <th>347</th>\n      <td>Archmage Emeritus</td>\n      <td>16</td>\n      <td>NaN</td>\n      <td>NaN</td>\n      <td>left_only</td>\n    </tr>\n    <tr>\n      <th>351</th>\n      <td>Personal Tutor</td>\n      <td>16</td>\n      <td>NaN</td>\n      <td>NaN</td>\n      <td>left_only</td>\n    </tr>\n    <tr>\n      <th>354</th>\n      <td>Tana, the Bloodsower</td>\n      <td>16</td>\n      <td>NaN</td>\n      <td>NaN</td>\n      <td>left_only</td>\n    </tr>\n    <tr>\n      <th>355</th>\n      <td>Thoughtseize</td>\n      <td>16</td>\n      <td>NaN</td>\n      <td>NaN</td>\n      <td>left_only</td>\n    </tr>\n    <tr>\n      <th>357</th>\n      <td>Capture of Jingzhou</td>\n      <td>16</td>\n      <td>NaN</td>\n      <td>NaN</td>\n      <td>left_only</td>\n    </tr>\n    <tr>\n      <th>360</th>\n      <td>Elesh Norn, Grand Cenobite</td>\n      <td>16</td>\n      <td>NaN</td>\n      <td>NaN</td>\n      <td>left_only</td>\n    </tr>\n    <tr>\n      <th>367</th>\n      <td>Turntimber Symbiosis</td>\n      <td>15</td>\n      <td>NaN</td>\n      <td>NaN</td>\n      <td>left_only</td>\n    </tr>\n    <tr>\n      <th>393</th>\n      <td>Vault of Champions</td>\n      <td>14</td>\n      <td>NaN</td>\n      <td>NaN</td>\n      <td>left_only</td>\n    </tr>\n    <tr>\n      <th>404</th>\n      <td>Riverglide Pathway</td>\n      <td>13</td>\n      <td>NaN</td>\n      <td>NaN</td>\n      <td>left_only</td>\n    </tr>\n    <tr>\n      <th>409</th>\n      <td>Chains of Mephistopheles</td>\n      <td>13</td>\n      <td>NaN</td>\n      <td>NaN</td>\n      <td>left_only</td>\n    </tr>\n    <tr>\n      <th>419</th>\n      <td>Agadeem's Awakening</td>\n      <td>12</td>\n      <td>NaN</td>\n      <td>NaN</td>\n      <td>left_only</td>\n    </tr>\n    <tr>\n      <th>424</th>\n      <td>Graven Cairns</td>\n      <td>12</td>\n      <td>NaN</td>\n      <td>NaN</td>\n      <td>left_only</td>\n    </tr>\n    <tr>\n      <th>426</th>\n      <td>Sylvan Tutor</td>\n      <td>12</td>\n      <td>NaN</td>\n      <td>NaN</td>\n      <td>left_only</td>\n    </tr>\n    <tr>\n      <th>429</th>\n      <td>Clearwater Pathway</td>\n      <td>12</td>\n      <td>NaN</td>\n      <td>NaN</td>\n      <td>left_only</td>\n    </tr>\n    <tr>\n      <th>442</th>\n      <td>Jace, Vryn's Prodigy</td>\n      <td>11</td>\n      <td>NaN</td>\n      <td>NaN</td>\n      <td>left_only</td>\n    </tr>\n  </tbody>\n</table>\n</div>"
     },
     "metadata": {},
     "execution_count": 97
    }
   ],
   "source": [
    "sd = pd.merge(card_vc,my_collection, how='left', left_on='Card Name', right_on='Name', indicator=True)\n",
    "sd[sd['_merge']=='left_only'].head(40)"
   ]
  },
  {
   "cell_type": "code",
   "execution_count": 66,
   "metadata": {},
   "outputs": [
    {
     "output_type": "execute_result",
     "data": {
      "text/plain": [
       "Blood Farm            116\n",
       "BAD Korvold (cEDH)    107\n",
       "Consultation Zur      100\n",
       "Marwyn, nerfed         73\n",
       "Name: Title, dtype: int64"
      ]
     },
     "metadata": {},
     "execution_count": 66
    }
   ],
   "source": [
    "htmls = ['https://www.moxfield.com/decks/1t0Cpm1xqUeyA-6xi2TrGQ','https://www.moxfield.com/decks/_4HeABv9DEeykmnZy1JICg', 'https://www.moxfield.com/decks/Re-_xtEbCkyNdH69vyGR8w','https://www.moxfield.com/decks/TnwluHJbcU2-Ioz8Op4txw']\n",
    "# htmls = ['https://www.moxfield.com/decks/1t0Cpm1xqUeyA-6xi2TrGQ']\n",
    "cards = []\n",
    "chromedriver_path=os.path.join(os.getcwd(), \"chromedriver.exe\")\n",
    "options = Options()\n",
    "options.headless = True\n",
    "driver = webdriver.Chrome(chromedriver_path, options= options)\n",
    "for decklist in htmls:\n",
    "    if 'moxfield' in decklist: # checks if its a moxfield deck\n",
    "        driver.get(decklist)\n",
    "        time.sleep(3) #if you want to wait 3 seconds for the page to load\n",
    "        mode = driver.find_element_by_id('viewMode').get_attribute('value')\n",
    "        page_source = driver.page_source\n",
    "        page_soup = soup(page_source, 'html.parser')\n",
    "        title = page_soup.find(\"span\", {\"class\": \"deckheader-name\"}).get_text()\n",
    "        deck_info = {'Link': decklist, 'Title':title }\n",
    "        if mode == 'table': \n",
    "            containers = page_soup.findAll(\"tr\",{\"class\": \"table-deck-row\"})\n",
    "            deck_cards = []\n",
    "            #TODO: Find only decklist cards \n",
    "            for c in containers:\n",
    "                c_name = {'Card Name': c.a.get_text()}\n",
    "                deck_cards.append(c_name)\n",
    "            deck_info['Cards'] = deck_cards\n",
    "            cards.append(deck_info)\n",
    "        elif mode == 'visual':\n",
    "            containers = page_soup.findAll(\"div\",{\"class\": \"decklist-card-phantomsearch\"})\n",
    "            deck_cards = []\n",
    "            #TODO: Find only decklist cards \n",
    "            for c in containers:\n",
    "                c_name = {'Card Name': c.get_text()}\n",
    "                deck_cards.append(c_name)\n",
    "            deck_info['Cards'] = deck_cards\n",
    "            cards.append(deck_info)\n",
    "        elif mode == 'stacks':\n",
    "            containers = page_soup.findAll(\"div\",{\"class\": \"img-card-stack\"})\n",
    "            deck_cards = []\n",
    "            #TODO: Find only decklist cards \n",
    "            for c in containers:\n",
    "                c_name = {'Card Name': c.img['alt']}\n",
    "                deck_cards.append(c_name)\n",
    "            deck_info['Cards'] = deck_cards\n",
    "            cards.append(deck_info)\n",
    "\n",
    "df = pd.json_normalize(cards,\n",
    "    record_path='Cards', meta=['Link', 'Title'])\n",
    "df['Title'].value_counts()"
   ]
  },
  {
   "cell_type": "code",
   "execution_count": null,
   "metadata": {},
   "outputs": [],
   "source": []
  }
 ],
 "metadata": {
  "kernelspec": {
   "name": "python3",
   "display_name": "Python 3.9.5 64-bit ('scrapper': conda)"
  },
  "language_info": {
   "codemirror_mode": {
    "name": "ipython",
    "version": 3
   },
   "file_extension": ".py",
   "mimetype": "text/x-python",
   "name": "python",
   "nbconvert_exporter": "python",
   "pygments_lexer": "ipython3",
   "version": "3.9.5"
  },
  "interpreter": {
   "hash": "6b411f96bd496b37eb8fda9b3e7b617aec005b90464881fef6869f06f7582f62"
  }
 },
 "nbformat": 4,
 "nbformat_minor": 5
}