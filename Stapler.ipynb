{
 "cells": [
  {
   "cell_type": "code",
   "execution_count": 1,
   "id": "da86fcc0-4ee6-480a-b915-53e6dd4bf90e",
   "metadata": {},
   "outputs": [],
   "source": [
    "from bs4 import BeautifulSoup as soup \n",
    "from urllib.request import urlopen as uReq\n",
    "from urllib.request import Request\n",
    "import time\n",
    "from selenium import webdriver\n",
    "from selenium.webdriver.chrome.options import Options\n",
    "from webdriver_manager.chrome import ChromeDriverManager\n",
    "import pandas as pd\n",
    "import numpy as np\n",
    "import os\n",
    "import re"
   ]
  },
  {
   "cell_type": "code",
   "execution_count": 2,
   "id": "1bff3f6d-df7a-47b1-bccc-1a68e4c14bc1",
   "metadata": {},
   "outputs": [],
   "source": [
    "myurl =  'https://cedh-decklist-database.com'\n",
    "cards = [] # initializes list of all cards"
   ]
  },
  {
   "cell_type": "code",
   "execution_count": 68,
   "id": "e47b0fda-4fc2-44ea-b98e-adaf39caebe5",
   "metadata": {
    "tags": []
   },
   "outputs": [
    {
     "output_type": "execute_result",
     "data": {
      "text/plain": [
       "211"
      ]
     },
     "metadata": {},
     "execution_count": 68
    }
   ],
   "source": [
    "\n",
    "client = uReq(myurl) # opening connection \n",
    "page_html = client.read() # content to variable\n",
    "client.close() # closes connection \n",
    "page_soup = soup(page_html, 'html.parser') # html parsing \n",
    "containers = page_soup.findAll(\"div\",{\"class\": \"ddb-section\"})\n",
    "htmls = []\n",
    "for c in containers:\n",
    "    if c.get_text().strip() == 'COMPETITIVE':\n",
    "        x = c.parent.parent.find(\"ul\", {\"class\": \"ddb-decklists\"})\n",
    "        lis = x.findAll('li')\n",
    "        for li in lis:\n",
    "            htmls.append(li.a[\"href\"])\n",
    "len(htmls)"
   ]
  },
  {
   "cell_type": "code",
   "execution_count": 70,
   "metadata": {},
   "outputs": [
    {
     "output_type": "error",
     "ename": "NameError",
     "evalue": "name 'htmls' is not defined",
     "traceback": [
      "\u001b[1;31m---------------------------------------------------------------------------\u001b[0m",
      "\u001b[1;31mNameError\u001b[0m                                 Traceback (most recent call last)",
      "\u001b[1;32m<ipython-input-70-de61c463b6e6>\u001b[0m in \u001b[0;36m<module>\u001b[1;34m\u001b[0m\n\u001b[0;32m      2\u001b[0m \u001b[1;32mdef\u001b[0m \u001b[0msecond_group\u001b[0m\u001b[1;33m(\u001b[0m\u001b[0mm\u001b[0m\u001b[1;33m)\u001b[0m\u001b[1;33m:\u001b[0m\u001b[1;33m\u001b[0m\u001b[1;33m\u001b[0m\u001b[0m\n\u001b[0;32m      3\u001b[0m     \u001b[1;32mreturn\u001b[0m \u001b[0mm\u001b[0m\u001b[1;33m.\u001b[0m\u001b[0mgroup\u001b[0m\u001b[1;33m(\u001b[0m\u001b[1;36m1\u001b[0m\u001b[1;33m)\u001b[0m\u001b[1;33m\u001b[0m\u001b[1;33m\u001b[0m\u001b[0m\n\u001b[1;32m----> 4\u001b[1;33m \u001b[0mhtmls\u001b[0m \u001b[1;33m=\u001b[0m \u001b[0mlist\u001b[0m\u001b[1;33m(\u001b[0m\u001b[0mmap\u001b[0m\u001b[1;33m(\u001b[0m\u001b[1;32mlambda\u001b[0m \u001b[0mx\u001b[0m\u001b[1;33m:\u001b[0m \u001b[0mre\u001b[0m\u001b[1;33m.\u001b[0m\u001b[0msub\u001b[0m\u001b[1;33m(\u001b[0m\u001b[1;34mr'(.*)/$|(.*)/primer$'\u001b[0m\u001b[1;33m,\u001b[0m\u001b[0msecond_group\u001b[0m\u001b[1;33m,\u001b[0m\u001b[0mx\u001b[0m \u001b[1;33m)\u001b[0m\u001b[1;33m,\u001b[0m \u001b[0mhtmls\u001b[0m\u001b[1;33m)\u001b[0m\u001b[1;33m)\u001b[0m\u001b[1;33m\u001b[0m\u001b[1;33m\u001b[0m\u001b[0m\n\u001b[0m\u001b[0;32m      5\u001b[0m \u001b[0mhtmls\u001b[0m\u001b[1;33m[\u001b[0m\u001b[1;36m128\u001b[0m\u001b[1;33m:\u001b[0m\u001b[1;36m131\u001b[0m\u001b[1;33m]\u001b[0m\u001b[1;33m\u001b[0m\u001b[1;33m\u001b[0m\u001b[0m\n",
      "\u001b[1;31mNameError\u001b[0m: name 'htmls' is not defined"
     ]
    }
   ],
   "source": [
    "#cleaning moxfield primer lists\n",
    "def second_group(m):\n",
    "    return m.group(1)\n",
    "htmls = list(map(lambda x: re.sub(r'(.*)/$|(.*)/primer$',second_group,x ), htmls))\n",
    "htmls[128:131]"
   ]
  },
  {
   "cell_type": "code",
   "execution_count": 16,
   "id": "92ca3760-d056-41b7-b36a-7c0ffbec4213",
   "metadata": {},
   "outputs": [],
   "source": [
    "chromedriver_path=os.path.join(os.getcwd(), \"chromedriver.exe\")\n",
    "options = Options()\n",
    "options.headless = True\n",
    "for decklist in htmls[:4]:\n",
    "    if 'moxfield' in decklist: # checks if its a moxfield deck\n",
    "        driver = webdriver.Chrome(chromedriver_path, options= options)\n",
    "        driver.get(decklist)\n",
    "        time.sleep(5) #if you want to wait 3 seconds for the page to load\n",
    "        page_source = driver.page_source\n",
    "        driver.close()\n",
    "        page_soup = soup(page_source, 'html.parser')\n",
    "        containers = page_soup.findAll(\"tr\",{\"class\": \"table-deck-row\"})\n",
    "        title = page_soup.find(\"span\", {\"class\": \"deckheader-name\"}).get_text()\n",
    "        deck_info = {'Link': decklist, 'Title':title }\n",
    "        deck_cards = []\n",
    "        for c in containers:\n",
    "            c_name = {'Card Name': c.a.get_text()}\n",
    "            deck_cards.append(c_name)\n",
    "        deck_info['Cards'] = deck_cards\n",
    "        cards.append(deck_info)"
   ]
  },
  {
   "cell_type": "code",
   "execution_count": 17,
   "metadata": {},
   "outputs": [
    {
     "output_type": "stream",
     "name": "stdout",
     "text": [
      "{'Link': 'https://www.moxfield.com/decks/1vqfLIEtWkOnZo-ywKQtKA', 'Title': 'Tymna/Sidar Raza', 'Cards': [{'Card Name': 'Sidar Kondo of Jamuraa'}, {'Card Name': 'Tymna the Weaver'}, {'Card Name': 'Arbor Elf'}, {'Card Name': \"Avacyn's Pilgrim\"}, {'Card Name': 'Birds of Paradise'}, {'Card Name': 'Cabal Therapist'}, {'Card Name': 'Collector Ouphe'}, {'Card Name': 'Corpse Knight'}, {'Card Name': 'Dark Confidant'}, {'Card Name': 'Dauthi Voidwalker'}, {'Card Name': 'Deathrite Shaman'}, {'Card Name': 'Drannith Magistrate'}, {'Card Name': 'Elesh Norn, Grand Cenobite'}, {'Card Name': 'Elves of Deep Shadow'}, {'Card Name': 'Elvish Mystic'}, {'Card Name': 'Esper Sentinel'}, {'Card Name': 'Fyndhorn Elves'}, {'Card Name': 'Grim Flayer'}, {'Card Name': 'Hope of Ghirapur'}, {'Card Name': 'Leonin Relic-Warder'}, {'Card Name': 'Llanowar Elves'}, {'Card Name': 'Loyal Retainers'}, {'Card Name': 'Opposition Agent'}, {'Card Name': 'Priest of Titania'}, {'Card Name': 'Razaketh, the Foulblooded'}, {'Card Name': 'Toski, Bearer of Secrets'}, {'Card Name': 'Vilis, Broker of Blood'}, {'Card Name': 'Witherbloom Apprentice'}, {'Card Name': 'Chain of Smog'}, {'Card Name': 'Culling Ritual'}, {'Card Name': 'Demonic Tutor'}, {'Card Name': 'Diabolic Intent'}, {'Card Name': 'Finale of Devastation'}, {'Card Name': 'Imperial Seal'}, {'Card Name': 'Life // Death'}, {'Card Name': 'Reanimate'}, {'Card Name': 'Abrupt Decay'}, {'Card Name': \"Assassin's Trophy\"}, {'Card Name': 'Crop Rotation'}, {'Card Name': 'Dark Ritual'}, {'Card Name': \"Eladamri's Call\"}, {'Card Name': 'Enlightened Tutor'}, {'Card Name': 'Entomb'}, {'Card Name': \"Imp's Mischief\"}, {'Card Name': \"Nature's Claim\"}, {'Card Name': 'Noxious Revival'}, {'Card Name': 'Reap'}, {'Card Name': 'Rushed Rebirth'}, {'Card Name': 'Secure the Wastes'}, {'Card Name': 'Silence'}, {'Card Name': 'Swords to Plowshares'}, {'Card Name': 'Vampiric Tutor'}, {'Card Name': 'Veil of Summer'}, {'Card Name': 'Worldly Tutor'}, {'Card Name': 'Blasting Station'}, {'Card Name': 'Chrome Mox'}, {'Card Name': 'Jeweled Lotus'}, {'Card Name': 'Mana Crypt'}, {'Card Name': 'Mox Diamond'}, {'Card Name': 'Sol Ring'}, {'Card Name': 'Animate Dead'}, {'Card Name': 'Carpet of Flowers'}, {'Card Name': 'Earthcraft'}, {'Card Name': 'Necromancy'}, {'Card Name': 'Necropotence'}, {'Card Name': 'Squirrel Nest'}, {'Card Name': 'Survival of the Fittest'}, {'Card Name': 'Sylvan Library'}, {'Card Name': 'Utopia Sprawl'}, {'Card Name': 'Wild Growth'}, {'Card Name': 'Arid Mesa'}, {'Card Name': 'Bayou'}, {'Card Name': 'Bloodstained Mire'}, {'Card Name': 'Bountiful Promenade'}, {'Card Name': 'City of Brass'}, {'Card Name': 'Command Tower'}, {'Card Name': 'Exotic Orchard'}, {'Card Name': 'Flooded Strand'}, {'Card Name': 'Forbidden Orchard'}, {'Card Name': \"Gaea's Cradle\"}, {'Card Name': 'Godless Shrine'}, {'Card Name': 'Horizon Canopy'}, {'Card Name': 'Mana Confluence'}, {'Card Name': 'Marsh Flats'}, {'Card Name': 'Misty Rainforest'}, {'Card Name': 'Nurturing Peatland'}, {'Card Name': 'Overgrown Tomb'}, {'Card Name': 'Phyrexian Tower'}, {'Card Name': 'Polluted Delta'}, {'Card Name': 'Prismatic Vista'}, {'Card Name': 'Savannah'}, {'Card Name': 'Scrubland'}, {'Card Name': 'Snow-Covered Forest'}, {'Card Name': 'Snow-Covered Swamp'}, {'Card Name': 'Temple Garden'}, {'Card Name': 'Undergrowth Stadium'}, {'Card Name': 'Verdant Catacombs'}, {'Card Name': 'Windswept Heath'}, {'Card Name': 'Wooded Foothills'}, {'Card Name': 'Branchloft Pathway'}, {'Card Name': 'Darkbore Pathway'}, {'Card Name': 'Deadly Rollick'}, {'Card Name': 'Fauna Shaman'}, {'Card Name': 'Oakhame Adversary'}, {'Card Name': 'Thalia, Guardian of Thraben'}, {'Card Name': 'Toxic Deluge'}, {'Card Name': 'Zealous Persecution'}, {'Card Name': 'Chrome Mox'}, {'Card Name': 'Jeweled Lotus'}, {'Card Name': 'Mana Crypt'}, {'Card Name': 'Mox Diamond'}]}\n"
     ]
    }
   ],
   "source": [
    "print(cards[0])"
   ]
  },
  {
   "cell_type": "code",
   "execution_count": 18,
   "metadata": {},
   "outputs": [],
   "source": [
    "df = pd.json_normalize(cards,\n",
    "    record_path='Cards', meta=['Link', 'Title'])"
   ]
  },
  {
   "cell_type": "code",
   "execution_count": 20,
   "metadata": {},
   "outputs": [
    {
     "output_type": "execute_result",
     "data": {
      "text/plain": [
       "Tymna/Sidar Raza                 111\n",
       "[Primer] Rog Turbo Ad Nauseam    111\n",
       "Frozen Scepter Parun 2.0         105\n",
       "Niv-Mizzet, Parun                100\n",
       "Name: Title, dtype: int64"
      ]
     },
     "metadata": {},
     "execution_count": 20
    }
   ],
   "source": [
    "df['Title'].value_counts()"
   ]
  },
  {
   "cell_type": "code",
   "execution_count": 84,
   "metadata": {},
   "outputs": [
    {
     "output_type": "execute_result",
     "data": {
      "text/plain": [
       "          Card Name                                              Title  \\\n",
       "0     Academy Ruins                 [Brago, playing cedh with Azorius]   \n",
       "1    Adarkar Wastes                 [Brago, playing cedh with Azorius]   \n",
       "2      Ancient Tomb  [Brago, playing cedh with Azorius, Evolution: ...   \n",
       "3     Arcane Signet  [Brago, playing cedh with Azorius, Evolution: ...   \n",
       "4  Archon of Emeria                 [Brago, playing cedh with Azorius]   \n",
       "\n",
       "                                                Link  \n",
       "0  [https://www.moxfield.com/decks/hbLMs7xcfUyun2...  \n",
       "1  [https://www.moxfield.com/decks/hbLMs7xcfUyun2...  \n",
       "2  [https://www.moxfield.com/decks/hbLMs7xcfUyun2...  \n",
       "3  [https://www.moxfield.com/decks/hbLMs7xcfUyun2...  \n",
       "4  [https://www.moxfield.com/decks/hbLMs7xcfUyun2...  "
      ],
      "text/html": "<div>\n<style scoped>\n    .dataframe tbody tr th:only-of-type {\n        vertical-align: middle;\n    }\n\n    .dataframe tbody tr th {\n        vertical-align: top;\n    }\n\n    .dataframe thead th {\n        text-align: right;\n    }\n</style>\n<table border=\"1\" class=\"dataframe\">\n  <thead>\n    <tr style=\"text-align: right;\">\n      <th></th>\n      <th>Card Name</th>\n      <th>Title</th>\n      <th>Link</th>\n    </tr>\n  </thead>\n  <tbody>\n    <tr>\n      <th>0</th>\n      <td>Academy Ruins</td>\n      <td>[Brago, playing cedh with Azorius]</td>\n      <td>[https://www.moxfield.com/decks/hbLMs7xcfUyun2...</td>\n    </tr>\n    <tr>\n      <th>1</th>\n      <td>Adarkar Wastes</td>\n      <td>[Brago, playing cedh with Azorius]</td>\n      <td>[https://www.moxfield.com/decks/hbLMs7xcfUyun2...</td>\n    </tr>\n    <tr>\n      <th>2</th>\n      <td>Ancient Tomb</td>\n      <td>[Brago, playing cedh with Azorius, Evolution: ...</td>\n      <td>[https://www.moxfield.com/decks/hbLMs7xcfUyun2...</td>\n    </tr>\n    <tr>\n      <th>3</th>\n      <td>Arcane Signet</td>\n      <td>[Brago, playing cedh with Azorius, Evolution: ...</td>\n      <td>[https://www.moxfield.com/decks/hbLMs7xcfUyun2...</td>\n    </tr>\n    <tr>\n      <th>4</th>\n      <td>Archon of Emeria</td>\n      <td>[Brago, playing cedh with Azorius]</td>\n      <td>[https://www.moxfield.com/decks/hbLMs7xcfUyun2...</td>\n    </tr>\n  </tbody>\n</table>\n</div>"
     },
     "metadata": {},
     "execution_count": 84
    }
   ],
   "source": [
    "df_1 = df.groupby('Card Name')['Title'].apply(list).reset_index()\n",
    "df_2 = df.groupby('Card Name')['Link'].apply(list).reset_index()\n",
    "df_12 = pd.merge(df_1, df_2, on='Card Name')\n",
    "df_12.head()"
   ]
  },
  {
   "cell_type": "code",
   "execution_count": 77,
   "metadata": {},
   "outputs": [
    {
     "output_type": "execute_result",
     "data": {
      "text/plain": [
       "                 Card Name  Ocurrences\n",
       "0               Chrome Mox           5\n",
       "1              Lotus Petal           5\n",
       "2               Mana Crypt           5\n",
       "3              Mox Diamond           5\n",
       "4            Jeweled Lotus           3\n",
       "..                     ...         ...\n",
       "151  Sensei's Divining Top           1\n",
       "152        Prismatic Vista           1\n",
       "153            Timetwister           1\n",
       "154      Waterlogged Grove           1\n",
       "155  Venser, Shaper Savant           1\n",
       "\n",
       "[156 rows x 2 columns]"
      ],
      "text/html": "<div>\n<style scoped>\n    .dataframe tbody tr th:only-of-type {\n        vertical-align: middle;\n    }\n\n    .dataframe tbody tr th {\n        vertical-align: top;\n    }\n\n    .dataframe thead th {\n        text-align: right;\n    }\n</style>\n<table border=\"1\" class=\"dataframe\">\n  <thead>\n    <tr style=\"text-align: right;\">\n      <th></th>\n      <th>Card Name</th>\n      <th>Ocurrences</th>\n    </tr>\n  </thead>\n  <tbody>\n    <tr>\n      <th>0</th>\n      <td>Chrome Mox</td>\n      <td>5</td>\n    </tr>\n    <tr>\n      <th>1</th>\n      <td>Lotus Petal</td>\n      <td>5</td>\n    </tr>\n    <tr>\n      <th>2</th>\n      <td>Mana Crypt</td>\n      <td>5</td>\n    </tr>\n    <tr>\n      <th>3</th>\n      <td>Mox Diamond</td>\n      <td>5</td>\n    </tr>\n    <tr>\n      <th>4</th>\n      <td>Jeweled Lotus</td>\n      <td>3</td>\n    </tr>\n    <tr>\n      <th>...</th>\n      <td>...</td>\n      <td>...</td>\n    </tr>\n    <tr>\n      <th>151</th>\n      <td>Sensei's Divining Top</td>\n      <td>1</td>\n    </tr>\n    <tr>\n      <th>152</th>\n      <td>Prismatic Vista</td>\n      <td>1</td>\n    </tr>\n    <tr>\n      <th>153</th>\n      <td>Timetwister</td>\n      <td>1</td>\n    </tr>\n    <tr>\n      <th>154</th>\n      <td>Waterlogged Grove</td>\n      <td>1</td>\n    </tr>\n    <tr>\n      <th>155</th>\n      <td>Venser, Shaper Savant</td>\n      <td>1</td>\n    </tr>\n  </tbody>\n</table>\n<p>156 rows × 2 columns</p>\n</div>"
     },
     "metadata": {},
     "execution_count": 77
    }
   ],
   "source": [
    "card_vc = df['Card Name'].value_counts()\n",
    "card_vc = card_vc.reset_index()\n",
    "card_vc.rename( columns={'index' :'Card Name', 'Card Name':'Ocurrences'}, inplace=True )#columns names\n",
    "card_vc"
   ]
  },
  {
   "cell_type": "code",
   "execution_count": 95,
   "metadata": {},
   "outputs": [],
   "source": [
    "card_vc.to_json('results/competitiveCards.json', orient='records')\n",
    "card_vc.to_csv('results/competitive_cards.csv')"
   ]
  },
  {
   "cell_type": "code",
   "execution_count": 85,
   "metadata": {},
   "outputs": [
    {
     "output_type": "execute_result",
     "data": {
      "text/plain": [
       "          Card Name                                              Title  \\\n",
       "0     Academy Ruins                 [Brago, playing cedh with Azorius]   \n",
       "1    Adarkar Wastes                 [Brago, playing cedh with Azorius]   \n",
       "2      Ancient Tomb  [Brago, playing cedh with Azorius, Evolution: ...   \n",
       "3     Arcane Signet  [Brago, playing cedh with Azorius, Evolution: ...   \n",
       "4  Archon of Emeria                 [Brago, playing cedh with Azorius]   \n",
       "\n",
       "                                                Link  Ocurrences  \n",
       "0  [https://www.moxfield.com/decks/hbLMs7xcfUyun2...           1  \n",
       "1  [https://www.moxfield.com/decks/hbLMs7xcfUyun2...           1  \n",
       "2  [https://www.moxfield.com/decks/hbLMs7xcfUyun2...           2  \n",
       "3  [https://www.moxfield.com/decks/hbLMs7xcfUyun2...           2  \n",
       "4  [https://www.moxfield.com/decks/hbLMs7xcfUyun2...           1  "
      ],
      "text/html": "<div>\n<style scoped>\n    .dataframe tbody tr th:only-of-type {\n        vertical-align: middle;\n    }\n\n    .dataframe tbody tr th {\n        vertical-align: top;\n    }\n\n    .dataframe thead th {\n        text-align: right;\n    }\n</style>\n<table border=\"1\" class=\"dataframe\">\n  <thead>\n    <tr style=\"text-align: right;\">\n      <th></th>\n      <th>Card Name</th>\n      <th>Title</th>\n      <th>Link</th>\n      <th>Ocurrences</th>\n    </tr>\n  </thead>\n  <tbody>\n    <tr>\n      <th>0</th>\n      <td>Academy Ruins</td>\n      <td>[Brago, playing cedh with Azorius]</td>\n      <td>[https://www.moxfield.com/decks/hbLMs7xcfUyun2...</td>\n      <td>1</td>\n    </tr>\n    <tr>\n      <th>1</th>\n      <td>Adarkar Wastes</td>\n      <td>[Brago, playing cedh with Azorius]</td>\n      <td>[https://www.moxfield.com/decks/hbLMs7xcfUyun2...</td>\n      <td>1</td>\n    </tr>\n    <tr>\n      <th>2</th>\n      <td>Ancient Tomb</td>\n      <td>[Brago, playing cedh with Azorius, Evolution: ...</td>\n      <td>[https://www.moxfield.com/decks/hbLMs7xcfUyun2...</td>\n      <td>2</td>\n    </tr>\n    <tr>\n      <th>3</th>\n      <td>Arcane Signet</td>\n      <td>[Brago, playing cedh with Azorius, Evolution: ...</td>\n      <td>[https://www.moxfield.com/decks/hbLMs7xcfUyun2...</td>\n      <td>2</td>\n    </tr>\n    <tr>\n      <th>4</th>\n      <td>Archon of Emeria</td>\n      <td>[Brago, playing cedh with Azorius]</td>\n      <td>[https://www.moxfield.com/decks/hbLMs7xcfUyun2...</td>\n      <td>1</td>\n    </tr>\n  </tbody>\n</table>\n</div>"
     },
     "metadata": {},
     "execution_count": 85
    }
   ],
   "source": [
    "full_cards = pd.merge(df_12,card_vc, on = 'Card Name')\n",
    "full_cards.head()"
   ]
  },
  {
   "cell_type": "code",
   "execution_count": 86,
   "metadata": {},
   "outputs": [],
   "source": [
    "full_cards.to_json('results/competitiveCards_full.json', orient='records')"
   ]
  },
  {
   "cell_type": "code",
   "execution_count": 96,
   "metadata": {},
   "outputs": [
    {
     "output_type": "execute_result",
     "data": {
      "text/plain": [
       "   Quantity                                               Name\n",
       "0         1                           Tasigur, the Golden Fang\n",
       "1         1                             Witherbloom Apprentice\n",
       "2         1                                  Emiel the Blessed\n",
       "3         1  Valentin, Dean of the Vein // Lisette, Dean of...\n",
       "4         1                                      Goblin Matron"
      ],
      "text/html": "<div>\n<style scoped>\n    .dataframe tbody tr th:only-of-type {\n        vertical-align: middle;\n    }\n\n    .dataframe tbody tr th {\n        vertical-align: top;\n    }\n\n    .dataframe thead th {\n        text-align: right;\n    }\n</style>\n<table border=\"1\" class=\"dataframe\">\n  <thead>\n    <tr style=\"text-align: right;\">\n      <th></th>\n      <th>Quantity</th>\n      <th>Name</th>\n    </tr>\n  </thead>\n  <tbody>\n    <tr>\n      <th>0</th>\n      <td>1</td>\n      <td>Tasigur, the Golden Fang</td>\n    </tr>\n    <tr>\n      <th>1</th>\n      <td>1</td>\n      <td>Witherbloom Apprentice</td>\n    </tr>\n    <tr>\n      <th>2</th>\n      <td>1</td>\n      <td>Emiel the Blessed</td>\n    </tr>\n    <tr>\n      <th>3</th>\n      <td>1</td>\n      <td>Valentin, Dean of the Vein // Lisette, Dean of...</td>\n    </tr>\n    <tr>\n      <th>4</th>\n      <td>1</td>\n      <td>Goblin Matron</td>\n    </tr>\n  </tbody>\n</table>\n</div>"
     },
     "metadata": {},
     "execution_count": 96
    }
   ],
   "source": [
    "my_collection = pd.read_csv('ArchidektCollection-Sat Jul 10 2021.csv')\n",
    "my_collection.head()"
   ]
  },
  {
   "cell_type": "code",
   "execution_count": 97,
   "metadata": {},
   "outputs": [
    {
     "output_type": "execute_result",
     "data": {
      "text/plain": [
       "                      Card Name  Occurences  Quantity Name     _merge\n",
       "34                Imperial Seal         193       NaN  NaN  left_only\n",
       "52                  Timetwister         144       NaN  NaN  left_only\n",
       "61             Wheel of Fortune         137       NaN  NaN  left_only\n",
       "82              Volcanic Island         110       NaN  NaN  left_only\n",
       "90                     Badlands         106       NaN  NaN  left_only\n",
       "93                 Necropotence         102       NaN  NaN  left_only\n",
       "96                Gaea's Cradle          99       NaN  NaN  left_only\n",
       "121             Cavern of Souls          79       NaN  NaN  left_only\n",
       "130                    Savannah          75       NaN  NaN  left_only\n",
       "135                       Taiga          72       NaN  NaN  left_only\n",
       "147                   Scrubland          65       NaN  NaN  left_only\n",
       "180  Birgi, God of Storytelling          49       NaN  NaN  left_only\n",
       "186       Shatterskull Smashing          46       NaN  NaN  left_only\n",
       "192          Solve the Equation          44       NaN  NaN  left_only\n",
       "211        Sea Gate Restoration          37       NaN  NaN  left_only\n",
       "218         Allosaurus Shepherd          36       NaN  NaN  left_only\n",
       "220          Transmute Artifact          36       NaN  NaN  left_only\n",
       "232                   Twinflame          31       NaN  NaN  left_only\n",
       "247                    Resculpt          29       NaN  NaN  left_only\n",
       "271           Wandering Archaic          25       NaN  NaN  left_only\n",
       "275            Darkslick Shores          24       NaN  NaN  left_only\n",
       "305               Shallow Grave          21       NaN  NaN  left_only\n",
       "312            Loyal Apprentice          21       NaN  NaN  left_only\n",
       "314      Vilis, Broker of Blood          20       NaN  NaN  left_only\n",
       "345                Manamorphose          17       NaN  NaN  left_only\n",
       "347           Archmage Emeritus          16       NaN  NaN  left_only\n",
       "351              Personal Tutor          16       NaN  NaN  left_only\n",
       "354        Tana, the Bloodsower          16       NaN  NaN  left_only\n",
       "355                Thoughtseize          16       NaN  NaN  left_only\n",
       "357         Capture of Jingzhou          16       NaN  NaN  left_only\n",
       "360  Elesh Norn, Grand Cenobite          16       NaN  NaN  left_only\n",
       "367        Turntimber Symbiosis          15       NaN  NaN  left_only\n",
       "393          Vault of Champions          14       NaN  NaN  left_only\n",
       "404          Riverglide Pathway          13       NaN  NaN  left_only\n",
       "409    Chains of Mephistopheles          13       NaN  NaN  left_only\n",
       "419         Agadeem's Awakening          12       NaN  NaN  left_only\n",
       "424               Graven Cairns          12       NaN  NaN  left_only\n",
       "426                Sylvan Tutor          12       NaN  NaN  left_only\n",
       "429          Clearwater Pathway          12       NaN  NaN  left_only\n",
       "442        Jace, Vryn's Prodigy          11       NaN  NaN  left_only"
      ],
      "text/html": "<div>\n<style scoped>\n    .dataframe tbody tr th:only-of-type {\n        vertical-align: middle;\n    }\n\n    .dataframe tbody tr th {\n        vertical-align: top;\n    }\n\n    .dataframe thead th {\n        text-align: right;\n    }\n</style>\n<table border=\"1\" class=\"dataframe\">\n  <thead>\n    <tr style=\"text-align: right;\">\n      <th></th>\n      <th>Card Name</th>\n      <th>Occurences</th>\n      <th>Quantity</th>\n      <th>Name</th>\n      <th>_merge</th>\n    </tr>\n  </thead>\n  <tbody>\n    <tr>\n      <th>34</th>\n      <td>Imperial Seal</td>\n      <td>193</td>\n      <td>NaN</td>\n      <td>NaN</td>\n      <td>left_only</td>\n    </tr>\n    <tr>\n      <th>52</th>\n      <td>Timetwister</td>\n      <td>144</td>\n      <td>NaN</td>\n      <td>NaN</td>\n      <td>left_only</td>\n    </tr>\n    <tr>\n      <th>61</th>\n      <td>Wheel of Fortune</td>\n      <td>137</td>\n      <td>NaN</td>\n      <td>NaN</td>\n      <td>left_only</td>\n    </tr>\n    <tr>\n      <th>82</th>\n      <td>Volcanic Island</td>\n      <td>110</td>\n      <td>NaN</td>\n      <td>NaN</td>\n      <td>left_only</td>\n    </tr>\n    <tr>\n      <th>90</th>\n      <td>Badlands</td>\n      <td>106</td>\n      <td>NaN</td>\n      <td>NaN</td>\n      <td>left_only</td>\n    </tr>\n    <tr>\n      <th>93</th>\n      <td>Necropotence</td>\n      <td>102</td>\n      <td>NaN</td>\n      <td>NaN</td>\n      <td>left_only</td>\n    </tr>\n    <tr>\n      <th>96</th>\n      <td>Gaea's Cradle</td>\n      <td>99</td>\n      <td>NaN</td>\n      <td>NaN</td>\n      <td>left_only</td>\n    </tr>\n    <tr>\n      <th>121</th>\n      <td>Cavern of Souls</td>\n      <td>79</td>\n      <td>NaN</td>\n      <td>NaN</td>\n      <td>left_only</td>\n    </tr>\n    <tr>\n      <th>130</th>\n      <td>Savannah</td>\n      <td>75</td>\n      <td>NaN</td>\n      <td>NaN</td>\n      <td>left_only</td>\n    </tr>\n    <tr>\n      <th>135</th>\n      <td>Taiga</td>\n      <td>72</td>\n      <td>NaN</td>\n      <td>NaN</td>\n      <td>left_only</td>\n    </tr>\n    <tr>\n      <th>147</th>\n      <td>Scrubland</td>\n      <td>65</td>\n      <td>NaN</td>\n      <td>NaN</td>\n      <td>left_only</td>\n    </tr>\n    <tr>\n      <th>180</th>\n      <td>Birgi, God of Storytelling</td>\n      <td>49</td>\n      <td>NaN</td>\n      <td>NaN</td>\n      <td>left_only</td>\n    </tr>\n    <tr>\n      <th>186</th>\n      <td>Shatterskull Smashing</td>\n      <td>46</td>\n      <td>NaN</td>\n      <td>NaN</td>\n      <td>left_only</td>\n    </tr>\n    <tr>\n      <th>192</th>\n      <td>Solve the Equation</td>\n      <td>44</td>\n      <td>NaN</td>\n      <td>NaN</td>\n      <td>left_only</td>\n    </tr>\n    <tr>\n      <th>211</th>\n      <td>Sea Gate Restoration</td>\n      <td>37</td>\n      <td>NaN</td>\n      <td>NaN</td>\n      <td>left_only</td>\n    </tr>\n    <tr>\n      <th>218</th>\n      <td>Allosaurus Shepherd</td>\n      <td>36</td>\n      <td>NaN</td>\n      <td>NaN</td>\n      <td>left_only</td>\n    </tr>\n    <tr>\n      <th>220</th>\n      <td>Transmute Artifact</td>\n      <td>36</td>\n      <td>NaN</td>\n      <td>NaN</td>\n      <td>left_only</td>\n    </tr>\n    <tr>\n      <th>232</th>\n      <td>Twinflame</td>\n      <td>31</td>\n      <td>NaN</td>\n      <td>NaN</td>\n      <td>left_only</td>\n    </tr>\n    <tr>\n      <th>247</th>\n      <td>Resculpt</td>\n      <td>29</td>\n      <td>NaN</td>\n      <td>NaN</td>\n      <td>left_only</td>\n    </tr>\n    <tr>\n      <th>271</th>\n      <td>Wandering Archaic</td>\n      <td>25</td>\n      <td>NaN</td>\n      <td>NaN</td>\n      <td>left_only</td>\n    </tr>\n    <tr>\n      <th>275</th>\n      <td>Darkslick Shores</td>\n      <td>24</td>\n      <td>NaN</td>\n      <td>NaN</td>\n      <td>left_only</td>\n    </tr>\n    <tr>\n      <th>305</th>\n      <td>Shallow Grave</td>\n      <td>21</td>\n      <td>NaN</td>\n      <td>NaN</td>\n      <td>left_only</td>\n    </tr>\n    <tr>\n      <th>312</th>\n      <td>Loyal Apprentice</td>\n      <td>21</td>\n      <td>NaN</td>\n      <td>NaN</td>\n      <td>left_only</td>\n    </tr>\n    <tr>\n      <th>314</th>\n      <td>Vilis, Broker of Blood</td>\n      <td>20</td>\n      <td>NaN</td>\n      <td>NaN</td>\n      <td>left_only</td>\n    </tr>\n    <tr>\n      <th>345</th>\n      <td>Manamorphose</td>\n      <td>17</td>\n      <td>NaN</td>\n      <td>NaN</td>\n      <td>left_only</td>\n    </tr>\n    <tr>\n      <th>347</th>\n      <td>Archmage Emeritus</td>\n      <td>16</td>\n      <td>NaN</td>\n      <td>NaN</td>\n      <td>left_only</td>\n    </tr>\n    <tr>\n      <th>351</th>\n      <td>Personal Tutor</td>\n      <td>16</td>\n      <td>NaN</td>\n      <td>NaN</td>\n      <td>left_only</td>\n    </tr>\n    <tr>\n      <th>354</th>\n      <td>Tana, the Bloodsower</td>\n      <td>16</td>\n      <td>NaN</td>\n      <td>NaN</td>\n      <td>left_only</td>\n    </tr>\n    <tr>\n      <th>355</th>\n      <td>Thoughtseize</td>\n      <td>16</td>\n      <td>NaN</td>\n      <td>NaN</td>\n      <td>left_only</td>\n    </tr>\n    <tr>\n      <th>357</th>\n      <td>Capture of Jingzhou</td>\n      <td>16</td>\n      <td>NaN</td>\n      <td>NaN</td>\n      <td>left_only</td>\n    </tr>\n    <tr>\n      <th>360</th>\n      <td>Elesh Norn, Grand Cenobite</td>\n      <td>16</td>\n      <td>NaN</td>\n      <td>NaN</td>\n      <td>left_only</td>\n    </tr>\n    <tr>\n      <th>367</th>\n      <td>Turntimber Symbiosis</td>\n      <td>15</td>\n      <td>NaN</td>\n      <td>NaN</td>\n      <td>left_only</td>\n    </tr>\n    <tr>\n      <th>393</th>\n      <td>Vault of Champions</td>\n      <td>14</td>\n      <td>NaN</td>\n      <td>NaN</td>\n      <td>left_only</td>\n    </tr>\n    <tr>\n      <th>404</th>\n      <td>Riverglide Pathway</td>\n      <td>13</td>\n      <td>NaN</td>\n      <td>NaN</td>\n      <td>left_only</td>\n    </tr>\n    <tr>\n      <th>409</th>\n      <td>Chains of Mephistopheles</td>\n      <td>13</td>\n      <td>NaN</td>\n      <td>NaN</td>\n      <td>left_only</td>\n    </tr>\n    <tr>\n      <th>419</th>\n      <td>Agadeem's Awakening</td>\n      <td>12</td>\n      <td>NaN</td>\n      <td>NaN</td>\n      <td>left_only</td>\n    </tr>\n    <tr>\n      <th>424</th>\n      <td>Graven Cairns</td>\n      <td>12</td>\n      <td>NaN</td>\n      <td>NaN</td>\n      <td>left_only</td>\n    </tr>\n    <tr>\n      <th>426</th>\n      <td>Sylvan Tutor</td>\n      <td>12</td>\n      <td>NaN</td>\n      <td>NaN</td>\n      <td>left_only</td>\n    </tr>\n    <tr>\n      <th>429</th>\n      <td>Clearwater Pathway</td>\n      <td>12</td>\n      <td>NaN</td>\n      <td>NaN</td>\n      <td>left_only</td>\n    </tr>\n    <tr>\n      <th>442</th>\n      <td>Jace, Vryn's Prodigy</td>\n      <td>11</td>\n      <td>NaN</td>\n      <td>NaN</td>\n      <td>left_only</td>\n    </tr>\n  </tbody>\n</table>\n</div>"
     },
     "metadata": {},
     "execution_count": 97
    }
   ],
   "source": [
    "sd = pd.merge(card_vc,my_collection, how='left', left_on='Card Name', right_on='Name', indicator=True)\n",
    "sd[sd['_merge']=='left_only'].head(40)"
   ]
  },
  {
   "cell_type": "code",
   "execution_count": 66,
   "metadata": {},
   "outputs": [
    {
     "output_type": "execute_result",
     "data": {
      "text/plain": [
       "Blood Farm            116\n",
       "BAD Korvold (cEDH)    107\n",
       "Consultation Zur      100\n",
       "Marwyn, nerfed         73\n",
       "Name: Title, dtype: int64"
      ]
     },
     "metadata": {},
     "execution_count": 66
    }
   ],
   "source": [
    "htmls = ['https://www.moxfield.com/decks/1t0Cpm1xqUeyA-6xi2TrGQ','https://www.moxfield.com/decks/_4HeABv9DEeykmnZy1JICg', 'https://www.moxfield.com/decks/Re-_xtEbCkyNdH69vyGR8w','https://www.moxfield.com/decks/TnwluHJbcU2-Ioz8Op4txw']\n",
    "# htmls = ['https://www.moxfield.com/decks/1t0Cpm1xqUeyA-6xi2TrGQ']\n",
    "cards = []\n",
    "chromedriver_path=os.path.join(os.getcwd(), \"chromedriver.exe\")\n",
    "options = Options()\n",
    "options.headless = True\n",
    "driver = webdriver.Chrome(chromedriver_path, options= options)\n",
    "for decklist in htmls:\n",
    "    if 'moxfield' in decklist: # checks if its a moxfield deck\n",
    "        driver.get(decklist)\n",
    "        time.sleep(3) #if you want to wait 3 seconds for the page to load\n",
    "        mode = driver.find_element_by_id('viewMode').get_attribute('value')\n",
    "        page_source = driver.page_source\n",
    "        page_soup = soup(page_source, 'html.parser')\n",
    "        title = page_soup.find(\"span\", {\"class\": \"deckheader-name\"}).get_text()\n",
    "        deck_info = {'Link': decklist, 'Title':title }\n",
    "        if mode == 'table': \n",
    "            containers = page_soup.findAll(\"tr\",{\"class\": \"table-deck-row\"})\n",
    "            deck_cards = []\n",
    "            #TODO: Find only decklist cards \n",
    "            for c in containers:\n",
    "                c_name = {'Card Name': c.a.get_text()}\n",
    "                deck_cards.append(c_name)\n",
    "            deck_info['Cards'] = deck_cards\n",
    "            cards.append(deck_info)\n",
    "        elif mode == 'visual':\n",
    "            containers = page_soup.findAll(\"div\",{\"class\": \"decklist-card-phantomsearch\"})\n",
    "            deck_cards = []\n",
    "            #TODO: Find only decklist cards \n",
    "            for c in containers:\n",
    "                c_name = {'Card Name': c.get_text()}\n",
    "                deck_cards.append(c_name)\n",
    "            deck_info['Cards'] = deck_cards\n",
    "            cards.append(deck_info)\n",
    "        elif mode == 'stacks':\n",
    "            containers = page_soup.findAll(\"div\",{\"class\": \"img-card-stack\"})\n",
    "            deck_cards = []\n",
    "            #TODO: Find only decklist cards \n",
    "            for c in containers:\n",
    "                c_name = {'Card Name': c.img['alt']}\n",
    "                deck_cards.append(c_name)\n",
    "            deck_info['Cards'] = deck_cards\n",
    "            cards.append(deck_info)\n",
    "\n",
    "df = pd.json_normalize(cards,\n",
    "    record_path='Cards', meta=['Link', 'Title'])\n",
    "df['Title'].value_counts()"
   ]
  },
  {
   "cell_type": "code",
   "execution_count": 74,
   "metadata": {},
   "outputs": [
    {
     "output_type": "execute_result",
     "data": {
      "text/plain": [
       "<bound method DataFrame.nunique of                     Card Name  \\\n",
       "0              Abandon Reason   \n",
       "1                    Abeyance   \n",
       "2                      Abrade   \n",
       "3                Abrupt Decay   \n",
       "4                   Abundance   \n",
       "...                       ...   \n",
       "1549     Zirda, the Dawnwaker   \n",
       "1550  Zndrsplt, Eye of Wisdom   \n",
       "1551       Zulaport Cutthroat   \n",
       "1552        Zur the Enchanter   \n",
       "1553           Zur's Weirding   \n",
       "\n",
       "                                                  Title  \\\n",
       "0                             [Filter Anje cEDH Primer]   \n",
       "1                        [Heliod II: Sunshine Boogaloo]   \n",
       "2     [Frozen Scepter Parun 2.0, Rielle Adaptative W...   \n",
       "3     [Tymna/Sidar Raza, The King's Chain, Medium Mi...   \n",
       "4                             [Simic Ad Naus in the CZ]   \n",
       "...                                                 ...   \n",
       "1549     [Dawnwaker Thrasios, Advantage Blue Pod (ABP)]   \n",
       "1550           [🎲 50% of the Time, I Lose Every Time 🎲]   \n",
       "1551  [Turbo Poison Hulk, Demoncratic Markov, The Gr...   \n",
       "1552  [Consultation Zur, Shining Shimmering Splendor...   \n",
       "1553                          [Make no Gravetide Image]   \n",
       "\n",
       "                                                   Link  Ocurrences  \n",
       "0     [https://www.moxfield.com/decks/PFGBjM5BnESfH9...           1  \n",
       "1     [https://www.moxfield.com/decks/rohOeIs-dEmA1L...           1  \n",
       "2     [https://www.moxfield.com/decks/belqftDqDEWVEZ...          34  \n",
       "3     [https://www.moxfield.com/decks/1vqfLIEtWkOnZo...          65  \n",
       "4     [https://www.moxfield.com/decks/Vva2blXPDEWTPC...           1  \n",
       "...                                                 ...         ...  \n",
       "1549  [https://www.moxfield.com/decks/kLygDHVCskGtvw...           2  \n",
       "1550  [https://www.moxfield.com/decks/gMN5-x51uE2eSl...           1  \n",
       "1551  [https://www.moxfield.com/decks/3jJGHnq1-UO_dH...           3  \n",
       "1552  [https://www.moxfield.com/decks/1t0Cpm1xqUeyA-...           3  \n",
       "1553  [https://www.moxfield.com/decks/qULIEoTSeUqKxm...           1  \n",
       "\n",
       "[1554 rows x 4 columns]>"
      ]
     },
     "metadata": {},
     "execution_count": 74
    }
   ],
   "source": [
    "df = pd.read_json('results/competitiveCards_full.json')\n",
    "df.nunique"
   ]
  },
  {
   "cell_type": "code",
   "execution_count": 72,
   "metadata": {},
   "outputs": [
    {
     "output_type": "execute_result",
     "data": {
      "text/plain": [
       "       Card Name  Ocurrences\n",
       "0     Mana Crypt         406\n",
       "1     Chrome Mox         404\n",
       "2    Mox Diamond         400\n",
       "3    Lotus Petal         316\n",
       "4  Jeweled Lotus         247"
      ],
      "text/html": "<div>\n<style scoped>\n    .dataframe tbody tr th:only-of-type {\n        vertical-align: middle;\n    }\n\n    .dataframe tbody tr th {\n        vertical-align: top;\n    }\n\n    .dataframe thead th {\n        text-align: right;\n    }\n</style>\n<table border=\"1\" class=\"dataframe\">\n  <thead>\n    <tr style=\"text-align: right;\">\n      <th></th>\n      <th>Card Name</th>\n      <th>Ocurrences</th>\n    </tr>\n  </thead>\n  <tbody>\n    <tr>\n      <th>0</th>\n      <td>Mana Crypt</td>\n      <td>406</td>\n    </tr>\n    <tr>\n      <th>1</th>\n      <td>Chrome Mox</td>\n      <td>404</td>\n    </tr>\n    <tr>\n      <th>2</th>\n      <td>Mox Diamond</td>\n      <td>400</td>\n    </tr>\n    <tr>\n      <th>3</th>\n      <td>Lotus Petal</td>\n      <td>316</td>\n    </tr>\n    <tr>\n      <th>4</th>\n      <td>Jeweled Lotus</td>\n      <td>247</td>\n    </tr>\n  </tbody>\n</table>\n</div>"
     },
     "metadata": {},
     "execution_count": 72
    }
   ],
   "source": [
    "df = pd.read_json('results/competitiveCards.json')\n",
    "df.head()"
   ]
  },
  {
   "cell_type": "code",
   "execution_count": 53,
   "metadata": {},
   "outputs": [],
   "source": [
    "scry = pd.read_json('results/scryfall_oracle.json')\n",
    "\n",
    "cedh = pd.read_json('results/competitiveCards_full.json')"
   ]
  },
  {
   "cell_type": "code",
   "execution_count": 74,
   "metadata": {},
   "outputs": [],
   "source": [
    "scry2 = scry[~scry['type_line'].str.contains(r'\\bToken\\b')]\n",
    "scry3 = scry[scry['multiverse_ids'].str.len() != 0].copy()"
   ]
  },
  {
   "cell_type": "code",
   "execution_count": 75,
   "metadata": {},
   "outputs": [
    {
     "output_type": "execute_result",
     "data": {
      "text/plain": [
       "Garbage Elemental             6\n",
       "Sly Spy                       6\n",
       "Very Cryptic Command          6\n",
       "Knight of the Kitchen Sink    6\n",
       "Ineffable Blessing            6\n",
       "Everythingamajig              6\n",
       "B.F.M. (Big Furry Monster)    2\n",
       "Heart-Piercer Bow             1\n",
       "Vaultbreaker                  1\n",
       "Ogre Battledriver             1\n",
       "Wall of Vapor                 1\n",
       "Foul-Tongue Invocation        1\n",
       "Returned Centaur              1\n",
       "Granitic Titan                1\n",
       "Maulfist Squad                1\n",
       "Early Frost                   1\n",
       "Curse of Fool's Wisdom        1\n",
       "Oracle of Nectars             1\n",
       "Pardic Lancer                 1\n",
       "Sequence Engine               1\n",
       "Name: name, dtype: int64"
      ]
     },
     "metadata": {},
     "execution_count": 75
    }
   ],
   "source": [
    "scry3['name'].value_counts().sort_values(ascending=False).head(20)"
   ]
  },
  {
   "cell_type": "code",
   "execution_count": 68,
   "metadata": {},
   "outputs": [
    {
     "output_type": "execute_result",
     "data": {
      "text/plain": [
       "246     Creature — Werewolf Horror // Creature — Eldra...\n",
       "373                                    Instant // Sorcery\n",
       "409                                    Sorcery // Sorcery\n",
       "494                    Land // Legendary Creature — Demon\n",
       "497              Creature — Faerie // Sorcery — Adventure\n",
       "693                                    Sorcery // Sorcery\n",
       "775                                    Instant // Instant\n",
       "807     Creature — Human Cleric // Creature — Eldrazi ...\n",
       "840      Creature — Treefolk Druid // Sorcery — Adventure\n",
       "962     Legendary Creature — God // Legendary Creature...\n",
       "1022                                   Instant // Sorcery\n",
       "1025        Legendary Creature — Human Warlock // Sorcery\n",
       "1041                                     Artifact // Land\n",
       "1093                                      Instant // Land\n",
       "1225    Legendary Creature — Human Werewolf // Legenda...\n",
       "1540      Creature — Zombie Knight // Instant — Adventure\n",
       "1572      Creature — Zombie Knight // Instant — Adventure\n",
       "1646       Creature — Human Knight // Sorcery — Adventure\n",
       "1705     Creature — Human Werewolf // Creature — Werewolf\n",
       "1775                                   Instant // Instant\n",
       "1821    Creature — Rat Rogue // Legendary Creature — R...\n",
       "1822         Artifact — Equipment // Artifact — Equipment\n",
       "1908                                         Land // Land\n",
       "2063                                      Sorcery // Land\n",
       "2145                                   Sorcery // Sorcery\n",
       "2306                 Creature — Demon // Creature — Demon\n",
       "2349                                   Instant // Sorcery\n",
       "2391                                   Instant // Instant\n",
       "2654    Creature — Werewolf Horror // Creature — Eldra...\n",
       "2661                                         Land // Land\n",
       "2944             Creature — Faerie // Instant — Adventure\n",
       "3027                 Creature — Bat // Creature — Vampire\n",
       "3047                                   Instant // Sorcery\n",
       "3065                                   Sorcery // Sorcery\n",
       "3208              Creature — Giant // Sorcery — Adventure\n",
       "3253    Creature — Human Soldier // Legendary Creature...\n",
       "3336                   Enchantment // Creature — Treefolk\n",
       "3382       Creature — Dwarf Knight // Instant — Adventure\n",
       "3420                                   Instant // Instant\n",
       "3638     Creature — Human Werewolf // Creature — Werewolf\n",
       "3665    Creature — Human Archer Werewolf // Creature —...\n",
       "3666    Creature — Werewolf Horror // Creature — Eldra...\n",
       "3734                                 Artifact // Artifact\n",
       "3764               Creature — Human // Creature — Vampire\n",
       "3804     Creature — Human Werewolf // Creature — Werewolf\n",
       "3891                                   Instant // Sorcery\n",
       "3897                          Creature — Elephant // Land\n",
       "3941    Creature — Human Wizard // Legendary Creature ...\n",
       "4114    Creature — Human Soldier // Creature — Human C...\n",
       "4126       Creature — Human Knight // Sorcery — Adventure\n",
       "Name: type_line, dtype: object"
      ]
     },
     "metadata": {},
     "execution_count": 68
    }
   ],
   "source": [
    "scry_cols = ['name', 'color_identity', 'type_line', 'reserved' , 'prices', 'mana_cost' ]\n",
    "scry3[scry33'type_line'].str.contains('//))]['type_line'].head(50)"
   ]
  },
  {
   "cell_type": "code",
   "execution_count": 64,
   "metadata": {},
   "outputs": [
    {
     "output_type": "execute_result",
     "data": {
      "text/plain": [
       "                                                 name color_identity  \\\n",
       "17489  Jorn, God of Winter // Kaldring, the Rimestaff      [B, G, U]   \n",
       "23580      Jorn, God of Winter // Jorn, God of Winter             []   \n",
       "\n",
       "                                               type_line  reserved  \\\n",
       "17489  Legendary Snow Creature — God // Legendary Sno...     False   \n",
       "23580                                       Card // Card     False   \n",
       "\n",
       "                                                  prices mana_cost  \n",
       "17489  {'usd': '0.29', 'usd_foil': '0.45', 'eur': '0....       NaN  \n",
       "23580  {'usd': None, 'usd_foil': None, 'eur': None, '...       NaN  "
      ],
      "text/html": "<div>\n<style scoped>\n    .dataframe tbody tr th:only-of-type {\n        vertical-align: middle;\n    }\n\n    .dataframe tbody tr th {\n        vertical-align: top;\n    }\n\n    .dataframe thead th {\n        text-align: right;\n    }\n</style>\n<table border=\"1\" class=\"dataframe\">\n  <thead>\n    <tr style=\"text-align: right;\">\n      <th></th>\n      <th>name</th>\n      <th>color_identity</th>\n      <th>type_line</th>\n      <th>reserved</th>\n      <th>prices</th>\n      <th>mana_cost</th>\n    </tr>\n  </thead>\n  <tbody>\n    <tr>\n      <th>17489</th>\n      <td>Jorn, God of Winter // Kaldring, the Rimestaff</td>\n      <td>[B, G, U]</td>\n      <td>Legendary Snow Creature — God // Legendary Sno...</td>\n      <td>False</td>\n      <td>{'usd': '0.29', 'usd_foil': '0.45', 'eur': '0....</td>\n      <td>NaN</td>\n    </tr>\n    <tr>\n      <th>23580</th>\n      <td>Jorn, God of Winter // Jorn, God of Winter</td>\n      <td>[]</td>\n      <td>Card // Card</td>\n      <td>False</td>\n      <td>{'usd': None, 'usd_foil': None, 'eur': None, '...</td>\n      <td>NaN</td>\n    </tr>\n  </tbody>\n</table>\n</div>"
     },
     "metadata": {},
     "execution_count": 64
    }
   ],
   "source": [
    "scry[scry['name'].str.contains('Jorn')][scry_cols].head(50)"
   ]
  },
  {
   "cell_type": "code",
   "execution_count": 61,
   "metadata": {},
   "outputs": [
    {
     "output_type": "execute_result",
     "data": {
      "text/plain": [
       "      object                                    id  \\\n",
       "46      card  364535a0-fa83-4e27-8cce-b38481b5eff1   \n",
       "92      card  5d2aa3d3-657e-4088-9e00-db4554f3c270   \n",
       "97      card  57c51bf1-9b6d-46cf-ac13-8e851c0efacf   \n",
       "206     card  7677f694-e611-416d-8e9e-86d3b33b4c76   \n",
       "230     card  9e282d87-3890-468d-b4e3-c70504071d5f   \n",
       "...      ...                                   ...   \n",
       "23580   card  9ba6e2ce-ea68-47e8-80f8-e932e0cb3a80   \n",
       "23647   card  1a56de52-356b-4a22-84bd-f21cf853246e   \n",
       "23674   card  2ae53d84-208e-4db8-bf07-4026261601f7   \n",
       "23710   card  6e42ae5d-aa09-4087-98ec-4da31a95b2a5   \n",
       "23732   card  23b081cc-2ee1-43fb-9e60-8ab65507993c   \n",
       "\n",
       "                                  oracle_id multiverse_ids  mtgo_id  \\\n",
       "46     007e1815-b2ae-4861-b8c4-b0da8896d718             []      NaN   \n",
       "92     00fc8d67-3df7-419a-9186-f05eb5cccb29             []      NaN   \n",
       "97     0103cd34-9ce5-4569-9e6f-c583b58f555c             []      NaN   \n",
       "206    020e5b34-c546-4abe-a412-36aa1713b241             []      NaN   \n",
       "230    024dab6c-3a77-4452-b1db-975f479dd818             []      NaN   \n",
       "...                                     ...            ...      ...   \n",
       "23580  fdc53f90-90a3-4a29-8a47-2595809da8d3             []      NaN   \n",
       "23647  fe8630df-983c-4049-b34b-13f263a71776             []      NaN   \n",
       "23674  febec943-9531-4ef9-b843-651bb540535a             []      NaN   \n",
       "23710  ff2580fa-5f8d-4c06-9930-84c66f4a09f0             []      NaN   \n",
       "23732  ff54f9f0-8561-4706-813f-778ff4443423             []      NaN   \n",
       "\n",
       "       mtgo_foil_id  tcgplayer_id  cardmarket_id  \\\n",
       "46              NaN           NaN            NaN   \n",
       "92              NaN           NaN            NaN   \n",
       "97              NaN           NaN            NaN   \n",
       "206             NaN           NaN            NaN   \n",
       "230             NaN           NaN            NaN   \n",
       "...             ...           ...            ...   \n",
       "23580           NaN           NaN            NaN   \n",
       "23647           NaN           NaN            NaN   \n",
       "23674           NaN           NaN            NaN   \n",
       "23710           NaN           NaN            NaN   \n",
       "23732           NaN           NaN            NaN   \n",
       "\n",
       "                                                 name lang  ... promo_types  \\\n",
       "46     Professor of Zoomancy // Professor of Zoomancy   en  ...         NaN   \n",
       "92                         Purple Worm // Purple Worm   en  ...         NaN   \n",
       "97                 Prismari Campus // Prismari Campus   en  ...         NaN   \n",
       "206                                      Wish // Wish   en  ...         NaN   \n",
       "230                  Inga Rune-Eyes // Inga Rune-Eyes   en  ...         NaN   \n",
       "...                                               ...  ...  ...         ...   \n",
       "23580      Jorn, God of Winter // Jorn, God of Winter   en  ...         NaN   \n",
       "23647    You Meet in a Tavern // You Meet in a Tavern   en  ...         NaN   \n",
       "23674                      Mind Flayer // Mind Flayer   en  ...         NaN   \n",
       "23710                    Memory Lapse // Memory Lapse   en  ...         NaN   \n",
       "23732                        Flameskull // Flameskull   en  ...         NaN   \n",
       "\n",
       "      life_modifier hand_modifier loyalty  color_indicator content_warning  \\\n",
       "46              NaN           NaN     NaN              NaN             NaN   \n",
       "92              NaN           NaN     NaN              NaN             NaN   \n",
       "97              NaN           NaN     NaN              NaN             NaN   \n",
       "206             NaN           NaN     NaN              NaN             NaN   \n",
       "230             NaN           NaN     NaN              NaN             NaN   \n",
       "...             ...           ...     ...              ...             ...   \n",
       "23580           NaN           NaN     NaN              NaN             NaN   \n",
       "23647           NaN           NaN     NaN              NaN             NaN   \n",
       "23674           NaN           NaN     NaN              NaN             NaN   \n",
       "23710           NaN           NaN     NaN              NaN             NaN   \n",
       "23732           NaN           NaN     NaN              NaN             NaN   \n",
       "\n",
       "      printed_name flavor_name  printed_type_line printed_text  \n",
       "46             NaN         NaN                NaN          NaN  \n",
       "92             NaN         NaN                NaN          NaN  \n",
       "97             NaN         NaN                NaN          NaN  \n",
       "206            NaN         NaN                NaN          NaN  \n",
       "230            NaN         NaN                NaN          NaN  \n",
       "...            ...         ...                ...          ...  \n",
       "23580          NaN         NaN                NaN          NaN  \n",
       "23647          NaN         NaN                NaN          NaN  \n",
       "23674          NaN         NaN                NaN          NaN  \n",
       "23710          NaN         NaN                NaN          NaN  \n",
       "23732          NaN         NaN                NaN          NaN  \n",
       "\n",
       "[429 rows x 78 columns]"
      ],
      "text/html": "<div>\n<style scoped>\n    .dataframe tbody tr th:only-of-type {\n        vertical-align: middle;\n    }\n\n    .dataframe tbody tr th {\n        vertical-align: top;\n    }\n\n    .dataframe thead th {\n        text-align: right;\n    }\n</style>\n<table border=\"1\" class=\"dataframe\">\n  <thead>\n    <tr style=\"text-align: right;\">\n      <th></th>\n      <th>object</th>\n      <th>id</th>\n      <th>oracle_id</th>\n      <th>multiverse_ids</th>\n      <th>mtgo_id</th>\n      <th>mtgo_foil_id</th>\n      <th>tcgplayer_id</th>\n      <th>cardmarket_id</th>\n      <th>name</th>\n      <th>lang</th>\n      <th>...</th>\n      <th>promo_types</th>\n      <th>life_modifier</th>\n      <th>hand_modifier</th>\n      <th>loyalty</th>\n      <th>color_indicator</th>\n      <th>content_warning</th>\n      <th>printed_name</th>\n      <th>flavor_name</th>\n      <th>printed_type_line</th>\n      <th>printed_text</th>\n    </tr>\n  </thead>\n  <tbody>\n    <tr>\n      <th>46</th>\n      <td>card</td>\n      <td>364535a0-fa83-4e27-8cce-b38481b5eff1</td>\n      <td>007e1815-b2ae-4861-b8c4-b0da8896d718</td>\n      <td>[]</td>\n      <td>NaN</td>\n      <td>NaN</td>\n      <td>NaN</td>\n      <td>NaN</td>\n      <td>Professor of Zoomancy // Professor of Zoomancy</td>\n      <td>en</td>\n      <td>...</td>\n      <td>NaN</td>\n      <td>NaN</td>\n      <td>NaN</td>\n      <td>NaN</td>\n      <td>NaN</td>\n      <td>NaN</td>\n      <td>NaN</td>\n      <td>NaN</td>\n      <td>NaN</td>\n      <td>NaN</td>\n    </tr>\n    <tr>\n      <th>92</th>\n      <td>card</td>\n      <td>5d2aa3d3-657e-4088-9e00-db4554f3c270</td>\n      <td>00fc8d67-3df7-419a-9186-f05eb5cccb29</td>\n      <td>[]</td>\n      <td>NaN</td>\n      <td>NaN</td>\n      <td>NaN</td>\n      <td>NaN</td>\n      <td>Purple Worm // Purple Worm</td>\n      <td>en</td>\n      <td>...</td>\n      <td>NaN</td>\n      <td>NaN</td>\n      <td>NaN</td>\n      <td>NaN</td>\n      <td>NaN</td>\n      <td>NaN</td>\n      <td>NaN</td>\n      <td>NaN</td>\n      <td>NaN</td>\n      <td>NaN</td>\n    </tr>\n    <tr>\n      <th>97</th>\n      <td>card</td>\n      <td>57c51bf1-9b6d-46cf-ac13-8e851c0efacf</td>\n      <td>0103cd34-9ce5-4569-9e6f-c583b58f555c</td>\n      <td>[]</td>\n      <td>NaN</td>\n      <td>NaN</td>\n      <td>NaN</td>\n      <td>NaN</td>\n      <td>Prismari Campus // Prismari Campus</td>\n      <td>en</td>\n      <td>...</td>\n      <td>NaN</td>\n      <td>NaN</td>\n      <td>NaN</td>\n      <td>NaN</td>\n      <td>NaN</td>\n      <td>NaN</td>\n      <td>NaN</td>\n      <td>NaN</td>\n      <td>NaN</td>\n      <td>NaN</td>\n    </tr>\n    <tr>\n      <th>206</th>\n      <td>card</td>\n      <td>7677f694-e611-416d-8e9e-86d3b33b4c76</td>\n      <td>020e5b34-c546-4abe-a412-36aa1713b241</td>\n      <td>[]</td>\n      <td>NaN</td>\n      <td>NaN</td>\n      <td>NaN</td>\n      <td>NaN</td>\n      <td>Wish // Wish</td>\n      <td>en</td>\n      <td>...</td>\n      <td>NaN</td>\n      <td>NaN</td>\n      <td>NaN</td>\n      <td>NaN</td>\n      <td>NaN</td>\n      <td>NaN</td>\n      <td>NaN</td>\n      <td>NaN</td>\n      <td>NaN</td>\n      <td>NaN</td>\n    </tr>\n    <tr>\n      <th>230</th>\n      <td>card</td>\n      <td>9e282d87-3890-468d-b4e3-c70504071d5f</td>\n      <td>024dab6c-3a77-4452-b1db-975f479dd818</td>\n      <td>[]</td>\n      <td>NaN</td>\n      <td>NaN</td>\n      <td>NaN</td>\n      <td>NaN</td>\n      <td>Inga Rune-Eyes // Inga Rune-Eyes</td>\n      <td>en</td>\n      <td>...</td>\n      <td>NaN</td>\n      <td>NaN</td>\n      <td>NaN</td>\n      <td>NaN</td>\n      <td>NaN</td>\n      <td>NaN</td>\n      <td>NaN</td>\n      <td>NaN</td>\n      <td>NaN</td>\n      <td>NaN</td>\n    </tr>\n    <tr>\n      <th>...</th>\n      <td>...</td>\n      <td>...</td>\n      <td>...</td>\n      <td>...</td>\n      <td>...</td>\n      <td>...</td>\n      <td>...</td>\n      <td>...</td>\n      <td>...</td>\n      <td>...</td>\n      <td>...</td>\n      <td>...</td>\n      <td>...</td>\n      <td>...</td>\n      <td>...</td>\n      <td>...</td>\n      <td>...</td>\n      <td>...</td>\n      <td>...</td>\n      <td>...</td>\n      <td>...</td>\n    </tr>\n    <tr>\n      <th>23580</th>\n      <td>card</td>\n      <td>9ba6e2ce-ea68-47e8-80f8-e932e0cb3a80</td>\n      <td>fdc53f90-90a3-4a29-8a47-2595809da8d3</td>\n      <td>[]</td>\n      <td>NaN</td>\n      <td>NaN</td>\n      <td>NaN</td>\n      <td>NaN</td>\n      <td>Jorn, God of Winter // Jorn, God of Winter</td>\n      <td>en</td>\n      <td>...</td>\n      <td>NaN</td>\n      <td>NaN</td>\n      <td>NaN</td>\n      <td>NaN</td>\n      <td>NaN</td>\n      <td>NaN</td>\n      <td>NaN</td>\n      <td>NaN</td>\n      <td>NaN</td>\n      <td>NaN</td>\n    </tr>\n    <tr>\n      <th>23647</th>\n      <td>card</td>\n      <td>1a56de52-356b-4a22-84bd-f21cf853246e</td>\n      <td>fe8630df-983c-4049-b34b-13f263a71776</td>\n      <td>[]</td>\n      <td>NaN</td>\n      <td>NaN</td>\n      <td>NaN</td>\n      <td>NaN</td>\n      <td>You Meet in a Tavern // You Meet in a Tavern</td>\n      <td>en</td>\n      <td>...</td>\n      <td>NaN</td>\n      <td>NaN</td>\n      <td>NaN</td>\n      <td>NaN</td>\n      <td>NaN</td>\n      <td>NaN</td>\n      <td>NaN</td>\n      <td>NaN</td>\n      <td>NaN</td>\n      <td>NaN</td>\n    </tr>\n    <tr>\n      <th>23674</th>\n      <td>card</td>\n      <td>2ae53d84-208e-4db8-bf07-4026261601f7</td>\n      <td>febec943-9531-4ef9-b843-651bb540535a</td>\n      <td>[]</td>\n      <td>NaN</td>\n      <td>NaN</td>\n      <td>NaN</td>\n      <td>NaN</td>\n      <td>Mind Flayer // Mind Flayer</td>\n      <td>en</td>\n      <td>...</td>\n      <td>NaN</td>\n      <td>NaN</td>\n      <td>NaN</td>\n      <td>NaN</td>\n      <td>NaN</td>\n      <td>NaN</td>\n      <td>NaN</td>\n      <td>NaN</td>\n      <td>NaN</td>\n      <td>NaN</td>\n    </tr>\n    <tr>\n      <th>23710</th>\n      <td>card</td>\n      <td>6e42ae5d-aa09-4087-98ec-4da31a95b2a5</td>\n      <td>ff2580fa-5f8d-4c06-9930-84c66f4a09f0</td>\n      <td>[]</td>\n      <td>NaN</td>\n      <td>NaN</td>\n      <td>NaN</td>\n      <td>NaN</td>\n      <td>Memory Lapse // Memory Lapse</td>\n      <td>en</td>\n      <td>...</td>\n      <td>NaN</td>\n      <td>NaN</td>\n      <td>NaN</td>\n      <td>NaN</td>\n      <td>NaN</td>\n      <td>NaN</td>\n      <td>NaN</td>\n      <td>NaN</td>\n      <td>NaN</td>\n      <td>NaN</td>\n    </tr>\n    <tr>\n      <th>23732</th>\n      <td>card</td>\n      <td>23b081cc-2ee1-43fb-9e60-8ab65507993c</td>\n      <td>ff54f9f0-8561-4706-813f-778ff4443423</td>\n      <td>[]</td>\n      <td>NaN</td>\n      <td>NaN</td>\n      <td>NaN</td>\n      <td>NaN</td>\n      <td>Flameskull // Flameskull</td>\n      <td>en</td>\n      <td>...</td>\n      <td>NaN</td>\n      <td>NaN</td>\n      <td>NaN</td>\n      <td>NaN</td>\n      <td>NaN</td>\n      <td>NaN</td>\n      <td>NaN</td>\n      <td>NaN</td>\n      <td>NaN</td>\n      <td>NaN</td>\n    </tr>\n  </tbody>\n</table>\n<p>429 rows × 78 columns</p>\n</div>"
     },
     "metadata": {},
     "execution_count": 61
    }
   ],
   "source": [
    "scry[scry['type_line']=='Card // Card']"
   ]
  },
  {
   "cell_type": "code",
   "execution_count": 80,
   "metadata": {},
   "outputs": [
    {
     "output_type": "execute_result",
     "data": {
      "text/plain": [
       "array(['Artifact', 'Enchantment', 'Sorcery', 'Creature', 'Instant',\n",
       "       'Land', 'Scheme', 'Vanguard', 'Ongoing Scheme', 'Planeswalker',\n",
       "       'Plane — Pyrulea', 'Conspiracy', 'Plane — Zendikar',\n",
       "       'Plane — Ravnica', 'Plane — Dominaria', 'Plane — Ir',\n",
       "       'Plane — Phyrexia', 'Eaturecray — Igpay', 'Plane — New Phyrexia',\n",
       "       'Plane — Alara', 'Plane — Lorwyn', 'Plane — Innistrad',\n",
       "       'Plane — Shandalar', 'Plane — Mongseng', 'Plane — Luvion',\n",
       "       'Plane — Kyneth', 'Phenomenon', 'Summon Specter',\n",
       "       'Plane — Wildfire', 'Plane — Fabacin', 'Plane — Mirrodin',\n",
       "       'instant', 'Plane — Ulgrotha', 'Plane — Kaldheim',\n",
       "       'Plane — Kamigawa', 'Plane — Xerex', 'Plane — Kolbahan',\n",
       "       'Plane — Moag', 'Plane — Arkhos', 'Plane — Iquatana',\n",
       "       'Summon — Dinosaur', 'Plane — Equilor', 'Plane — Azgol',\n",
       "       'Plane — Muraganda', 'Plane — Mercadia', 'Plane — Vryn',\n",
       "       'Plane — Shadowmoor', 'Plane — Karsus', 'Plane — Kinshala',\n",
       "       'Plane — Belenon', 'Plane — Segovia', 'Plane — Kephalai',\n",
       "       'Plane — Ergamon', 'Plane — Regatha', 'Summon Wolf',\n",
       "       'Plane — Valla', 'Plane — Rabiah', 'Plane — Serra’s Realm',\n",
       "       'Plane — Bolas’s Meditation Realm', 'Plane — Rath'], dtype=object)"
      ]
     },
     "metadata": {},
     "execution_count": 80
    }
   ],
   "source": [
    "#cleaning type text lists\n",
    "def second_group(m):\n",
    "    return m.group(1)\n",
    "scry3['type'] = scry3['type_line'].apply(lambda x: re.sub(r'.*(Creature|Land|Artifact|Instant|Sorcery|Planeswalker|Enchantment).*—*\\/?',second_group,x))\n",
    "scry3['type'].unique()"
   ]
  },
  {
   "cell_type": "code",
   "execution_count": 22,
   "metadata": {},
   "outputs": [
    {
     "output_type": "execute_result",
     "data": {
      "text/plain": [
       "Index(['object', 'id', 'oracle_id', 'multiverse_ids', 'mtgo_id',\n",
       "       'mtgo_foil_id', 'tcgplayer_id', 'cardmarket_id', 'name', 'lang',\n",
       "       'released_at', 'uri', 'scryfall_uri', 'layout', 'highres_image',\n",
       "       'image_status', 'image_uris', 'mana_cost', 'cmc', 'type_line',\n",
       "       'oracle_text', 'colors', 'color_identity', 'keywords', 'legalities',\n",
       "       'games', 'reserved', 'foil', 'nonfoil', 'oversized', 'promo', 'reprint',\n",
       "       'variation', 'set_id', 'set', 'set_name', 'set_type', 'set_uri',\n",
       "       'set_search_uri', 'scryfall_set_uri', 'rulings_uri',\n",
       "       'prints_search_uri', 'collector_number', 'digital', 'rarity',\n",
       "       'flavor_text', 'card_back_id', 'artist', 'artist_ids',\n",
       "       'illustration_id', 'border_color', 'frame', 'full_art', 'textless',\n",
       "       'booster', 'story_spotlight', 'edhrec_rank', 'prices', 'related_uris',\n",
       "       'preview', 'power', 'toughness', 'arena_id', 'watermark',\n",
       "       'produced_mana', 'all_parts', 'card_faces', 'frame_effects',\n",
       "       'promo_types', 'life_modifier', 'hand_modifier', 'loyalty',\n",
       "       'color_indicator', 'content_warning', 'printed_name', 'flavor_name',\n",
       "       'printed_type_line', 'printed_text', 'chop_name'],\n",
       "      dtype='object')"
      ]
     },
     "metadata": {},
     "execution_count": 22
    }
   ],
   "source": [
    "scry.columns"
   ]
  },
  {
   "cell_type": "code",
   "execution_count": 56,
   "metadata": {},
   "outputs": [
    {
     "output_type": "execute_result",
     "data": {
      "text/plain": [
       "0        {'standard': 'not_legal', 'future': 'not_legal...\n",
       "1        {'standard': 'not_legal', 'future': 'not_legal...\n",
       "2        {'standard': 'not_legal', 'future': 'not_legal...\n",
       "3        {'standard': 'not_legal', 'future': 'not_legal...\n",
       "4        {'standard': 'not_legal', 'future': 'not_legal...\n",
       "                               ...                        \n",
       "23794    {'standard': 'not_legal', 'future': 'not_legal...\n",
       "23795    {'standard': 'not_legal', 'future': 'not_legal...\n",
       "23796    {'standard': 'legal', 'future': 'legal', 'hist...\n",
       "23797    {'standard': 'not_legal', 'future': 'not_legal...\n",
       "23798    {'standard': 'not_legal', 'future': 'not_legal...\n",
       "Name: legalities, Length: 23799, dtype: object"
      ]
     },
     "metadata": {},
     "execution_count": 56
    }
   ],
   "source": [
    "scry['legalities']"
   ]
  },
  {
   "cell_type": "code",
   "execution_count": 29,
   "metadata": {},
   "outputs": [],
   "source": [
    "cedh_scry = pd.merge(cedh,scry[scry_cols], how='left', left_on='Card Name', right_on='name', indicator=True)"
   ]
  },
  {
   "cell_type": "code",
   "execution_count": 30,
   "metadata": {},
   "outputs": [
    {
     "output_type": "execute_result",
     "data": {
      "text/plain": [
       "                       Card Name  \\\n",
       "17           Agadeem's Awakening   \n",
       "92           Barkchannel Pathway   \n",
       "110   Birgi, God of Storytelling   \n",
       "121           Blightstep Pathway   \n",
       "157           Branchloft Pathway   \n",
       "226           Clearwater Pathway   \n",
       "262            Cragcrown Pathway   \n",
       "296             Darkbore Pathway   \n",
       "387                Emeria's Call   \n",
       "448        Flamescroll Celebrant   \n",
       "575            Hengegate Pathway   \n",
       "639         Jace, Vryn's Prodigy   \n",
       "654          Jorn, God of Winter   \n",
       "658              Kabira Takedown   \n",
       "759              Malakir Rebirth   \n",
       "877          Needleverge Pathway   \n",
       "1083          Riverglide Pathway   \n",
       "1130        Sea Gate Restoration   \n",
       "1142              Sejiri Shelter   \n",
       "1159       Shatterskull Smashing   \n",
       "1334      Tergrid, God of Fright   \n",
       "1411        Turntimber Symbiosis   \n",
       "1441           Valakut Awakening   \n",
       "1442          Valki, God of Lies   \n",
       "1477             Voldaren Pariah   \n",
       "1484           Wandering Archaic   \n",
       "\n",
       "                                                  Title  \\\n",
       "17    [The King's Chain, Yuriko Pivot, cEDH Inalla -...   \n",
       "92        [[cEDH] Momir Vig's Hackball, Rashmi Draw Go]   \n",
       "110   [Frozen Scepter Parun 2.0, Rakdos Adept, celeb...   \n",
       "121                                 [DocksideDoomRound]   \n",
       "157   [Tymna/Sidar Raza, Selvala Twiddlestorm cEDH P...   \n",
       "226   [Kels Consultation Scepter cEDH, Don't Talk Ab...   \n",
       "262   [Snoop Tharry Tharr [Primer]: Gruul Was the Ha...   \n",
       "296   [Tymna/Sidar Raza, Turbo Poison Hulk, Honorles...   \n",
       "387   [Heliod, Stax-Crowned cEDH, Heliod II: Sunshin...   \n",
       "448   [Clampstorm, 💧 Blue Farm💧 , [cEDH] Return of t...   \n",
       "575   [Smothering Arbiter 🕖, ShiftLash GAAIV, Omen P...   \n",
       "639   [[cEDH Primer] Stormy Discard, Rielle Adaptati...   \n",
       "654   [[cEDH] Jorn, God of Stax, King of the North [...   \n",
       "658                         [Heliod, Stax-Crowned cEDH]   \n",
       "759                                      [Rakdos Adept]   \n",
       "877                             [Winota: Snowball Stax]   \n",
       "1083  [👍 Siskel & Ebert 👍, 🌩Storm the Weatherlight ⚓...   \n",
       "1130  [Yuriko Pivot, ✨👁️Turns of Future Past👁️✨, Orp...   \n",
       "1142                        [Heliod, Stax-Crowned cEDH]   \n",
       "1159  [Niv-Mizzet, Parun, Rakdos Adept, The Ardent W...   \n",
       "1334                                  [kroxa staxclasm]   \n",
       "1411  [Sisay, Blessed Soul cEDH Primer, ⚰️ Enigmatic...   \n",
       "1441  [Rakdos Adept, Birgi, God of Storm (cEDH), Bir...   \n",
       "1442                                       [Revolution]   \n",
       "1477                          [Filter Anje cEDH Primer]   \n",
       "1484  [Kels Consultation Scepter cEDH, Orvar Twitch ...   \n",
       "\n",
       "                                                   Link  Ocurrences name  \\\n",
       "17    [https://www.moxfield.com/decks/uxtkikNzW0mTlu...           7  NaN   \n",
       "92    [https://www.moxfield.com/decks/tIL7CthM5kuTXk...           2  NaN   \n",
       "110   [https://www.moxfield.com/decks/belqftDqDEWVEZ...          30  NaN   \n",
       "121   [https://www.moxfield.com/decks/jU1S6wncyUmNA3...           1  NaN   \n",
       "157   [https://www.moxfield.com/decks/1vqfLIEtWkOnZo...           2  NaN   \n",
       "226   [https://www.moxfield.com/decks/5_b4DltiAkaMGD...           5  NaN   \n",
       "262   [https://www.moxfield.com/decks/wHkTll0w6EuJPk...           1  NaN   \n",
       "296   [https://www.moxfield.com/decks/1vqfLIEtWkOnZo...           4  NaN   \n",
       "387   [https://www.moxfield.com/decks/urs4pKTeCUyZ-F...           8  NaN   \n",
       "448   [https://www.moxfield.com/decks/QP1PcYDAnkCv39...           3  NaN   \n",
       "575   [https://www.moxfield.com/decks/CNxApwC0YE6QUQ...           3  NaN   \n",
       "639   [https://www.moxfield.com/decks/jNFzjXtnu0ac1A...           6  NaN   \n",
       "654   [https://www.moxfield.com/decks/W0tbKZGNyEa5vX...           2  NaN   \n",
       "658   [https://www.moxfield.com/decks/urs4pKTeCUyZ-F...           1  NaN   \n",
       "759   [https://www.moxfield.com/decks/K6JZovGucE-W8r...           1  NaN   \n",
       "877   [https://www.moxfield.com/decks/j-0aJlxuOUm9Fn...           1  NaN   \n",
       "1083  [https://www.moxfield.com/decks/G-RUVy_CMUWzXl...           3  NaN   \n",
       "1130  [https://www.moxfield.com/decks/N1VNylbgskmYWa...          14  NaN   \n",
       "1142  [https://www.moxfield.com/decks/urs4pKTeCUyZ-F...           1  NaN   \n",
       "1159  [https://www.moxfield.com/decks/HmRJ5ju54USIf9...          27  NaN   \n",
       "1334  [https://www.moxfield.com/decks/LYJoKiPcPkWiav...           1  NaN   \n",
       "1411  [https://www.moxfield.com/decks/P_HpAjOOsEW7a1...           7  NaN   \n",
       "1441  [https://www.moxfield.com/decks/K6JZovGucE-W8r...           5  NaN   \n",
       "1442  [https://www.moxfield.com/decks/3RPLVO_070KCSB...           1  NaN   \n",
       "1477  [https://www.moxfield.com/decks/PFGBjM5BnESfH9...           1  NaN   \n",
       "1484  [https://www.moxfield.com/decks/5_b4DltiAkaMGD...          13  NaN   \n",
       "\n",
       "     color_identity type_line reserved prices     _merge  \n",
       "17              NaN       NaN      NaN    NaN  left_only  \n",
       "92              NaN       NaN      NaN    NaN  left_only  \n",
       "110             NaN       NaN      NaN    NaN  left_only  \n",
       "121             NaN       NaN      NaN    NaN  left_only  \n",
       "157             NaN       NaN      NaN    NaN  left_only  \n",
       "226             NaN       NaN      NaN    NaN  left_only  \n",
       "262             NaN       NaN      NaN    NaN  left_only  \n",
       "296             NaN       NaN      NaN    NaN  left_only  \n",
       "387             NaN       NaN      NaN    NaN  left_only  \n",
       "448             NaN       NaN      NaN    NaN  left_only  \n",
       "575             NaN       NaN      NaN    NaN  left_only  \n",
       "639             NaN       NaN      NaN    NaN  left_only  \n",
       "654             NaN       NaN      NaN    NaN  left_only  \n",
       "658             NaN       NaN      NaN    NaN  left_only  \n",
       "759             NaN       NaN      NaN    NaN  left_only  \n",
       "877             NaN       NaN      NaN    NaN  left_only  \n",
       "1083            NaN       NaN      NaN    NaN  left_only  \n",
       "1130            NaN       NaN      NaN    NaN  left_only  \n",
       "1142            NaN       NaN      NaN    NaN  left_only  \n",
       "1159            NaN       NaN      NaN    NaN  left_only  \n",
       "1334            NaN       NaN      NaN    NaN  left_only  \n",
       "1411            NaN       NaN      NaN    NaN  left_only  \n",
       "1441            NaN       NaN      NaN    NaN  left_only  \n",
       "1442            NaN       NaN      NaN    NaN  left_only  \n",
       "1477            NaN       NaN      NaN    NaN  left_only  \n",
       "1484            NaN       NaN      NaN    NaN  left_only  "
      ],
      "text/html": "<div>\n<style scoped>\n    .dataframe tbody tr th:only-of-type {\n        vertical-align: middle;\n    }\n\n    .dataframe tbody tr th {\n        vertical-align: top;\n    }\n\n    .dataframe thead th {\n        text-align: right;\n    }\n</style>\n<table border=\"1\" class=\"dataframe\">\n  <thead>\n    <tr style=\"text-align: right;\">\n      <th></th>\n      <th>Card Name</th>\n      <th>Title</th>\n      <th>Link</th>\n      <th>Ocurrences</th>\n      <th>name</th>\n      <th>color_identity</th>\n      <th>type_line</th>\n      <th>reserved</th>\n      <th>prices</th>\n      <th>_merge</th>\n    </tr>\n  </thead>\n  <tbody>\n    <tr>\n      <th>17</th>\n      <td>Agadeem's Awakening</td>\n      <td>[The King's Chain, Yuriko Pivot, cEDH Inalla -...</td>\n      <td>[https://www.moxfield.com/decks/uxtkikNzW0mTlu...</td>\n      <td>7</td>\n      <td>NaN</td>\n      <td>NaN</td>\n      <td>NaN</td>\n      <td>NaN</td>\n      <td>NaN</td>\n      <td>left_only</td>\n    </tr>\n    <tr>\n      <th>92</th>\n      <td>Barkchannel Pathway</td>\n      <td>[[cEDH] Momir Vig's Hackball, Rashmi Draw Go]</td>\n      <td>[https://www.moxfield.com/decks/tIL7CthM5kuTXk...</td>\n      <td>2</td>\n      <td>NaN</td>\n      <td>NaN</td>\n      <td>NaN</td>\n      <td>NaN</td>\n      <td>NaN</td>\n      <td>left_only</td>\n    </tr>\n    <tr>\n      <th>110</th>\n      <td>Birgi, God of Storytelling</td>\n      <td>[Frozen Scepter Parun 2.0, Rakdos Adept, celeb...</td>\n      <td>[https://www.moxfield.com/decks/belqftDqDEWVEZ...</td>\n      <td>30</td>\n      <td>NaN</td>\n      <td>NaN</td>\n      <td>NaN</td>\n      <td>NaN</td>\n      <td>NaN</td>\n      <td>left_only</td>\n    </tr>\n    <tr>\n      <th>121</th>\n      <td>Blightstep Pathway</td>\n      <td>[DocksideDoomRound]</td>\n      <td>[https://www.moxfield.com/decks/jU1S6wncyUmNA3...</td>\n      <td>1</td>\n      <td>NaN</td>\n      <td>NaN</td>\n      <td>NaN</td>\n      <td>NaN</td>\n      <td>NaN</td>\n      <td>left_only</td>\n    </tr>\n    <tr>\n      <th>157</th>\n      <td>Branchloft Pathway</td>\n      <td>[Tymna/Sidar Raza, Selvala Twiddlestorm cEDH P...</td>\n      <td>[https://www.moxfield.com/decks/1vqfLIEtWkOnZo...</td>\n      <td>2</td>\n      <td>NaN</td>\n      <td>NaN</td>\n      <td>NaN</td>\n      <td>NaN</td>\n      <td>NaN</td>\n      <td>left_only</td>\n    </tr>\n    <tr>\n      <th>226</th>\n      <td>Clearwater Pathway</td>\n      <td>[Kels Consultation Scepter cEDH, Don't Talk Ab...</td>\n      <td>[https://www.moxfield.com/decks/5_b4DltiAkaMGD...</td>\n      <td>5</td>\n      <td>NaN</td>\n      <td>NaN</td>\n      <td>NaN</td>\n      <td>NaN</td>\n      <td>NaN</td>\n      <td>left_only</td>\n    </tr>\n    <tr>\n      <th>262</th>\n      <td>Cragcrown Pathway</td>\n      <td>[Snoop Tharry Tharr [Primer]: Gruul Was the Ha...</td>\n      <td>[https://www.moxfield.com/decks/wHkTll0w6EuJPk...</td>\n      <td>1</td>\n      <td>NaN</td>\n      <td>NaN</td>\n      <td>NaN</td>\n      <td>NaN</td>\n      <td>NaN</td>\n      <td>left_only</td>\n    </tr>\n    <tr>\n      <th>296</th>\n      <td>Darkbore Pathway</td>\n      <td>[Tymna/Sidar Raza, Turbo Poison Hulk, Honorles...</td>\n      <td>[https://www.moxfield.com/decks/1vqfLIEtWkOnZo...</td>\n      <td>4</td>\n      <td>NaN</td>\n      <td>NaN</td>\n      <td>NaN</td>\n      <td>NaN</td>\n      <td>NaN</td>\n      <td>left_only</td>\n    </tr>\n    <tr>\n      <th>387</th>\n      <td>Emeria's Call</td>\n      <td>[Heliod, Stax-Crowned cEDH, Heliod II: Sunshin...</td>\n      <td>[https://www.moxfield.com/decks/urs4pKTeCUyZ-F...</td>\n      <td>8</td>\n      <td>NaN</td>\n      <td>NaN</td>\n      <td>NaN</td>\n      <td>NaN</td>\n      <td>NaN</td>\n      <td>left_only</td>\n    </tr>\n    <tr>\n      <th>448</th>\n      <td>Flamescroll Celebrant</td>\n      <td>[Clampstorm, 💧 Blue Farm💧 , [cEDH] Return of t...</td>\n      <td>[https://www.moxfield.com/decks/QP1PcYDAnkCv39...</td>\n      <td>3</td>\n      <td>NaN</td>\n      <td>NaN</td>\n      <td>NaN</td>\n      <td>NaN</td>\n      <td>NaN</td>\n      <td>left_only</td>\n    </tr>\n    <tr>\n      <th>575</th>\n      <td>Hengegate Pathway</td>\n      <td>[Smothering Arbiter 🕖, ShiftLash GAAIV, Omen P...</td>\n      <td>[https://www.moxfield.com/decks/CNxApwC0YE6QUQ...</td>\n      <td>3</td>\n      <td>NaN</td>\n      <td>NaN</td>\n      <td>NaN</td>\n      <td>NaN</td>\n      <td>NaN</td>\n      <td>left_only</td>\n    </tr>\n    <tr>\n      <th>639</th>\n      <td>Jace, Vryn's Prodigy</td>\n      <td>[[cEDH Primer] Stormy Discard, Rielle Adaptati...</td>\n      <td>[https://www.moxfield.com/decks/jNFzjXtnu0ac1A...</td>\n      <td>6</td>\n      <td>NaN</td>\n      <td>NaN</td>\n      <td>NaN</td>\n      <td>NaN</td>\n      <td>NaN</td>\n      <td>left_only</td>\n    </tr>\n    <tr>\n      <th>654</th>\n      <td>Jorn, God of Winter</td>\n      <td>[[cEDH] Jorn, God of Stax, King of the North [...</td>\n      <td>[https://www.moxfield.com/decks/W0tbKZGNyEa5vX...</td>\n      <td>2</td>\n      <td>NaN</td>\n      <td>NaN</td>\n      <td>NaN</td>\n      <td>NaN</td>\n      <td>NaN</td>\n      <td>left_only</td>\n    </tr>\n    <tr>\n      <th>658</th>\n      <td>Kabira Takedown</td>\n      <td>[Heliod, Stax-Crowned cEDH]</td>\n      <td>[https://www.moxfield.com/decks/urs4pKTeCUyZ-F...</td>\n      <td>1</td>\n      <td>NaN</td>\n      <td>NaN</td>\n      <td>NaN</td>\n      <td>NaN</td>\n      <td>NaN</td>\n      <td>left_only</td>\n    </tr>\n    <tr>\n      <th>759</th>\n      <td>Malakir Rebirth</td>\n      <td>[Rakdos Adept]</td>\n      <td>[https://www.moxfield.com/decks/K6JZovGucE-W8r...</td>\n      <td>1</td>\n      <td>NaN</td>\n      <td>NaN</td>\n      <td>NaN</td>\n      <td>NaN</td>\n      <td>NaN</td>\n      <td>left_only</td>\n    </tr>\n    <tr>\n      <th>877</th>\n      <td>Needleverge Pathway</td>\n      <td>[Winota: Snowball Stax]</td>\n      <td>[https://www.moxfield.com/decks/j-0aJlxuOUm9Fn...</td>\n      <td>1</td>\n      <td>NaN</td>\n      <td>NaN</td>\n      <td>NaN</td>\n      <td>NaN</td>\n      <td>NaN</td>\n      <td>left_only</td>\n    </tr>\n    <tr>\n      <th>1083</th>\n      <td>Riverglide Pathway</td>\n      <td>[👍 Siskel &amp; Ebert 👍, 🌩Storm the Weatherlight ⚓...</td>\n      <td>[https://www.moxfield.com/decks/G-RUVy_CMUWzXl...</td>\n      <td>3</td>\n      <td>NaN</td>\n      <td>NaN</td>\n      <td>NaN</td>\n      <td>NaN</td>\n      <td>NaN</td>\n      <td>left_only</td>\n    </tr>\n    <tr>\n      <th>1130</th>\n      <td>Sea Gate Restoration</td>\n      <td>[Yuriko Pivot, ✨👁️Turns of Future Past👁️✨, Orp...</td>\n      <td>[https://www.moxfield.com/decks/N1VNylbgskmYWa...</td>\n      <td>14</td>\n      <td>NaN</td>\n      <td>NaN</td>\n      <td>NaN</td>\n      <td>NaN</td>\n      <td>NaN</td>\n      <td>left_only</td>\n    </tr>\n    <tr>\n      <th>1142</th>\n      <td>Sejiri Shelter</td>\n      <td>[Heliod, Stax-Crowned cEDH]</td>\n      <td>[https://www.moxfield.com/decks/urs4pKTeCUyZ-F...</td>\n      <td>1</td>\n      <td>NaN</td>\n      <td>NaN</td>\n      <td>NaN</td>\n      <td>NaN</td>\n      <td>NaN</td>\n      <td>left_only</td>\n    </tr>\n    <tr>\n      <th>1159</th>\n      <td>Shatterskull Smashing</td>\n      <td>[Niv-Mizzet, Parun, Rakdos Adept, The Ardent W...</td>\n      <td>[https://www.moxfield.com/decks/HmRJ5ju54USIf9...</td>\n      <td>27</td>\n      <td>NaN</td>\n      <td>NaN</td>\n      <td>NaN</td>\n      <td>NaN</td>\n      <td>NaN</td>\n      <td>left_only</td>\n    </tr>\n    <tr>\n      <th>1334</th>\n      <td>Tergrid, God of Fright</td>\n      <td>[kroxa staxclasm]</td>\n      <td>[https://www.moxfield.com/decks/LYJoKiPcPkWiav...</td>\n      <td>1</td>\n      <td>NaN</td>\n      <td>NaN</td>\n      <td>NaN</td>\n      <td>NaN</td>\n      <td>NaN</td>\n      <td>left_only</td>\n    </tr>\n    <tr>\n      <th>1411</th>\n      <td>Turntimber Symbiosis</td>\n      <td>[Sisay, Blessed Soul cEDH Primer, ⚰️ Enigmatic...</td>\n      <td>[https://www.moxfield.com/decks/P_HpAjOOsEW7a1...</td>\n      <td>7</td>\n      <td>NaN</td>\n      <td>NaN</td>\n      <td>NaN</td>\n      <td>NaN</td>\n      <td>NaN</td>\n      <td>left_only</td>\n    </tr>\n    <tr>\n      <th>1441</th>\n      <td>Valakut Awakening</td>\n      <td>[Rakdos Adept, Birgi, God of Storm (cEDH), Bir...</td>\n      <td>[https://www.moxfield.com/decks/K6JZovGucE-W8r...</td>\n      <td>5</td>\n      <td>NaN</td>\n      <td>NaN</td>\n      <td>NaN</td>\n      <td>NaN</td>\n      <td>NaN</td>\n      <td>left_only</td>\n    </tr>\n    <tr>\n      <th>1442</th>\n      <td>Valki, God of Lies</td>\n      <td>[Revolution]</td>\n      <td>[https://www.moxfield.com/decks/3RPLVO_070KCSB...</td>\n      <td>1</td>\n      <td>NaN</td>\n      <td>NaN</td>\n      <td>NaN</td>\n      <td>NaN</td>\n      <td>NaN</td>\n      <td>left_only</td>\n    </tr>\n    <tr>\n      <th>1477</th>\n      <td>Voldaren Pariah</td>\n      <td>[Filter Anje cEDH Primer]</td>\n      <td>[https://www.moxfield.com/decks/PFGBjM5BnESfH9...</td>\n      <td>1</td>\n      <td>NaN</td>\n      <td>NaN</td>\n      <td>NaN</td>\n      <td>NaN</td>\n      <td>NaN</td>\n      <td>left_only</td>\n    </tr>\n    <tr>\n      <th>1484</th>\n      <td>Wandering Archaic</td>\n      <td>[Kels Consultation Scepter cEDH, Orvar Twitch ...</td>\n      <td>[https://www.moxfield.com/decks/5_b4DltiAkaMGD...</td>\n      <td>13</td>\n      <td>NaN</td>\n      <td>NaN</td>\n      <td>NaN</td>\n      <td>NaN</td>\n      <td>NaN</td>\n      <td>left_only</td>\n    </tr>\n  </tbody>\n</table>\n</div>"
     },
     "metadata": {},
     "execution_count": 30
    }
   ],
   "source": [
    "cedh_scry[cedh_scry['_merge']=='left_only']"
   ]
  },
  {
   "cell_type": "code",
   "execution_count": 31,
   "metadata": {},
   "outputs": [
    {
     "output_type": "execute_result",
     "data": {
      "text/plain": [
       "        Card Name                                              Title  \\\n",
       "0  Abandon Reason                          [Filter Anje cEDH Primer]   \n",
       "1        Abeyance                     [Heliod II: Sunshine Boogaloo]   \n",
       "2          Abrade  [Frozen Scepter Parun 2.0, Rielle Adaptative W...   \n",
       "3    Abrupt Decay  [Tymna/Sidar Raza, The King's Chain, Medium Mi...   \n",
       "4       Abundance                          [Simic Ad Naus in the CZ]   \n",
       "\n",
       "                                                Link  Ocurrences  \\\n",
       "0  [https://www.moxfield.com/decks/PFGBjM5BnESfH9...           1   \n",
       "1  [https://www.moxfield.com/decks/rohOeIs-dEmA1L...           1   \n",
       "2  [https://www.moxfield.com/decks/belqftDqDEWVEZ...          34   \n",
       "3  [https://www.moxfield.com/decks/1vqfLIEtWkOnZo...          65   \n",
       "4  [https://www.moxfield.com/decks/Vva2blXPDEWTPC...           1   \n",
       "\n",
       "             name color_identity    type_line reserved  \\\n",
       "0  Abandon Reason            [R]      Instant    False   \n",
       "1        Abeyance            [W]      Instant     True   \n",
       "2          Abrade            [R]      Instant    False   \n",
       "3    Abrupt Decay         [B, G]      Instant    False   \n",
       "4       Abundance            [G]  Enchantment    False   \n",
       "\n",
       "                                              prices _merge  \n",
       "0  {'usd': '0.10', 'usd_foil': '0.26', 'eur': '0....   both  \n",
       "1  {'usd': '31.10', 'usd_foil': None, 'eur': '3.9...   both  \n",
       "2  {'usd': '0.45', 'usd_foil': None, 'eur': '0.24...   both  \n",
       "3  {'usd': '6.13', 'usd_foil': '14.48', 'eur': '5...   both  \n",
       "4  {'usd': '0.23', 'usd_foil': None, 'eur': '0.20...   both  "
      ],
      "text/html": "<div>\n<style scoped>\n    .dataframe tbody tr th:only-of-type {\n        vertical-align: middle;\n    }\n\n    .dataframe tbody tr th {\n        vertical-align: top;\n    }\n\n    .dataframe thead th {\n        text-align: right;\n    }\n</style>\n<table border=\"1\" class=\"dataframe\">\n  <thead>\n    <tr style=\"text-align: right;\">\n      <th></th>\n      <th>Card Name</th>\n      <th>Title</th>\n      <th>Link</th>\n      <th>Ocurrences</th>\n      <th>name</th>\n      <th>color_identity</th>\n      <th>type_line</th>\n      <th>reserved</th>\n      <th>prices</th>\n      <th>_merge</th>\n    </tr>\n  </thead>\n  <tbody>\n    <tr>\n      <th>0</th>\n      <td>Abandon Reason</td>\n      <td>[Filter Anje cEDH Primer]</td>\n      <td>[https://www.moxfield.com/decks/PFGBjM5BnESfH9...</td>\n      <td>1</td>\n      <td>Abandon Reason</td>\n      <td>[R]</td>\n      <td>Instant</td>\n      <td>False</td>\n      <td>{'usd': '0.10', 'usd_foil': '0.26', 'eur': '0....</td>\n      <td>both</td>\n    </tr>\n    <tr>\n      <th>1</th>\n      <td>Abeyance</td>\n      <td>[Heliod II: Sunshine Boogaloo]</td>\n      <td>[https://www.moxfield.com/decks/rohOeIs-dEmA1L...</td>\n      <td>1</td>\n      <td>Abeyance</td>\n      <td>[W]</td>\n      <td>Instant</td>\n      <td>True</td>\n      <td>{'usd': '31.10', 'usd_foil': None, 'eur': '3.9...</td>\n      <td>both</td>\n    </tr>\n    <tr>\n      <th>2</th>\n      <td>Abrade</td>\n      <td>[Frozen Scepter Parun 2.0, Rielle Adaptative W...</td>\n      <td>[https://www.moxfield.com/decks/belqftDqDEWVEZ...</td>\n      <td>34</td>\n      <td>Abrade</td>\n      <td>[R]</td>\n      <td>Instant</td>\n      <td>False</td>\n      <td>{'usd': '0.45', 'usd_foil': None, 'eur': '0.24...</td>\n      <td>both</td>\n    </tr>\n    <tr>\n      <th>3</th>\n      <td>Abrupt Decay</td>\n      <td>[Tymna/Sidar Raza, The King's Chain, Medium Mi...</td>\n      <td>[https://www.moxfield.com/decks/1vqfLIEtWkOnZo...</td>\n      <td>65</td>\n      <td>Abrupt Decay</td>\n      <td>[B, G]</td>\n      <td>Instant</td>\n      <td>False</td>\n      <td>{'usd': '6.13', 'usd_foil': '14.48', 'eur': '5...</td>\n      <td>both</td>\n    </tr>\n    <tr>\n      <th>4</th>\n      <td>Abundance</td>\n      <td>[Simic Ad Naus in the CZ]</td>\n      <td>[https://www.moxfield.com/decks/Vva2blXPDEWTPC...</td>\n      <td>1</td>\n      <td>Abundance</td>\n      <td>[G]</td>\n      <td>Enchantment</td>\n      <td>False</td>\n      <td>{'usd': '0.23', 'usd_foil': None, 'eur': '0.20...</td>\n      <td>both</td>\n    </tr>\n  </tbody>\n</table>\n</div>"
     },
     "metadata": {},
     "execution_count": 31
    }
   ],
   "source": [
    "cedh_scry.head()"
   ]
  },
  {
   "cell_type": "code",
   "execution_count": 32,
   "metadata": {},
   "outputs": [],
   "source": [
    "cedh_scry2 = pd.read_json('results/cedh_scry.json')"
   ]
  },
  {
   "cell_type": "code",
   "execution_count": 33,
   "metadata": {},
   "outputs": [
    {
     "output_type": "execute_result",
     "data": {
      "text/plain": [
       "                       Card Name  \\\n",
       "17           Agadeem's Awakening   \n",
       "92           Barkchannel Pathway   \n",
       "110   Birgi, God of Storytelling   \n",
       "121           Blightstep Pathway   \n",
       "157           Branchloft Pathway   \n",
       "226           Clearwater Pathway   \n",
       "262            Cragcrown Pathway   \n",
       "296             Darkbore Pathway   \n",
       "387                Emeria's Call   \n",
       "448        Flamescroll Celebrant   \n",
       "575            Hengegate Pathway   \n",
       "639         Jace, Vryn's Prodigy   \n",
       "654          Jorn, God of Winter   \n",
       "658              Kabira Takedown   \n",
       "759              Malakir Rebirth   \n",
       "877          Needleverge Pathway   \n",
       "1083          Riverglide Pathway   \n",
       "1130        Sea Gate Restoration   \n",
       "1142              Sejiri Shelter   \n",
       "1159       Shatterskull Smashing   \n",
       "1334      Tergrid, God of Fright   \n",
       "1411        Turntimber Symbiosis   \n",
       "1441           Valakut Awakening   \n",
       "1442          Valki, God of Lies   \n",
       "1477             Voldaren Pariah   \n",
       "1484           Wandering Archaic   \n",
       "\n",
       "                                                  Title  \\\n",
       "17    [The King's Chain, Yuriko Pivot, cEDH Inalla -...   \n",
       "92        [[cEDH] Momir Vig's Hackball, Rashmi Draw Go]   \n",
       "110   [Frozen Scepter Parun 2.0, Rakdos Adept, celeb...   \n",
       "121                                 [DocksideDoomRound]   \n",
       "157   [Tymna/Sidar Raza, Selvala Twiddlestorm cEDH P...   \n",
       "226   [Kels Consultation Scepter cEDH, Don't Talk Ab...   \n",
       "262   [Snoop Tharry Tharr [Primer]: Gruul Was the Ha...   \n",
       "296   [Tymna/Sidar Raza, Turbo Poison Hulk, Honorles...   \n",
       "387   [Heliod, Stax-Crowned cEDH, Heliod II: Sunshin...   \n",
       "448   [Clampstorm, 💧 Blue Farm💧 , [cEDH] Return of t...   \n",
       "575   [Smothering Arbiter 🕖, ShiftLash GAAIV, Omen P...   \n",
       "639   [[cEDH Primer] Stormy Discard, Rielle Adaptati...   \n",
       "654   [[cEDH] Jorn, God of Stax, King of the North [...   \n",
       "658                         [Heliod, Stax-Crowned cEDH]   \n",
       "759                                      [Rakdos Adept]   \n",
       "877                             [Winota: Snowball Stax]   \n",
       "1083  [👍 Siskel & Ebert 👍, 🌩Storm the Weatherlight ⚓...   \n",
       "1130  [Yuriko Pivot, ✨👁️Turns of Future Past👁️✨, Orp...   \n",
       "1142                        [Heliod, Stax-Crowned cEDH]   \n",
       "1159  [Niv-Mizzet, Parun, Rakdos Adept, The Ardent W...   \n",
       "1334                                  [kroxa staxclasm]   \n",
       "1411  [Sisay, Blessed Soul cEDH Primer, ⚰️ Enigmatic...   \n",
       "1441  [Rakdos Adept, Birgi, God of Storm (cEDH), Bir...   \n",
       "1442                                       [Revolution]   \n",
       "1477                          [Filter Anje cEDH Primer]   \n",
       "1484  [Kels Consultation Scepter cEDH, Orvar Twitch ...   \n",
       "\n",
       "                                                   Link  Ocurrences  \\\n",
       "17    [https://www.moxfield.com/decks/uxtkikNzW0mTlu...           7   \n",
       "92    [https://www.moxfield.com/decks/tIL7CthM5kuTXk...           2   \n",
       "110   [https://www.moxfield.com/decks/belqftDqDEWVEZ...          30   \n",
       "121   [https://www.moxfield.com/decks/jU1S6wncyUmNA3...           1   \n",
       "157   [https://www.moxfield.com/decks/1vqfLIEtWkOnZo...           2   \n",
       "226   [https://www.moxfield.com/decks/5_b4DltiAkaMGD...           5   \n",
       "262   [https://www.moxfield.com/decks/wHkTll0w6EuJPk...           1   \n",
       "296   [https://www.moxfield.com/decks/1vqfLIEtWkOnZo...           4   \n",
       "387   [https://www.moxfield.com/decks/urs4pKTeCUyZ-F...           8   \n",
       "448   [https://www.moxfield.com/decks/QP1PcYDAnkCv39...           3   \n",
       "575   [https://www.moxfield.com/decks/CNxApwC0YE6QUQ...           3   \n",
       "639   [https://www.moxfield.com/decks/jNFzjXtnu0ac1A...           6   \n",
       "654   [https://www.moxfield.com/decks/W0tbKZGNyEa5vX...           2   \n",
       "658   [https://www.moxfield.com/decks/urs4pKTeCUyZ-F...           1   \n",
       "759   [https://www.moxfield.com/decks/K6JZovGucE-W8r...           1   \n",
       "877   [https://www.moxfield.com/decks/j-0aJlxuOUm9Fn...           1   \n",
       "1083  [https://www.moxfield.com/decks/G-RUVy_CMUWzXl...           3   \n",
       "1130  [https://www.moxfield.com/decks/N1VNylbgskmYWa...          14   \n",
       "1142  [https://www.moxfield.com/decks/urs4pKTeCUyZ-F...           1   \n",
       "1159  [https://www.moxfield.com/decks/HmRJ5ju54USIf9...          27   \n",
       "1334  [https://www.moxfield.com/decks/LYJoKiPcPkWiav...           1   \n",
       "1411  [https://www.moxfield.com/decks/P_HpAjOOsEW7a1...           7   \n",
       "1441  [https://www.moxfield.com/decks/K6JZovGucE-W8r...           5   \n",
       "1442  [https://www.moxfield.com/decks/3RPLVO_070KCSB...           1   \n",
       "1477  [https://www.moxfield.com/decks/PFGBjM5BnESfH9...           1   \n",
       "1484  [https://www.moxfield.com/decks/5_b4DltiAkaMGD...          13   \n",
       "\n",
       "                                                   name color_identity  \\\n",
       "17       Agadeem's Awakening // Agadeem, the Undercrypt            [B]   \n",
       "92           Barkchannel Pathway // Tidechannel Pathway         [G, U]   \n",
       "110   Birgi, God of Storytelling // Harnfel, Horn of...            [R]   \n",
       "121              Blightstep Pathway // Searstep Pathway         [B, R]   \n",
       "157           Branchloft Pathway // Boulderloft Pathway         [G, W]   \n",
       "226             Clearwater Pathway // Murkwater Pathway         [B, U]   \n",
       "262            Cragcrown Pathway // Timbercrown Pathway         [G, R]   \n",
       "296             Darkbore Pathway // Slitherbore Pathway         [B, G]   \n",
       "387         Emeria's Call // Emeria, Shattered Skyclave            [W]   \n",
       "448           Flamescroll Celebrant // Revel in Silence         [R, W]   \n",
       "575               Hengegate Pathway // Mistgate Pathway         [U, W]   \n",
       "639      Jace, Vryn's Prodigy // Jace, Telepath Unbound            [U]   \n",
       "654      Jorn, God of Winter // Kaldring, the Rimestaff      [B, G, U]   \n",
       "658                   Kabira Takedown // Kabira Plateau            [W]   \n",
       "759                     Malakir Rebirth // Malakir Mire            [B]   \n",
       "877          Needleverge Pathway // Pillarverge Pathway         [R, W]   \n",
       "1083            Riverglide Pathway // Lavaglide Pathway         [R, U]   \n",
       "1130           Sea Gate Restoration // Sea Gate, Reborn            [U]   \n",
       "1142                   Sejiri Shelter // Sejiri Glacier            [W]   \n",
       "1159  Shatterskull Smashing // Shatterskull, the Ham...            [R]   \n",
       "1334        Tergrid, God of Fright // Tergrid's Lantern            [B]   \n",
       "1411  Turntimber Symbiosis // Turntimber, Serpentine...            [G]   \n",
       "1441            Valakut Awakening // Valakut Stoneforge            [R]   \n",
       "1442      Valki, God of Lies // Tibalt, Cosmic Impostor         [B, R]   \n",
       "1477         Voldaren Pariah // Abolisher of Bloodlines            [B]   \n",
       "1484         Wandering Archaic // Explore the Vastlands             []   \n",
       "\n",
       "                                              type_line  reserved  \\\n",
       "17                                      Sorcery // Land     False   \n",
       "92                                         Land // Land     False   \n",
       "110      Legendary Creature — God // Legendary Artifact     False   \n",
       "121                                        Land // Land     False   \n",
       "157                                        Land // Land     False   \n",
       "226                                        Land // Land     False   \n",
       "262                                        Land // Land     False   \n",
       "296                                        Land // Land     False   \n",
       "387                                     Sorcery // Land     False   \n",
       "448                  Creature — Human Shaman // Instant     False   \n",
       "575                                        Land // Land     False   \n",
       "639   Legendary Creature — Human Wizard // Legendary...     False   \n",
       "654   Legendary Snow Creature — God // Legendary Sno...     False   \n",
       "658                                     Instant // Land     False   \n",
       "759                                     Instant // Land     False   \n",
       "877                                        Land // Land     False   \n",
       "1083                                       Land // Land     False   \n",
       "1130                                    Sorcery // Land     False   \n",
       "1142                                    Instant // Land     False   \n",
       "1159                                    Sorcery // Land     False   \n",
       "1334     Legendary Creature — God // Legendary Artifact     False   \n",
       "1411                                    Sorcery // Land     False   \n",
       "1441                                    Instant // Land     False   \n",
       "1442  Legendary Creature — God // Legendary Planeswa...     False   \n",
       "1477  Creature — Vampire Horror // Creature — Eldraz...     False   \n",
       "1484                       Creature — Avatar // Sorcery     False   \n",
       "\n",
       "                                                 prices     _merge  \n",
       "17    {'usd': '14.65', 'usd_foil': '15.08', 'eur': '...  left_only  \n",
       "92    {'usd': '5.48', 'usd_foil': '5.39', 'eur': '3....  left_only  \n",
       "110   {'usd': '5.26', 'usd_foil': '5.87', 'eur': '2....  left_only  \n",
       "121   {'usd': '5.13', 'usd_foil': '5.19', 'eur': '4....  left_only  \n",
       "157   {'usd': '2.31', 'usd_foil': '2.90', 'eur': '3....  left_only  \n",
       "226   {'usd': '5.13', 'usd_foil': '4.85', 'eur': '4....  left_only  \n",
       "262   {'usd': '2.83', 'usd_foil': '2.64', 'eur': '2....  left_only  \n",
       "296   {'usd': '8.37', 'usd_foil': '8.92', 'eur': '6....  left_only  \n",
       "387   {'usd': '2.03', 'usd_foil': '2.31', 'eur': '2....  left_only  \n",
       "448   {'usd': '0.22', 'usd_foil': '0.26', 'eur': '0....  left_only  \n",
       "575   {'usd': '5.40', 'usd_foil': '5.34', 'eur': '3....  left_only  \n",
       "639   {'usd': '14.27', 'usd_foil': '36.30', 'eur': '...  left_only  \n",
       "654   {'usd': '0.29', 'usd_foil': '0.45', 'eur': '0....  left_only  \n",
       "658   {'usd': '0.23', 'usd_foil': '0.28', 'eur': '0....  left_only  \n",
       "759   {'usd': '3.07', 'usd_foil': '4.09', 'eur': '0....  left_only  \n",
       "877   {'usd': '4.12', 'usd_foil': '4.46', 'eur': '3....  left_only  \n",
       "1083  {'usd': '5.01', 'usd_foil': '5.45', 'eur': '4....  left_only  \n",
       "1130  {'usd': '11.87', 'usd_foil': '11.49', 'eur': '...  left_only  \n",
       "1142  {'usd': '0.42', 'usd_foil': '0.54', 'eur': '0....  left_only  \n",
       "1159  {'usd': '3.27', 'usd_foil': '3.78', 'eur': '5....  left_only  \n",
       "1334  {'usd': '4.49', 'usd_foil': '4.61', 'eur': '4....  left_only  \n",
       "1411  {'usd': '2.18', 'usd_foil': '3.22', 'eur': '3....  left_only  \n",
       "1441  {'usd': '4.98', 'usd_foil': '5.89', 'eur': '3....  left_only  \n",
       "1442  {'usd': '14.46', 'usd_foil': '15.43', 'eur': '...  left_only  \n",
       "1477  {'usd': '1.75', 'usd_foil': '4.94', 'eur': '0....  left_only  \n",
       "1484  {'usd': '5.85', 'usd_foil': '6.63', 'eur': '3....  left_only  "
      ],
      "text/html": "<div>\n<style scoped>\n    .dataframe tbody tr th:only-of-type {\n        vertical-align: middle;\n    }\n\n    .dataframe tbody tr th {\n        vertical-align: top;\n    }\n\n    .dataframe thead th {\n        text-align: right;\n    }\n</style>\n<table border=\"1\" class=\"dataframe\">\n  <thead>\n    <tr style=\"text-align: right;\">\n      <th></th>\n      <th>Card Name</th>\n      <th>Title</th>\n      <th>Link</th>\n      <th>Ocurrences</th>\n      <th>name</th>\n      <th>color_identity</th>\n      <th>type_line</th>\n      <th>reserved</th>\n      <th>prices</th>\n      <th>_merge</th>\n    </tr>\n  </thead>\n  <tbody>\n    <tr>\n      <th>17</th>\n      <td>Agadeem's Awakening</td>\n      <td>[The King's Chain, Yuriko Pivot, cEDH Inalla -...</td>\n      <td>[https://www.moxfield.com/decks/uxtkikNzW0mTlu...</td>\n      <td>7</td>\n      <td>Agadeem's Awakening // Agadeem, the Undercrypt</td>\n      <td>[B]</td>\n      <td>Sorcery // Land</td>\n      <td>False</td>\n      <td>{'usd': '14.65', 'usd_foil': '15.08', 'eur': '...</td>\n      <td>left_only</td>\n    </tr>\n    <tr>\n      <th>92</th>\n      <td>Barkchannel Pathway</td>\n      <td>[[cEDH] Momir Vig's Hackball, Rashmi Draw Go]</td>\n      <td>[https://www.moxfield.com/decks/tIL7CthM5kuTXk...</td>\n      <td>2</td>\n      <td>Barkchannel Pathway // Tidechannel Pathway</td>\n      <td>[G, U]</td>\n      <td>Land // Land</td>\n      <td>False</td>\n      <td>{'usd': '5.48', 'usd_foil': '5.39', 'eur': '3....</td>\n      <td>left_only</td>\n    </tr>\n    <tr>\n      <th>110</th>\n      <td>Birgi, God of Storytelling</td>\n      <td>[Frozen Scepter Parun 2.0, Rakdos Adept, celeb...</td>\n      <td>[https://www.moxfield.com/decks/belqftDqDEWVEZ...</td>\n      <td>30</td>\n      <td>Birgi, God of Storytelling // Harnfel, Horn of...</td>\n      <td>[R]</td>\n      <td>Legendary Creature — God // Legendary Artifact</td>\n      <td>False</td>\n      <td>{'usd': '5.26', 'usd_foil': '5.87', 'eur': '2....</td>\n      <td>left_only</td>\n    </tr>\n    <tr>\n      <th>121</th>\n      <td>Blightstep Pathway</td>\n      <td>[DocksideDoomRound]</td>\n      <td>[https://www.moxfield.com/decks/jU1S6wncyUmNA3...</td>\n      <td>1</td>\n      <td>Blightstep Pathway // Searstep Pathway</td>\n      <td>[B, R]</td>\n      <td>Land // Land</td>\n      <td>False</td>\n      <td>{'usd': '5.13', 'usd_foil': '5.19', 'eur': '4....</td>\n      <td>left_only</td>\n    </tr>\n    <tr>\n      <th>157</th>\n      <td>Branchloft Pathway</td>\n      <td>[Tymna/Sidar Raza, Selvala Twiddlestorm cEDH P...</td>\n      <td>[https://www.moxfield.com/decks/1vqfLIEtWkOnZo...</td>\n      <td>2</td>\n      <td>Branchloft Pathway // Boulderloft Pathway</td>\n      <td>[G, W]</td>\n      <td>Land // Land</td>\n      <td>False</td>\n      <td>{'usd': '2.31', 'usd_foil': '2.90', 'eur': '3....</td>\n      <td>left_only</td>\n    </tr>\n    <tr>\n      <th>226</th>\n      <td>Clearwater Pathway</td>\n      <td>[Kels Consultation Scepter cEDH, Don't Talk Ab...</td>\n      <td>[https://www.moxfield.com/decks/5_b4DltiAkaMGD...</td>\n      <td>5</td>\n      <td>Clearwater Pathway // Murkwater Pathway</td>\n      <td>[B, U]</td>\n      <td>Land // Land</td>\n      <td>False</td>\n      <td>{'usd': '5.13', 'usd_foil': '4.85', 'eur': '4....</td>\n      <td>left_only</td>\n    </tr>\n    <tr>\n      <th>262</th>\n      <td>Cragcrown Pathway</td>\n      <td>[Snoop Tharry Tharr [Primer]: Gruul Was the Ha...</td>\n      <td>[https://www.moxfield.com/decks/wHkTll0w6EuJPk...</td>\n      <td>1</td>\n      <td>Cragcrown Pathway // Timbercrown Pathway</td>\n      <td>[G, R]</td>\n      <td>Land // Land</td>\n      <td>False</td>\n      <td>{'usd': '2.83', 'usd_foil': '2.64', 'eur': '2....</td>\n      <td>left_only</td>\n    </tr>\n    <tr>\n      <th>296</th>\n      <td>Darkbore Pathway</td>\n      <td>[Tymna/Sidar Raza, Turbo Poison Hulk, Honorles...</td>\n      <td>[https://www.moxfield.com/decks/1vqfLIEtWkOnZo...</td>\n      <td>4</td>\n      <td>Darkbore Pathway // Slitherbore Pathway</td>\n      <td>[B, G]</td>\n      <td>Land // Land</td>\n      <td>False</td>\n      <td>{'usd': '8.37', 'usd_foil': '8.92', 'eur': '6....</td>\n      <td>left_only</td>\n    </tr>\n    <tr>\n      <th>387</th>\n      <td>Emeria's Call</td>\n      <td>[Heliod, Stax-Crowned cEDH, Heliod II: Sunshin...</td>\n      <td>[https://www.moxfield.com/decks/urs4pKTeCUyZ-F...</td>\n      <td>8</td>\n      <td>Emeria's Call // Emeria, Shattered Skyclave</td>\n      <td>[W]</td>\n      <td>Sorcery // Land</td>\n      <td>False</td>\n      <td>{'usd': '2.03', 'usd_foil': '2.31', 'eur': '2....</td>\n      <td>left_only</td>\n    </tr>\n    <tr>\n      <th>448</th>\n      <td>Flamescroll Celebrant</td>\n      <td>[Clampstorm, 💧 Blue Farm💧 , [cEDH] Return of t...</td>\n      <td>[https://www.moxfield.com/decks/QP1PcYDAnkCv39...</td>\n      <td>3</td>\n      <td>Flamescroll Celebrant // Revel in Silence</td>\n      <td>[R, W]</td>\n      <td>Creature — Human Shaman // Instant</td>\n      <td>False</td>\n      <td>{'usd': '0.22', 'usd_foil': '0.26', 'eur': '0....</td>\n      <td>left_only</td>\n    </tr>\n    <tr>\n      <th>575</th>\n      <td>Hengegate Pathway</td>\n      <td>[Smothering Arbiter 🕖, ShiftLash GAAIV, Omen P...</td>\n      <td>[https://www.moxfield.com/decks/CNxApwC0YE6QUQ...</td>\n      <td>3</td>\n      <td>Hengegate Pathway // Mistgate Pathway</td>\n      <td>[U, W]</td>\n      <td>Land // Land</td>\n      <td>False</td>\n      <td>{'usd': '5.40', 'usd_foil': '5.34', 'eur': '3....</td>\n      <td>left_only</td>\n    </tr>\n    <tr>\n      <th>639</th>\n      <td>Jace, Vryn's Prodigy</td>\n      <td>[[cEDH Primer] Stormy Discard, Rielle Adaptati...</td>\n      <td>[https://www.moxfield.com/decks/jNFzjXtnu0ac1A...</td>\n      <td>6</td>\n      <td>Jace, Vryn's Prodigy // Jace, Telepath Unbound</td>\n      <td>[U]</td>\n      <td>Legendary Creature — Human Wizard // Legendary...</td>\n      <td>False</td>\n      <td>{'usd': '14.27', 'usd_foil': '36.30', 'eur': '...</td>\n      <td>left_only</td>\n    </tr>\n    <tr>\n      <th>654</th>\n      <td>Jorn, God of Winter</td>\n      <td>[[cEDH] Jorn, God of Stax, King of the North [...</td>\n      <td>[https://www.moxfield.com/decks/W0tbKZGNyEa5vX...</td>\n      <td>2</td>\n      <td>Jorn, God of Winter // Kaldring, the Rimestaff</td>\n      <td>[B, G, U]</td>\n      <td>Legendary Snow Creature — God // Legendary Sno...</td>\n      <td>False</td>\n      <td>{'usd': '0.29', 'usd_foil': '0.45', 'eur': '0....</td>\n      <td>left_only</td>\n    </tr>\n    <tr>\n      <th>658</th>\n      <td>Kabira Takedown</td>\n      <td>[Heliod, Stax-Crowned cEDH]</td>\n      <td>[https://www.moxfield.com/decks/urs4pKTeCUyZ-F...</td>\n      <td>1</td>\n      <td>Kabira Takedown // Kabira Plateau</td>\n      <td>[W]</td>\n      <td>Instant // Land</td>\n      <td>False</td>\n      <td>{'usd': '0.23', 'usd_foil': '0.28', 'eur': '0....</td>\n      <td>left_only</td>\n    </tr>\n    <tr>\n      <th>759</th>\n      <td>Malakir Rebirth</td>\n      <td>[Rakdos Adept]</td>\n      <td>[https://www.moxfield.com/decks/K6JZovGucE-W8r...</td>\n      <td>1</td>\n      <td>Malakir Rebirth // Malakir Mire</td>\n      <td>[B]</td>\n      <td>Instant // Land</td>\n      <td>False</td>\n      <td>{'usd': '3.07', 'usd_foil': '4.09', 'eur': '0....</td>\n      <td>left_only</td>\n    </tr>\n    <tr>\n      <th>877</th>\n      <td>Needleverge Pathway</td>\n      <td>[Winota: Snowball Stax]</td>\n      <td>[https://www.moxfield.com/decks/j-0aJlxuOUm9Fn...</td>\n      <td>1</td>\n      <td>Needleverge Pathway // Pillarverge Pathway</td>\n      <td>[R, W]</td>\n      <td>Land // Land</td>\n      <td>False</td>\n      <td>{'usd': '4.12', 'usd_foil': '4.46', 'eur': '3....</td>\n      <td>left_only</td>\n    </tr>\n    <tr>\n      <th>1083</th>\n      <td>Riverglide Pathway</td>\n      <td>[👍 Siskel &amp; Ebert 👍, 🌩Storm the Weatherlight ⚓...</td>\n      <td>[https://www.moxfield.com/decks/G-RUVy_CMUWzXl...</td>\n      <td>3</td>\n      <td>Riverglide Pathway // Lavaglide Pathway</td>\n      <td>[R, U]</td>\n      <td>Land // Land</td>\n      <td>False</td>\n      <td>{'usd': '5.01', 'usd_foil': '5.45', 'eur': '4....</td>\n      <td>left_only</td>\n    </tr>\n    <tr>\n      <th>1130</th>\n      <td>Sea Gate Restoration</td>\n      <td>[Yuriko Pivot, ✨👁️Turns of Future Past👁️✨, Orp...</td>\n      <td>[https://www.moxfield.com/decks/N1VNylbgskmYWa...</td>\n      <td>14</td>\n      <td>Sea Gate Restoration // Sea Gate, Reborn</td>\n      <td>[U]</td>\n      <td>Sorcery // Land</td>\n      <td>False</td>\n      <td>{'usd': '11.87', 'usd_foil': '11.49', 'eur': '...</td>\n      <td>left_only</td>\n    </tr>\n    <tr>\n      <th>1142</th>\n      <td>Sejiri Shelter</td>\n      <td>[Heliod, Stax-Crowned cEDH]</td>\n      <td>[https://www.moxfield.com/decks/urs4pKTeCUyZ-F...</td>\n      <td>1</td>\n      <td>Sejiri Shelter // Sejiri Glacier</td>\n      <td>[W]</td>\n      <td>Instant // Land</td>\n      <td>False</td>\n      <td>{'usd': '0.42', 'usd_foil': '0.54', 'eur': '0....</td>\n      <td>left_only</td>\n    </tr>\n    <tr>\n      <th>1159</th>\n      <td>Shatterskull Smashing</td>\n      <td>[Niv-Mizzet, Parun, Rakdos Adept, The Ardent W...</td>\n      <td>[https://www.moxfield.com/decks/HmRJ5ju54USIf9...</td>\n      <td>27</td>\n      <td>Shatterskull Smashing // Shatterskull, the Ham...</td>\n      <td>[R]</td>\n      <td>Sorcery // Land</td>\n      <td>False</td>\n      <td>{'usd': '3.27', 'usd_foil': '3.78', 'eur': '5....</td>\n      <td>left_only</td>\n    </tr>\n    <tr>\n      <th>1334</th>\n      <td>Tergrid, God of Fright</td>\n      <td>[kroxa staxclasm]</td>\n      <td>[https://www.moxfield.com/decks/LYJoKiPcPkWiav...</td>\n      <td>1</td>\n      <td>Tergrid, God of Fright // Tergrid's Lantern</td>\n      <td>[B]</td>\n      <td>Legendary Creature — God // Legendary Artifact</td>\n      <td>False</td>\n      <td>{'usd': '4.49', 'usd_foil': '4.61', 'eur': '4....</td>\n      <td>left_only</td>\n    </tr>\n    <tr>\n      <th>1411</th>\n      <td>Turntimber Symbiosis</td>\n      <td>[Sisay, Blessed Soul cEDH Primer, ⚰️ Enigmatic...</td>\n      <td>[https://www.moxfield.com/decks/P_HpAjOOsEW7a1...</td>\n      <td>7</td>\n      <td>Turntimber Symbiosis // Turntimber, Serpentine...</td>\n      <td>[G]</td>\n      <td>Sorcery // Land</td>\n      <td>False</td>\n      <td>{'usd': '2.18', 'usd_foil': '3.22', 'eur': '3....</td>\n      <td>left_only</td>\n    </tr>\n    <tr>\n      <th>1441</th>\n      <td>Valakut Awakening</td>\n      <td>[Rakdos Adept, Birgi, God of Storm (cEDH), Bir...</td>\n      <td>[https://www.moxfield.com/decks/K6JZovGucE-W8r...</td>\n      <td>5</td>\n      <td>Valakut Awakening // Valakut Stoneforge</td>\n      <td>[R]</td>\n      <td>Instant // Land</td>\n      <td>False</td>\n      <td>{'usd': '4.98', 'usd_foil': '5.89', 'eur': '3....</td>\n      <td>left_only</td>\n    </tr>\n    <tr>\n      <th>1442</th>\n      <td>Valki, God of Lies</td>\n      <td>[Revolution]</td>\n      <td>[https://www.moxfield.com/decks/3RPLVO_070KCSB...</td>\n      <td>1</td>\n      <td>Valki, God of Lies // Tibalt, Cosmic Impostor</td>\n      <td>[B, R]</td>\n      <td>Legendary Creature — God // Legendary Planeswa...</td>\n      <td>False</td>\n      <td>{'usd': '14.46', 'usd_foil': '15.43', 'eur': '...</td>\n      <td>left_only</td>\n    </tr>\n    <tr>\n      <th>1477</th>\n      <td>Voldaren Pariah</td>\n      <td>[Filter Anje cEDH Primer]</td>\n      <td>[https://www.moxfield.com/decks/PFGBjM5BnESfH9...</td>\n      <td>1</td>\n      <td>Voldaren Pariah // Abolisher of Bloodlines</td>\n      <td>[B]</td>\n      <td>Creature — Vampire Horror // Creature — Eldraz...</td>\n      <td>False</td>\n      <td>{'usd': '1.75', 'usd_foil': '4.94', 'eur': '0....</td>\n      <td>left_only</td>\n    </tr>\n    <tr>\n      <th>1484</th>\n      <td>Wandering Archaic</td>\n      <td>[Kels Consultation Scepter cEDH, Orvar Twitch ...</td>\n      <td>[https://www.moxfield.com/decks/5_b4DltiAkaMGD...</td>\n      <td>13</td>\n      <td>Wandering Archaic // Explore the Vastlands</td>\n      <td>[]</td>\n      <td>Creature — Avatar // Sorcery</td>\n      <td>False</td>\n      <td>{'usd': '5.85', 'usd_foil': '6.63', 'eur': '3....</td>\n      <td>left_only</td>\n    </tr>\n  </tbody>\n</table>\n</div>"
     },
     "metadata": {},
     "execution_count": 33
    }
   ],
   "source": [
    "cedh_scry2[cedh_scry2['_merge']=='left_only']"
   ]
  },
  {
   "cell_type": "code",
   "execution_count": null,
   "metadata": {},
   "outputs": [],
   "source": []
  }
 ],
 "metadata": {
  "kernelspec": {
   "name": "python3",
   "display_name": "Python 3.9.5 64-bit ('scrapper': conda)"
  },
  "language_info": {
   "codemirror_mode": {
    "name": "ipython",
    "version": 3
   },
   "file_extension": ".py",
   "mimetype": "text/x-python",
   "name": "python",
   "nbconvert_exporter": "python",
   "pygments_lexer": "ipython3",
   "version": "3.9.5"
  },
  "interpreter": {
   "hash": "6b411f96bd496b37eb8fda9b3e7b617aec005b90464881fef6869f06f7582f62"
  }
 },
 "nbformat": 4,
 "nbformat_minor": 5
}