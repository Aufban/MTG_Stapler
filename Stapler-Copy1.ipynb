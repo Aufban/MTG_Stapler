{
 "cells": [
  {
   "cell_type": "code",
   "execution_count": null,
   "id": "da86fcc0-4ee6-480a-b915-53e6dd4bf90e",
   "metadata": {},
   "outputs": [],
   "source": [
    "from bs4 import BeautifulSoup as soup \n",
    "from urllib.request import urlopen as uReq\n",
    "from urllib.request import Request\n",
    "import time\n",
    "from selenium import webdriver\n",
    "from selenium.webdriver.chrome.options import Options\n",
    "from webdriver_manager.chrome import ChromeDriverManager"
   ]
  },
  {
   "cell_type": "code",
   "execution_count": null,
   "id": "1bff3f6d-df7a-47b1-bccc-1a68e4c14bc1",
   "metadata": {},
   "outputs": [],
   "source": [
    "myurl =  'https://cedh-decklist-database.com'\n",
    "cards = []"
   ]
  },
  {
   "cell_type": "code",
   "execution_count": null,
   "id": "3e7d5373-bce0-4aeb-9f2f-565f7d022814",
   "metadata": {},
   "outputs": [],
   "source": [
    "client = uReq(myurl) # opening connection \n",
    "page_html = client.read() # content to variable\n",
    "client.close() # closes connection \n",
    "page_soup = soup(page_html, 'html.parser') # html parsing \n",
    "containers = page_soup.findAll(\"ul\",{\"class\": \"ddb-decklists\"})\n",
    "htmls = []\n",
    "for c in containers:\n",
    "    htmls.append(c.a[\"href\"])"
   ]
  },
  {
   "cell_type": "code",
   "execution_count": null,
   "id": "63f9dfcc-add4-4951-a578-e372295bd59e",
   "metadata": {},
   "outputs": [],
   "source": [
    "for decklist in htmls:\n",
    "    chromedriver_path= r\"C:\\Users\\Brian\\OneDrive\\Desktop\\chromedriver.exe\"\n",
    "    driver = webdriver.Chrome(chromedriver_path)\n",
    "    driver.get(decklist)\n",
    "    page_source = driver.page_source\n",
    "    driver.close()\n",
    "    page_soup = soup(page_source, 'lxml')\n",
    "    containers = page_soup.findAll(\"tr\",{\"class\": \"table-deck-row\"})\n",
    "    for c in containers:\n",
    "        cards.append( c.a.get_text())"
   ]
  },
  {
   "cell_type": "code",
   "execution_count": null,
   "id": "0cc4c016-caa5-4e05-8403-b163befb13c9",
   "metadata": {},
   "outputs": [],
   "source": [
    "card_data = pd.DataFrame({'Card Name': cards})\n",
    "card_data.to_csv('cards1.csv')"
   ]
  },
  {
   "cell_type": "code",
   "execution_count": null,
   "id": "0b5b45bc-1cfd-44d8-9df0-8d060303225d",
   "metadata": {},
   "outputs": [],
   "source": [
    "import pandas as pd\n",
    "import numpy as np\n",
    "card_data = pd.read_csv('cards.csv', usecols = ['0'])\n",
    "card_data  = card_data.rename({'0': 'Card Name'}, axis = 1)\n",
    "card_data = pd.DataFrame(card_data.value_counts())\n",
    "card_data.rename( columns={0 :'Occurances'}, inplace=True )\n",
    "card_data = card_data[card_data['Occurances'] > 10]\n",
    "card_data.to_csv(\"CEDH_Staple_Ranking1.csv\")"
   ]
  },
  {
   "cell_type": "code",
   "execution_count": null,
   "id": "518ec6bc-5993-44d9-ada7-a0ec118bb0f8",
   "metadata": {},
   "outputs": [],
   "source": []
  }
 ],
 "metadata": {
  "kernelspec": {
   "display_name": "Python 3",
   "language": "python",
   "name": "python3"
  },
  "language_info": {
   "codemirror_mode": {
    "name": "ipython",
    "version": 3
   },
   "file_extension": ".py",
   "mimetype": "text/x-python",
   "name": "python",
   "nbconvert_exporter": "python",
   "pygments_lexer": "ipython3",
   "version": "3.9.1"
  }
 },
 "nbformat": 4,
 "nbformat_minor": 5
}
