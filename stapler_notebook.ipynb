{
 "metadata": {
  "language_info": {
   "codemirror_mode": {
    "name": "ipython",
    "version": 3
   },
   "file_extension": ".py",
   "mimetype": "text/x-python",
   "name": "python",
   "nbconvert_exporter": "python",
   "pygments_lexer": "ipython3",
   "version": "3.9.5"
  },
  "orig_nbformat": 4,
  "kernelspec": {
   "name": "python3",
   "display_name": "Python 3.9.5 64-bit ('scrapper': conda)"
  },
  "interpreter": {
   "hash": "6b411f96bd496b37eb8fda9b3e7b617aec005b90464881fef6869f06f7582f62"
  }
 },
 "nbformat": 4,
 "nbformat_minor": 2,
 "cells": [
  {
   "source": [
    "## MTG Stapler\n",
    "Jupyter Notebook to test and download all the COMPETITIVE cards.\n",
    "\n",
    "Future TO DO:\n",
    "* Add support for MTG Goldfish Lists\n",
    "* Add support for Archidekt\n",
    "* Add Brewer's Corner\n",
    "* Get only cards in decklists\n",
    "* Add Maybeboard and Sideaboard Classification\n",
    "* Make more specific scrapping to omit sample hand"
   ],
   "cell_type": "markdown",
   "metadata": {}
  },
  {
   "cell_type": "code",
   "execution_count": 8,
   "metadata": {},
   "outputs": [],
   "source": [
    "from bs4 import BeautifulSoup as soup\n",
    "from urllib.request import urlopen as uReq\n",
    "import time\n",
    "from selenium import webdriver\n",
    "from selenium.webdriver.chrome.options import Options\n",
    "from webdriver_manager.chrome import ChromeDriverManager\n",
    "from selenium.webdriver.support.ui import WebDriverWait\n",
    "from selenium.webdriver.support import expected_conditions as EC\n",
    "from selenium.webdriver.common.by import By\n",
    "from selenium.common.exceptions import NoSuchElementException,TimeoutException\n",
    "import pandas as pd\n",
    "import re\n",
    "import os\n",
    "from tqdm.notebook import tqdm\n"
   ]
  },
  {
   "source": [
    "## Scrapping cEDH lists from the decklist database"
   ],
   "cell_type": "markdown",
   "metadata": {}
  },
  {
   "cell_type": "code",
   "execution_count": 3,
   "metadata": {},
   "outputs": [],
   "source": [
    "cedh_database =  'https://cedh-decklist-database.com'\n",
    "client = uReq(cedh_database) # opening connection \n",
    "page_html = client.read() # content to variable\n",
    "client.close() # closes connection \n",
    "page_soup = soup(page_html, 'html.parser') # html parsing \n",
    "containers = page_soup.findAll(\"div\",{\"class\": \"ddb-section\"})\n",
    "htmls = []\n",
    "for c in containers:\n",
    "    if c.get_text().strip() == 'COMPETITIVE':\n",
    "        x = c.parent.parent.find(\"ul\", {\"class\": \"ddb-decklists\"})\n",
    "        lis = x.findAll('li')\n",
    "        for li in lis:\n",
    "            htmls.append(li.a[\"href\"])"
   ]
  },
  {
   "source": [
    "Checking not moxfield lists"
   ],
   "cell_type": "markdown",
   "metadata": {}
  },
  {
   "cell_type": "code",
   "execution_count": 15,
   "metadata": {},
   "outputs": [
    {
     "output_type": "execute_result",
     "data": {
      "text/plain": [
       "['https://www.mtggoldfish.com/deck/3982753#paper',\n",
       " 'https://www.mtggoldfish.com/deck/3982746#paper',\n",
       " '',\n",
       " '',\n",
       " '',\n",
       " 'https://archidekt.com/decks/74512#A_Song_of_Turns_and_Dongers']"
      ]
     },
     "metadata": {},
     "execution_count": 15
    }
   ],
   "source": [
    "[i for i in htmls if 'moxfield' not in i]"
   ]
  },
  {
   "source": [
    "## Cleaning URLS\n",
    "* Remove trailing / \n",
    "* Remove trailing /primer"
   ],
   "cell_type": "markdown",
   "metadata": {}
  },
  {
   "cell_type": "code",
   "execution_count": 6,
   "metadata": {},
   "outputs": [],
   "source": [
    "def second_group(m):\n",
    "    return m.group(1)\n",
    "htmls = list(map(lambda x: re.sub(r'(.*)/$|(.*)/primer$',second_group,x ), htmls))"
   ]
  },
  {
   "cell_type": "code",
   "execution_count": 37,
   "metadata": {},
   "outputs": [
    {
     "output_type": "execute_result",
     "data": {
      "text/plain": [
       "['https://www.moxfield.com/decks/1vqfLIEtWkOnZo-ywKQtKA',\n",
       " 'https://www.moxfield.com/decks/HmRJ5ju54USIf9UVsl5kwQ',\n",
       " 'https://www.moxfield.com/decks/belqftDqDEWVEZUMf88PCw',\n",
       " 'https://www.moxfield.com/decks/yRsS18tYsE-jVgqmK7_Z0w',\n",
       " 'https://www.moxfield.com/decks/K6JZovGucE-W8rAnoVgmNA',\n",
       " 'https://www.moxfield.com/decks/SsKY4t8Mnk66xHA3cOokuQ',\n",
       " 'https://www.moxfield.com/decks/uxtkikNzW0mTluQuOGF4eg',\n",
       " 'https://www.moxfield.com/decks/rdb6vhTBQk2dAYDAdnt_jw',\n",
       " 'https://www.moxfield.com/decks/jNFzjXtnu0ac1AoBz80Vbw',\n",
       " 'https://www.moxfield.com/decks/4iZV3rLTGkmX2H_FFP_1dQ',\n",
       " 'https://www.moxfield.com/decks/EwS7lyEQN0mLtomfKlwoMQ',\n",
       " 'https://www.moxfield.com/decks/CuKho0dh4UaVpYJWy3xG4A',\n",
       " 'https://www.moxfield.com/decks/5_b4DltiAkaMGDI3rv3TxA',\n",
       " 'https://www.moxfield.com/decks/VtL56p-yU0-bRGtaJFVqHw',\n",
       " 'https://www.moxfield.com/decks/N1VNylbgskmYWa09r26ygQ',\n",
       " 'https://www.moxfield.com/decks/Y2cdFYZw_0-isKafmKXgNw',\n",
       " 'https://www.moxfield.com/decks/hbLMs7xcfUyun2nxK-sRlw',\n",
       " 'https://www.moxfield.com/decks/1t0Cpm1xqUeyA-6xi2TrGQ',\n",
       " 'https://www.moxfield.com/decks/HZ1U4Wsv506aJUYvp_klPQ',\n",
       " 'https://www.moxfield.com/decks/6kN7cSH9xUSrQtv873pziw',\n",
       " 'https://www.moxfield.com/decks/KtYYMEkhuUeFdC-LerpWEA',\n",
       " 'https://www.moxfield.com/decks/E5fXuk5WZUu7_z3TqPlcAQ',\n",
       " 'https://www.moxfield.com/decks/u8vKYsL9mkWTItI1JCR85Q',\n",
       " 'https://www.moxfield.com/decks/pc90TNIHNkeUbVKDUpkRzA',\n",
       " 'https://www.mtggoldfish.com/deck/3982753#paper',\n",
       " 'https://www.moxfield.com/decks/1lr83pnZzkGuN7usk86-6g',\n",
       " 'https://www.moxfield.com/decks/_HEy_8vUe0i6DIZ0yt3isQ',\n",
       " 'https://www.mtggoldfish.com/deck/3982746#paper',\n",
       " 'https://www.moxfield.com/decks/vQsP4493GUGWeDeIiGd7qQ',\n",
       " 'https://www.moxfield.com/decks/IkyDwh_o0UWLzXROMWSlhA',\n",
       " 'https://www.moxfield.com/decks/PCv5XGUD3EWGwbTXt-DwHQ',\n",
       " '',\n",
       " 'https://www.moxfield.com/decks/urs4pKTeCUyZ-FJimN5prA',\n",
       " 'https://www.moxfield.com/decks/rohOeIs-dEmA1LAqpNaCOg ',\n",
       " 'https://www.moxfield.com/decks/ThcETLXsHk27KhZqxQ1cSg',\n",
       " 'https://www.moxfield.com/decks/__lFQa0Nt0ymhyYcw8v7kg',\n",
       " 'https://www.moxfield.com/decks/MmSuGNGj8U27MCQriiSofg',\n",
       " 'https://www.moxfield.com/decks/_4HeABv9DEeykmnZy1JICg',\n",
       " 'https://www.moxfield.com/decks/651y_CvPcUCmD-J5bd_VYQ',\n",
       " 'https://www.moxfield.com/decks/W0tbKZGNyEa5vXx9JBOxNA',\n",
       " 'https://www.moxfield.com/decks/-9GxAdbF7k2YLe9fUe4HLw',\n",
       " 'https://www.moxfield.com/decks/2QnGQIegsUaChGQe31VvJQ',\n",
       " 'https://www.moxfield.com/decks/VfAj83sObUaqAn9KJqBq_g',\n",
       " 'https://www.moxfield.com/decks/UlP4pj3SyU2ytH86lnRH5Q',\n",
       " 'https://www.moxfield.com/decks/a_uX55eP2k2Hn0yZDV0mpQ',\n",
       " 'https://www.moxfield.com/decks/yzDOi2MmnUaR6YNAMjnpeQ',\n",
       " 'https://www.moxfield.com/decks/P_HpAjOOsEW7a12ir626FA',\n",
       " 'https://www.moxfield.com/decks/WdtTdGdpfkubELICGKefIQ',\n",
       " 'https://www.moxfield.com/decks/7z2H2haMwUaDAyB2pjWrUA',\n",
       " 'https://www.moxfield.com/decks/DBWb3HMZWEqmoK08TTi_nw',\n",
       " 'https://www.moxfield.com/decks/xU0zF78QH0SbGxQsgZvwoA',\n",
       " 'https://www.moxfield.com/decks/yrFKOscy6kWLOZ6otDtXKw',\n",
       " 'https://www.moxfield.com/decks/C5xyxwytW0eaKZkCPtkbrg',\n",
       " 'https://www.moxfield.com/decks/shj-af8AiUWaoFVbNORQig',\n",
       " 'https://www.moxfield.com/decks/LPa67vXm_UmFhR0QO-5NMw',\n",
       " 'https://www.moxfield.com/decks/Edq1ZQOBjUq4uXOIaFEsRA',\n",
       " 'https://www.moxfield.com/decks/LYJoKiPcPkWiavCOcvpvaQ',\n",
       " 'https://www.moxfield.com/decks/TeomRTPMvE6H1HKjHTWseA',\n",
       " 'https://www.moxfield.com/decks/I2MWiF0AM0GgTOnkGS6EhQ',\n",
       " 'https://www.moxfield.com/decks/mlH3OtuuCUaYY1GM_oKCnw',\n",
       " 'https://www.moxfield.com/decks/97rzAq7pJkS6HcNiDPy10A',\n",
       " 'https://www.moxfield.com/decks/-8BYkEz_fUWvU_tmkTD03w',\n",
       " 'https://www.moxfield.com/decks/xmH0i1HMHUi2iCd279RYPA',\n",
       " 'https://www.moxfield.com/decks/lwN5IIiZBEi0C2gUopjDYg',\n",
       " 'https://www.moxfield.com/decks/7iWdci_xRkitnDeTZp0raA',\n",
       " 'https://www.moxfield.com/decks/G-RUVy_CMUWzXlhJknIzZg',\n",
       " 'https://www.moxfield.com/decks/DRp3K4w94Uu-8JYEwnc9nA',\n",
       " 'https://www.moxfield.com/decks/x9GARiys9UKTmsScCGK0-A',\n",
       " 'https://www.moxfield.com/decks/PFGBjM5BnESfH9F8qBIIaw',\n",
       " 'https://www.moxfield.com/decks/8324e8ie70WWhjpwBVPZ9A',\n",
       " 'https://www.moxfield.com/decks/Vva2blXPDEWTPCIW7QfpbA',\n",
       " 'https://jhoira.moxfield.com',\n",
       " 'https://www.moxfield.com/decks/CwZ4jijMkkWpvx7smX2-jQ',\n",
       " 'https://www.moxfield.com/decks/UEly1QMzE0KSKvbcTRxwyw',\n",
       " 'https://www.moxfield.com/decks/fsrJzDCtX0-8UZczYGcwDQ',\n",
       " 'https://www.moxfield.com/decks/Ns1U8bi1fEap3ZT7Is5WmA',\n",
       " 'https://www.moxfield.com/decks/ksOWqeElwUaNmAeybXoEjw',\n",
       " 'https://www.moxfield.com/decks/DfN8K5u8CUCuaGp_l9a2PQ',\n",
       " 'https://www.moxfield.com/decks/aFZVn1cirEi43l7FRB4ftw',\n",
       " 'https://www.moxfield.com/decks/ozNqMp_H90mIuyhnKLXI4g',\n",
       " 'https://www.moxfield.com/decks/rVEjo7IdpECuP96MlsjcrQ',\n",
       " 'https://www.moxfield.com/decks/6Kvf8kECfUm1LtFoS7z0xQ',\n",
       " 'https://www.moxfield.com/decks/BpFjTrlXN0ikDw33Vf-dow',\n",
       " 'https://www.moxfield.com/decks/W3Ko6od8a0CJ5T2Kd1ftdQ',\n",
       " 'https://www.moxfield.com/decks/K0exUYW-gE-g2sPIAaqSng',\n",
       " 'https://www.moxfield.com/decks/8kt-r08YSkOrwzcZc6bmUg',\n",
       " 'https://www.moxfield.com/decks/f01nl0eF60WYsXaUcwrNzw',\n",
       " 'https://www.moxfield.com/decks/XzOpWa7hKEiCTJQ4kIbH2A',\n",
       " 'https://www.moxfield.com/decks/gMN5-x51uE2eSlQbKWbz-A',\n",
       " 'https://www.moxfield.com/decks/4fbiNVFpr0edHL5Y3IKecg',\n",
       " 'https://www.moxfield.com/decks/Sh9PHfRR202_DRLRxxxhEQ',\n",
       " 'https://www.moxfield.com/decks/MhLoZEtQ3EuOqWIbL0U41w',\n",
       " 'https://www.moxfield.com/decks/BPErFu24x0S37bFE_Ibp8w',\n",
       " 'https://www.moxfield.com/decks/QP1PcYDAnkCv39o1BaWGXg',\n",
       " 'https://www.moxfield.com/decks/i270Uk4osUi75C81IX4XAg',\n",
       " 'https://www.moxfield.com/decks/Gi606GDWW0uA_LhdbpL3SA',\n",
       " 'https://www.moxfield.com/decks/HDS0O6dHcECXC2_LvmMNZQ',\n",
       " 'https://www.moxfield.com/decks/mNapLrgSiUaA17cl9XNCpw',\n",
       " 'https://www.moxfield.com/decks/vgIqgzjQjEOTAvnue8aDow',\n",
       " 'https://www.moxfield.com/decks/kes83-onUU6X_H-RyM8HPw',\n",
       " 'https://www.moxfield.com/decks/UCZpPdZhHESE1BgFVge3OA',\n",
       " 'https://www.moxfield.com/decks/FOGgX_PJOEOhShK6YkXaxg',\n",
       " 'https://www.moxfield.com/decks/EhAmBrU6jkmnBE9_BfN7uw',\n",
       " 'https://www.moxfield.com/decks/cB06iazvt0iaM5OJB0htow',\n",
       " 'https://www.moxfield.com/decks/aNLadO4lo0Oby_THAM_ktg',\n",
       " 'https://www.moxfield.com/decks/z57TxjMsgUGqhJ6i9AL9Xg',\n",
       " 'https://www.moxfield.com/decks/NfayMzX0JkWVyrUshHev7A',\n",
       " 'https://www.moxfield.com/decks/nNlx_hg0b0uCmoF11lb-8Q',\n",
       " 'https://www.moxfield.com/decks/CNxApwC0YE6QUQCFf-dwBQ',\n",
       " 'https://www.moxfield.com/decks/7i3rCq-PtEWCx771zlRXnQ',\n",
       " 'https://www.moxfield.com/decks/41UpuPhPgkOXb1P9tbH0og',\n",
       " 'https://www.moxfield.com/decks/jT8Y9X4tlUmeNZ2AjkD1Vg',\n",
       " 'https://www.moxfield.com/decks/X1UflB73ckGADn3XvnTWwA',\n",
       " 'https://www.moxfield.com/decks/0qd6GsaCnEGdiE2CTTm4jg',\n",
       " 'https://www.moxfield.com/decks/wYg5uGSa_kWg2x53EAtOKw',\n",
       " 'https://www.moxfield.com/decks/WyjJzywfYEyiofDYuxFCug',\n",
       " 'https://www.moxfield.com/decks/OSZYIdU-bUmA7MifJQ_fYg',\n",
       " 'https://www.moxfield.com/decks/dTPwvayKo0-jmTP63XQtiA',\n",
       " 'https://www.moxfield.com/decks/94nmpqEwn0iH_GcyvqlYCw',\n",
       " 'https://www.moxfield.com/decks/y_1TTfniakWpJj-EA599Wg',\n",
       " 'https://www.moxfield.com/decks/LxnZegkGuEaPvzZOSeH6RQ',\n",
       " '',\n",
       " 'https://www.moxfield.com/decks/JM1C4BzooEKHkDHmFLgpiw',\n",
       " 'https://www.moxfield.com/decks/DujxA8PlG0eTQZ_hawsTmQ',\n",
       " 'https://www.moxfield.com/decks/GBpmGCGzpki3zU0FzxV-ow',\n",
       " 'https://www.moxfield.com/decks/dMasagRsTEic6t0sWoBGkg',\n",
       " 'https://www.moxfield.com/decks/qKhW5Z7MCUqLts3rsCYx7w',\n",
       " 'https://www.moxfield.com/decks/3jJGHnq1-UO_dHUSXy0lnQ',\n",
       " 'https://www.moxfield.com/decks/yPLtlCQp00qmtCg3Jis5sw',\n",
       " 'https://www.moxfield.com/decks/77tKzEJx8UO_YsL1wXKA1A',\n",
       " 'https://www.moxfield.com/decks/OjY9mvS_eUqlNUqdSpfPTQ',\n",
       " 'https://www.moxfield.com/decks/4FAartw-BEKZq-5pONsN8A',\n",
       " 'https://www.moxfield.com/decks/7rV-BDTUcEush4GjLnx-0A',\n",
       " 'https://www.moxfield.com/decks/WonXxWtFGkuR0rjxikvF0w',\n",
       " 'https://www.moxfield.com/decks/QpEuDVXpakCo50Rks4enMw',\n",
       " 'https://www.moxfield.com/decks/FqWcv7mbwkuYxEXTTUYGbA',\n",
       " 'https://www.moxfield.com/decks/aeaV5R7Dg0WwHV9m_dAHNw',\n",
       " 'https://www.moxfield.com/decks/6DSumnTcFkmstxEtZpik-A',\n",
       " 'https://www.moxfield.com/decks/2zSXC86KokyKs6vAS9-_sw',\n",
       " 'https://www.moxfield.com/decks/XpD60sVO1EqhZl6LyWIvDQ',\n",
       " 'https://www.moxfield.com/decks/1dNAp_02fky--VUpBp9sZg',\n",
       " 'https://www.moxfield.com/decks/LqXPi1OW706_6rZsXrXXmg',\n",
       " 'https://www.moxfield.com/decks/bowilU8pp0ehbGPapI6vpA',\n",
       " 'https://www.moxfield.com/decks/Dj12VRnJjkqd-kF-mhSY1w',\n",
       " 'https://www.moxfield.com/decks/Ipclb36g40mhdmqvPmavpA',\n",
       " 'https://www.moxfield.com/decks/7mG6bOalaEGehafbyyF84A',\n",
       " 'https://www.moxfield.com/decks/CeY3eH3oUUynLoLnrMV85A',\n",
       " 'https://www.moxfield.com/decks/3RPLVO_070KCSBu7ENDM6g',\n",
       " 'https://www.moxfield.com/decks/LBCfNAlN4kOQNqdtqAxBtg',\n",
       " 'https://www.moxfield.com/decks/v1LbiXZWKU65hwVMhJK9nA',\n",
       " 'https://www.moxfield.com/decks/W_qHGcZKWkC7T4GUXg0ouA',\n",
       " 'https://www.moxfield.com/decks/WeAFAZwIAkGWF-SYFfWAag',\n",
       " 'https://www.moxfield.com/decks/0mnESQIM8k-4_Nz3NGhtdg',\n",
       " 'https://www.moxfield.com/decks/kLygDHVCskGtvwAWsL2MNw',\n",
       " 'https://www.moxfield.com/decks/vcpCc0uNk0-QwRwqr5XzBw',\n",
       " 'https://www.moxfield.com/decks/QxRz6y-LfkCcCzEBf0UKWg',\n",
       " 'https://www.moxfield.com/decks/Fo0D4tE8w026omz-6fLEmg',\n",
       " 'https://www.moxfield.com/decks/-DYV0sW0OU-IufUcRWfG7A',\n",
       " 'https://www.moxfield.com/decks/LfCYIt6uCEu7PzwTnUqoPQ',\n",
       " 'https://www.moxfield.com/decks/bcArcASOxU-j-L5TWKjo1w',\n",
       " 'https://www.moxfield.com/decks/yv6BXU5W10uJLXMb0DgVAg',\n",
       " 'https://www.moxfield.com/decks/5MGq8rHiN0eVPhDtVi84AQ',\n",
       " 'https://www.moxfield.com/decks/4ZIRDku-j0id8XGD-V4Nuw',\n",
       " 'https://www.moxfield.com/decks/WuFgkXDyCUOl8kMaiqIioA',\n",
       " 'https://www.moxfield.com/decks/GMft59MvVkq0po8hUB2Ccg',\n",
       " 'https://www.moxfield.com/decks/OurmvUhkrUOz1Zb7Oa4Mbg',\n",
       " 'https://www.moxfield.com/decks/wxO7fnEMZE2FeFVDn17oCg',\n",
       " 'https://www.moxfield.com/decks/ZUw1dxdOJUyMvi2VZoIXJw',\n",
       " 'https://www.moxfield.com/decks/7Og0NOMESUaFwAshV9wC1Q',\n",
       " 'https://www.moxfield.com/decks/jU1S6wncyUmNA3J5UA-a_A',\n",
       " 'https://www.moxfield.com/decks/ek9d5P20VUaBHdb-CzzrVw',\n",
       " 'https://www.moxfield.com/decks/3Nb5DWbEDUWcZOA4bzbr_Q',\n",
       " 'https://www.moxfield.com/decks/EWyavJ8X1EKyOmsxZm9dvg',\n",
       " 'https://www.moxfield.com/decks/C_Bsn7aXq0GSY16rkFyUNg',\n",
       " 'https://www.moxfield.com/decks/O7RMsRcwN0uyxGp9et_L2g',\n",
       " 'https://www.moxfield.com/decks/Vjk-170XDkCBMDRMP8nqPQ',\n",
       " 'https://www.moxfield.com/decks/vbDFJXl9vUOwg9QTXKDLvQ',\n",
       " 'https://www.moxfield.com/decks/5pYP-HNgsUyl2NfZSBXkFg',\n",
       " ' https://www.moxfield.com/decks/0ONY5eLrSE2wmWoEOjhhcQ',\n",
       " 'https://www.moxfield.com/decks/-c-cetvjUEGS194H77S35Q',\n",
       " 'https://www.moxfield.com/decks/qULIEoTSeUqKxmUPjrRRJw',\n",
       " 'https://www.moxfield.com/decks/tIL7CthM5kuTXkzgdjfCxA',\n",
       " 'https://www.moxfield.com/decks/6tdUx3hbGUq8Oz2Y6Q6W-w',\n",
       " 'https://www.moxfield.com/decks/URpEcoe6e0GBp3GzsstyBg',\n",
       " 'https://www.moxfield.com/decks/Re-_xtEbCkyNdH69vyGR8w',\n",
       " 'https://www.moxfield.com/decks/-MV1EWXwH0u-K4j7KYTpvA',\n",
       " 'https://www.moxfield.com/decks/tj910qUf9Uq-Iibp40QfKw',\n",
       " 'https://www.moxfield.com/decks/G0YVGWD68keygYqjPTz8ZQ',\n",
       " 'https://www.moxfield.com/decks/LcNaaKov-kGLxjUvclpDdg',\n",
       " 'https://www.moxfield.com/decks/YyMGY5BD_0-gR0vQwaXPtA',\n",
       " 'https://www.moxfield.com/decks/kGI0y8FmH0aAU2ed8nIUiA',\n",
       " 'https://www.moxfield.com/decks/k120PKGfZEC4FAwuGoQu6g',\n",
       " 'https://www.moxfield.com/decks/j-0aJlxuOUm9FnKRvJcfZw',\n",
       " '',\n",
       " 'https://www.moxfield.com/decks/G5bcrNhUjUiUP7D5keEs_g',\n",
       " 'https://www.moxfield.com/decks/wHkTll0w6EuJPkqNTGfkig',\n",
       " 'https://www.moxfield.com/decks/mXvFQ7yKz0OFrsbWAv2bkQ',\n",
       " 'https://www.moxfield.com/decks/ilvW7g3hsUio09K2gLuDmg',\n",
       " 'https://www.moxfield.com/decks/qcFvPNMzzE28jo0SlB2jwA',\n",
       " 'https://archidekt.com/decks/74512#A_Song_of_Turns_and_Dongers',\n",
       " 'https://www.moxfield.com/decks/yZJ824J4Q0ykHel8bYEbuQ',\n",
       " 'https://www.moxfield.com/decks/rRTQZ6bk1EKOwCfBTntf1Q',\n",
       " 'https://www.moxfield.com/decks/V0c3IB9tTUyVhMX1v7dcTw',\n",
       " 'https://www.moxfield.com/decks/yBih2LlY3UmOJkvNuocfCg',\n",
       " 'https://www.moxfield.com/decks/vD6HM11Xh0KAJX2_fs5FLA',\n",
       " 'https://www.moxfield.com/decks/vozlLm9Hyki2PFvBcJlGBg',\n",
       " 'https://www.moxfield.com/decks/SBCYdcdc4EmteUIw7Ql0Jg',\n",
       " 'https://www.moxfield.com/decks/7o0BSUMz6U6aHAVfK1JWKQ',\n",
       " 'https://www.moxfield.com/decks/PQPz_KSrV0S5_Huk1zh_tg',\n",
       " 'https://www.moxfield.com/decks/MO7d17e-l0-kwXYG5OjzaQ',\n",
       " 'https://www.moxfield.com/decks/tLPpgjrZ7EWlJZ4dnMIB8w']"
      ]
     },
     "metadata": {},
     "execution_count": 37
    }
   ],
   "source": [
    "htmls"
   ]
  },
  {
   "source": [
    "## SCRAPING DECKLISTS\n",
    "\n",
    "Only Moxfield COMPETITIVE lists"
   ],
   "cell_type": "markdown",
   "metadata": {}
  },
  {
   "cell_type": "code",
   "execution_count": 9,
   "metadata": {},
   "outputs": [
    {
     "output_type": "display_data",
     "data": {
      "text/plain": "  0%|          | 0/211 [00:00<?, ?it/s]",
      "application/vnd.jupyter.widget-view+json": {
       "version_major": 2,
       "version_minor": 0,
       "model_id": "98b85bcc7d8f4305b63db3bee1c3750b"
      }
     },
     "metadata": {}
    },
    {
     "output_type": "stream",
     "name": "stdout",
     "text": [
      "Loading took too much time! https://www.moxfield.com/decks/gMN5-x51uE2eSlQbKWbz-A\n",
      "Loading took too much time! https://www.moxfield.com/decks/4fbiNVFpr0edHL5Y3IKecg\n",
      "Loading took too much time! https://www.moxfield.com/decks/Sh9PHfRR202_DRLRxxxhEQ\n",
      "Loading took too much time! https://www.moxfield.com/decks/BPErFu24x0S37bFE_Ibp8w\n"
     ]
    }
   ],
   "source": [
    "cards = []\n",
    "chromedriver_path=os.path.join(os.getcwd(), \"chromedriver.exe\")\n",
    "options = Options()\n",
    "options.headless = True\n",
    "options.add_experimental_option('excludeSwitches', ['enable-logging']) #remove logging message\n",
    "driver = webdriver.Chrome(chromedriver_path, options= options)\n",
    "for decklist in tqdm(htmls):\n",
    "    if 'moxfield' in decklist: \n",
    "        driver.get(decklist)\n",
    "        try:\n",
    "            myElem = WebDriverWait(driver, 10).until(EC.presence_of_element_located((By.ID, 'viewMode')))\n",
    "        except TimeoutException:\n",
    "            print (\"Loading took too much time!\",decklist)\n",
    "            continue\n",
    "        view_mode = driver.find_element_by_id('viewMode')\n",
    "        mode = view_mode.get_attribute('value')\n",
    "        page_source = driver.page_source\n",
    "        page_soup = soup(page_source, 'html.parser')\n",
    "        title = page_soup.find(\"span\", {\"class\": \"deckheader-name\"}).get_text()\n",
    "        deck_info = {'Link': decklist, 'Title':title }\n",
    "        if mode == 'table':\n",
    "            containers = page_soup.findAll(\"tr\",{\"class\": \"table-deck-row\"})\n",
    "            deck_cards = []\n",
    "            #TODO: Find only decklist cards\n",
    "            for c in containers:\n",
    "                c_name = {'Card Name': c.a.get_text()}\n",
    "                deck_cards.append(c_name)\n",
    "            deck_info['Cards'] = deck_cards\n",
    "            cards.append(deck_info)\n",
    "        elif mode == 'visual':\n",
    "            containers = page_soup.findAll(\"div\",{\"class\": \"decklist-card-phantomsearch\"})\n",
    "            deck_cards = []\n",
    "            #TODO: Find only decklist cards\n",
    "            for c in containers:\n",
    "                c_name = {'Card Name': c.get_text()}\n",
    "                deck_cards.append(c_name)\n",
    "            deck_info['Cards'] = deck_cards\n",
    "            cards.append(deck_info)\n",
    "        elif mode == 'stacks':\n",
    "            containers = page_soup.findAll(\"div\",{\"class\": \"img-card-stack\"})\n",
    "            deck_cards = []\n",
    "            #TODO: Find only decklist cards\n",
    "            for c in containers:\n",
    "                c_name = {'Card Name': c.img['alt']}\n",
    "                deck_cards.append(c_name)\n",
    "            deck_info['Cards'] = deck_cards\n",
    "            cards.append(deck_info)\n",
    "driver.close()"
   ]
  },
  {
   "cell_type": "code",
   "execution_count": 13,
   "metadata": {},
   "outputs": [
    {
     "output_type": "execute_result",
     "data": {
      "text/plain": [
       "                                                  Link  \\\n",
       "183  https://www.moxfield.com/decks/G0YVGWD68keygYq...   \n",
       "34   https://www.moxfield.com/decks/rohOeIs-dEmA1LA...   \n",
       "192  https://www.moxfield.com/decks/ilvW7g3hsUio09K...   \n",
       "164  https://www.moxfield.com/decks/7Og0NOMESUaFwAs...   \n",
       "202  https://www.moxfield.com/decks/PQPz_KSrV0S5_Hu...   \n",
       "..                                                 ...   \n",
       "197  https://www.moxfield.com/decks/yBih2LlY3UmOJkv...   \n",
       "53   https://www.moxfield.com/decks/C5xyxwytW0eaKZk...   \n",
       "52   https://www.moxfield.com/decks/yrFKOscy6kWLOZ6...   \n",
       "67   https://www.moxfield.com/decks/DRp3K4w94Uu-8JY...   \n",
       "130  https://www.moxfield.com/decks/QpEuDVXpakCo50R...   \n",
       "\n",
       "                            Title  \\\n",
       "183                Jace High Tide   \n",
       "34   Heliod II: Sunshine Boogaloo   \n",
       "192               Wanderer's Song   \n",
       "164     Mommy Marwyn (cEDH Elves)   \n",
       "202              Selvala Brostorm   \n",
       "..                            ...   \n",
       "197                   Varolz Hulk   \n",
       "53            Turbo Seeker Inalla   \n",
       "52            Storm Seeker [cEDH]   \n",
       "67               The Pet Cemetery   \n",
       "130                Metapod Primer   \n",
       "\n",
       "                                                 Cards  c_count  \n",
       "183  [{'Card Name': 'Jace, Vryn's Prodigy'}, {'Card...       84  \n",
       "34   [{'Card Name': 'Heliod, Sun-Crowned'}, {'Card ...       85  \n",
       "192  [{'Card Name': 'Yisan, the Wanderer Bard'}, {'...       87  \n",
       "164  [{'Card Name': 'Marwyn, the Nurturer'}, {'Card...       88  \n",
       "202  [{'Card Name': 'Selvala, Heart of the Wilds'},...       88  \n",
       "..                                                 ...      ...  \n",
       "197  [{'Card Name': 'Varolz, the Scar-Striped'}, {'...      123  \n",
       "53   [{'Card Name': 'Inalla, Archmage Ritualist'}, ...      124  \n",
       "52   [{'Card Name': 'Inalla, Archmage Ritualist'}, ...      125  \n",
       "67   [{'Card Name': 'Tana, the Bloodsower'}, {'Card...      125  \n",
       "130  [{'Card Name': 'Tana, the Bloodsower'}, {'Card...      144  \n",
       "\n",
       "[205 rows x 4 columns]"
      ],
      "text/html": "<div>\n<style scoped>\n    .dataframe tbody tr th:only-of-type {\n        vertical-align: middle;\n    }\n\n    .dataframe tbody tr th {\n        vertical-align: top;\n    }\n\n    .dataframe thead th {\n        text-align: right;\n    }\n</style>\n<table border=\"1\" class=\"dataframe\">\n  <thead>\n    <tr style=\"text-align: right;\">\n      <th></th>\n      <th>Link</th>\n      <th>Title</th>\n      <th>Cards</th>\n      <th>c_count</th>\n    </tr>\n  </thead>\n  <tbody>\n    <tr>\n      <th>183</th>\n      <td>https://www.moxfield.com/decks/G0YVGWD68keygYq...</td>\n      <td>Jace High Tide</td>\n      <td>[{'Card Name': 'Jace, Vryn's Prodigy'}, {'Card...</td>\n      <td>84</td>\n    </tr>\n    <tr>\n      <th>34</th>\n      <td>https://www.moxfield.com/decks/rohOeIs-dEmA1LA...</td>\n      <td>Heliod II: Sunshine Boogaloo</td>\n      <td>[{'Card Name': 'Heliod, Sun-Crowned'}, {'Card ...</td>\n      <td>85</td>\n    </tr>\n    <tr>\n      <th>192</th>\n      <td>https://www.moxfield.com/decks/ilvW7g3hsUio09K...</td>\n      <td>Wanderer's Song</td>\n      <td>[{'Card Name': 'Yisan, the Wanderer Bard'}, {'...</td>\n      <td>87</td>\n    </tr>\n    <tr>\n      <th>164</th>\n      <td>https://www.moxfield.com/decks/7Og0NOMESUaFwAs...</td>\n      <td>Mommy Marwyn (cEDH Elves)</td>\n      <td>[{'Card Name': 'Marwyn, the Nurturer'}, {'Card...</td>\n      <td>88</td>\n    </tr>\n    <tr>\n      <th>202</th>\n      <td>https://www.moxfield.com/decks/PQPz_KSrV0S5_Hu...</td>\n      <td>Selvala Brostorm</td>\n      <td>[{'Card Name': 'Selvala, Heart of the Wilds'},...</td>\n      <td>88</td>\n    </tr>\n    <tr>\n      <th>...</th>\n      <td>...</td>\n      <td>...</td>\n      <td>...</td>\n      <td>...</td>\n    </tr>\n    <tr>\n      <th>197</th>\n      <td>https://www.moxfield.com/decks/yBih2LlY3UmOJkv...</td>\n      <td>Varolz Hulk</td>\n      <td>[{'Card Name': 'Varolz, the Scar-Striped'}, {'...</td>\n      <td>123</td>\n    </tr>\n    <tr>\n      <th>53</th>\n      <td>https://www.moxfield.com/decks/C5xyxwytW0eaKZk...</td>\n      <td>Turbo Seeker Inalla</td>\n      <td>[{'Card Name': 'Inalla, Archmage Ritualist'}, ...</td>\n      <td>124</td>\n    </tr>\n    <tr>\n      <th>52</th>\n      <td>https://www.moxfield.com/decks/yrFKOscy6kWLOZ6...</td>\n      <td>Storm Seeker [cEDH]</td>\n      <td>[{'Card Name': 'Inalla, Archmage Ritualist'}, ...</td>\n      <td>125</td>\n    </tr>\n    <tr>\n      <th>67</th>\n      <td>https://www.moxfield.com/decks/DRp3K4w94Uu-8JY...</td>\n      <td>The Pet Cemetery</td>\n      <td>[{'Card Name': 'Tana, the Bloodsower'}, {'Card...</td>\n      <td>125</td>\n    </tr>\n    <tr>\n      <th>130</th>\n      <td>https://www.moxfield.com/decks/QpEuDVXpakCo50R...</td>\n      <td>Metapod Primer</td>\n      <td>[{'Card Name': 'Tana, the Bloodsower'}, {'Card...</td>\n      <td>144</td>\n    </tr>\n  </tbody>\n</table>\n<p>205 rows × 4 columns</p>\n</div>"
     },
     "metadata": {},
     "execution_count": 13
    }
   ],
   "source": [
    "df_cards = pd.DataFrame(cards)\n",
    "df_cards['c_count'] = df_cards['Cards'].apply(len)\n",
    "df_cards.sort_values(by='c_count', ascending=True)"
   ]
  },
  {
   "source": [
    "## Normalizing JSON\n",
    "Adding support"
   ],
   "cell_type": "markdown",
   "metadata": {}
  },
  {
   "cell_type": "code",
   "execution_count": 29,
   "metadata": {},
   "outputs": [
    {
     "output_type": "execute_result",
     "data": {
      "text/plain": [
       "                    Card Name  \\\n",
       "0      Sidar Kondo of Jamuraa   \n",
       "1            Tymna the Weaver   \n",
       "2                   Arbor Elf   \n",
       "3            Avacyn's Pilgrim   \n",
       "4           Birds of Paradise   \n",
       "...                       ...   \n",
       "21758         Underground Sea   \n",
       "21759       Verdant Catacombs   \n",
       "21760         Volcanic Island   \n",
       "21761            Watery Grave   \n",
       "21762        Wooded Foothills   \n",
       "\n",
       "                                                    Link             Title  \n",
       "0      https://www.moxfield.com/decks/1vqfLIEtWkOnZo-...  Tymna/Sidar Raza  \n",
       "1      https://www.moxfield.com/decks/1vqfLIEtWkOnZo-...  Tymna/Sidar Raza  \n",
       "2      https://www.moxfield.com/decks/1vqfLIEtWkOnZo-...  Tymna/Sidar Raza  \n",
       "3      https://www.moxfield.com/decks/1vqfLIEtWkOnZo-...  Tymna/Sidar Raza  \n",
       "4      https://www.moxfield.com/decks/1vqfLIEtWkOnZo-...  Tymna/Sidar Raza  \n",
       "...                                                  ...               ...  \n",
       "21758  https://www.moxfield.com/decks/tLPpgjrZ7EWlJZ4...        Opus Thief  \n",
       "21759  https://www.moxfield.com/decks/tLPpgjrZ7EWlJZ4...        Opus Thief  \n",
       "21760  https://www.moxfield.com/decks/tLPpgjrZ7EWlJZ4...        Opus Thief  \n",
       "21761  https://www.moxfield.com/decks/tLPpgjrZ7EWlJZ4...        Opus Thief  \n",
       "21762  https://www.moxfield.com/decks/tLPpgjrZ7EWlJZ4...        Opus Thief  \n",
       "\n",
       "[19965 rows x 3 columns]"
      ],
      "text/html": "<div>\n<style scoped>\n    .dataframe tbody tr th:only-of-type {\n        vertical-align: middle;\n    }\n\n    .dataframe tbody tr th {\n        vertical-align: top;\n    }\n\n    .dataframe thead th {\n        text-align: right;\n    }\n</style>\n<table border=\"1\" class=\"dataframe\">\n  <thead>\n    <tr style=\"text-align: right;\">\n      <th></th>\n      <th>Card Name</th>\n      <th>Link</th>\n      <th>Title</th>\n    </tr>\n  </thead>\n  <tbody>\n    <tr>\n      <th>0</th>\n      <td>Sidar Kondo of Jamuraa</td>\n      <td>https://www.moxfield.com/decks/1vqfLIEtWkOnZo-...</td>\n      <td>Tymna/Sidar Raza</td>\n    </tr>\n    <tr>\n      <th>1</th>\n      <td>Tymna the Weaver</td>\n      <td>https://www.moxfield.com/decks/1vqfLIEtWkOnZo-...</td>\n      <td>Tymna/Sidar Raza</td>\n    </tr>\n    <tr>\n      <th>2</th>\n      <td>Arbor Elf</td>\n      <td>https://www.moxfield.com/decks/1vqfLIEtWkOnZo-...</td>\n      <td>Tymna/Sidar Raza</td>\n    </tr>\n    <tr>\n      <th>3</th>\n      <td>Avacyn's Pilgrim</td>\n      <td>https://www.moxfield.com/decks/1vqfLIEtWkOnZo-...</td>\n      <td>Tymna/Sidar Raza</td>\n    </tr>\n    <tr>\n      <th>4</th>\n      <td>Birds of Paradise</td>\n      <td>https://www.moxfield.com/decks/1vqfLIEtWkOnZo-...</td>\n      <td>Tymna/Sidar Raza</td>\n    </tr>\n    <tr>\n      <th>...</th>\n      <td>...</td>\n      <td>...</td>\n      <td>...</td>\n    </tr>\n    <tr>\n      <th>21758</th>\n      <td>Underground Sea</td>\n      <td>https://www.moxfield.com/decks/tLPpgjrZ7EWlJZ4...</td>\n      <td>Opus Thief</td>\n    </tr>\n    <tr>\n      <th>21759</th>\n      <td>Verdant Catacombs</td>\n      <td>https://www.moxfield.com/decks/tLPpgjrZ7EWlJZ4...</td>\n      <td>Opus Thief</td>\n    </tr>\n    <tr>\n      <th>21760</th>\n      <td>Volcanic Island</td>\n      <td>https://www.moxfield.com/decks/tLPpgjrZ7EWlJZ4...</td>\n      <td>Opus Thief</td>\n    </tr>\n    <tr>\n      <th>21761</th>\n      <td>Watery Grave</td>\n      <td>https://www.moxfield.com/decks/tLPpgjrZ7EWlJZ4...</td>\n      <td>Opus Thief</td>\n    </tr>\n    <tr>\n      <th>21762</th>\n      <td>Wooded Foothills</td>\n      <td>https://www.moxfield.com/decks/tLPpgjrZ7EWlJZ4...</td>\n      <td>Opus Thief</td>\n    </tr>\n  </tbody>\n</table>\n<p>19965 rows × 3 columns</p>\n</div>"
     },
     "metadata": {},
     "execution_count": 29
    }
   ],
   "source": [
    "df = pd.json_normalize(cards,\n",
    "    record_path='Cards', meta=['Link', 'Title'])\n",
    "df = df.drop_duplicates()\n",
    "df"
   ]
  },
  {
   "cell_type": "code",
   "execution_count": 30,
   "metadata": {},
   "outputs": [
    {
     "output_type": "execute_result",
     "data": {
      "text/plain": [
       "        Card Name                                              Title  \\\n",
       "0  Abandon Reason                          [Filter Anje cEDH Primer]   \n",
       "1        Abeyance                     [Heliod II: Sunshine Boogaloo]   \n",
       "2          Abrade  [Frozen Scepter Parun 2.0, Rielle Adaptative W...   \n",
       "3    Abrupt Decay  [Tymna/Sidar Raza, The King's Chain, Medium Mi...   \n",
       "4       Abundance                          [Simic Ad Naus in the CZ]   \n",
       "\n",
       "                                                Link  \n",
       "0  [https://www.moxfield.com/decks/PFGBjM5BnESfH9...  \n",
       "1  [https://www.moxfield.com/decks/rohOeIs-dEmA1L...  \n",
       "2  [https://www.moxfield.com/decks/belqftDqDEWVEZ...  \n",
       "3  [https://www.moxfield.com/decks/1vqfLIEtWkOnZo...  \n",
       "4  [https://www.moxfield.com/decks/Vva2blXPDEWTPC...  "
      ],
      "text/html": "<div>\n<style scoped>\n    .dataframe tbody tr th:only-of-type {\n        vertical-align: middle;\n    }\n\n    .dataframe tbody tr th {\n        vertical-align: top;\n    }\n\n    .dataframe thead th {\n        text-align: right;\n    }\n</style>\n<table border=\"1\" class=\"dataframe\">\n  <thead>\n    <tr style=\"text-align: right;\">\n      <th></th>\n      <th>Card Name</th>\n      <th>Title</th>\n      <th>Link</th>\n    </tr>\n  </thead>\n  <tbody>\n    <tr>\n      <th>0</th>\n      <td>Abandon Reason</td>\n      <td>[Filter Anje cEDH Primer]</td>\n      <td>[https://www.moxfield.com/decks/PFGBjM5BnESfH9...</td>\n    </tr>\n    <tr>\n      <th>1</th>\n      <td>Abeyance</td>\n      <td>[Heliod II: Sunshine Boogaloo]</td>\n      <td>[https://www.moxfield.com/decks/rohOeIs-dEmA1L...</td>\n    </tr>\n    <tr>\n      <th>2</th>\n      <td>Abrade</td>\n      <td>[Frozen Scepter Parun 2.0, Rielle Adaptative W...</td>\n      <td>[https://www.moxfield.com/decks/belqftDqDEWVEZ...</td>\n    </tr>\n    <tr>\n      <th>3</th>\n      <td>Abrupt Decay</td>\n      <td>[Tymna/Sidar Raza, The King's Chain, Medium Mi...</td>\n      <td>[https://www.moxfield.com/decks/1vqfLIEtWkOnZo...</td>\n    </tr>\n    <tr>\n      <th>4</th>\n      <td>Abundance</td>\n      <td>[Simic Ad Naus in the CZ]</td>\n      <td>[https://www.moxfield.com/decks/Vva2blXPDEWTPC...</td>\n    </tr>\n  </tbody>\n</table>\n</div>"
     },
     "metadata": {},
     "execution_count": 30
    }
   ],
   "source": [
    "#convert dataframe of decklists with cards to a dataframe of cards with decklists\n",
    "df_1 = df.groupby('Card Name')['Title'].apply(list).reset_index()\n",
    "df_2 = df.groupby('Card Name')['Link'].apply(list).reset_index()\n",
    "df_12 = pd.merge(df_1, df_2, on='Card Name', how='inner')\n",
    "df_12.head()"
   ]
  },
  {
   "cell_type": "code",
   "execution_count": 31,
   "metadata": {},
   "outputs": [
    {
     "output_type": "execute_result",
     "data": {
      "text/plain": [
       "1536"
      ]
     },
     "metadata": {},
     "execution_count": 31
    }
   ],
   "source": [
    "df_12['Card Name'].nunique()"
   ]
  },
  {
   "cell_type": "code",
   "execution_count": 34,
   "metadata": {},
   "outputs": [
    {
     "output_type": "execute_result",
     "data": {
      "text/plain": [
       "            Card Name  Occurrences\n",
       "0          Mana Crypt          201\n",
       "1          Chrome Mox          200\n",
       "2            Sol Ring          199\n",
       "3         Mox Diamond          198\n",
       "4      Polluted Delta          176\n",
       "...               ...          ...\n",
       "1531      Dizzy Spell            1\n",
       "1532   Crippling Fear            1\n",
       "1533     Wrath of God            1\n",
       "1534  Blade Historian            1\n",
       "1535       Palinchron            1\n",
       "\n",
       "[1536 rows x 2 columns]"
      ],
      "text/html": "<div>\n<style scoped>\n    .dataframe tbody tr th:only-of-type {\n        vertical-align: middle;\n    }\n\n    .dataframe tbody tr th {\n        vertical-align: top;\n    }\n\n    .dataframe thead th {\n        text-align: right;\n    }\n</style>\n<table border=\"1\" class=\"dataframe\">\n  <thead>\n    <tr style=\"text-align: right;\">\n      <th></th>\n      <th>Card Name</th>\n      <th>Occurrences</th>\n    </tr>\n  </thead>\n  <tbody>\n    <tr>\n      <th>0</th>\n      <td>Mana Crypt</td>\n      <td>201</td>\n    </tr>\n    <tr>\n      <th>1</th>\n      <td>Chrome Mox</td>\n      <td>200</td>\n    </tr>\n    <tr>\n      <th>2</th>\n      <td>Sol Ring</td>\n      <td>199</td>\n    </tr>\n    <tr>\n      <th>3</th>\n      <td>Mox Diamond</td>\n      <td>198</td>\n    </tr>\n    <tr>\n      <th>4</th>\n      <td>Polluted Delta</td>\n      <td>176</td>\n    </tr>\n    <tr>\n      <th>...</th>\n      <td>...</td>\n      <td>...</td>\n    </tr>\n    <tr>\n      <th>1531</th>\n      <td>Dizzy Spell</td>\n      <td>1</td>\n    </tr>\n    <tr>\n      <th>1532</th>\n      <td>Crippling Fear</td>\n      <td>1</td>\n    </tr>\n    <tr>\n      <th>1533</th>\n      <td>Wrath of God</td>\n      <td>1</td>\n    </tr>\n    <tr>\n      <th>1534</th>\n      <td>Blade Historian</td>\n      <td>1</td>\n    </tr>\n    <tr>\n      <th>1535</th>\n      <td>Palinchron</td>\n      <td>1</td>\n    </tr>\n  </tbody>\n</table>\n<p>1536 rows × 2 columns</p>\n</div>"
     },
     "metadata": {},
     "execution_count": 34
    }
   ],
   "source": [
    "card_vc = df['Card Name'].value_counts()\n",
    "card_vc = card_vc.reset_index()\n",
    "card_vc.rename( columns={'index' :'Card Name', 'Card Name':'Occurrences'}, inplace=True )#columns names\n",
    "card_vc"
   ]
  },
  {
   "cell_type": "code",
   "execution_count": 35,
   "metadata": {},
   "outputs": [
    {
     "output_type": "execute_result",
     "data": {
      "text/plain": [
       "                 Card Name                                              Title  \\\n",
       "0           Abandon Reason                          [Filter Anje cEDH Primer]   \n",
       "1                 Abeyance                     [Heliod II: Sunshine Boogaloo]   \n",
       "2                   Abrade  [Frozen Scepter Parun 2.0, Rielle Adaptative W...   \n",
       "3             Abrupt Decay  [Tymna/Sidar Raza, The King's Chain, Medium Mi...   \n",
       "4                Abundance                          [Simic Ad Naus in the CZ]   \n",
       "...                    ...                                                ...   \n",
       "1531   Zealous Persecution  [Tymna/Sidar Raza, The Pet Cemetery, Metapod P...   \n",
       "1532  Zirda, the Dawnwaker     [Dawnwaker Thrasios, Advantage Blue Pod (ABP)]   \n",
       "1533    Zulaport Cutthroat  [Turbo Poison Hulk, Demoncratic Markov, The Gr...   \n",
       "1534     Zur the Enchanter  [Consultation Zur, Shining Shimmering Splendor...   \n",
       "1535        Zur's Weirding                          [Make no Gravetide Image]   \n",
       "\n",
       "                                                   Link  Occurrences  \n",
       "0     [https://www.moxfield.com/decks/PFGBjM5BnESfH9...            1  \n",
       "1     [https://www.moxfield.com/decks/rohOeIs-dEmA1L...            1  \n",
       "2     [https://www.moxfield.com/decks/belqftDqDEWVEZ...           31  \n",
       "3     [https://www.moxfield.com/decks/1vqfLIEtWkOnZo...           64  \n",
       "4     [https://www.moxfield.com/decks/Vva2blXPDEWTPC...            1  \n",
       "...                                                 ...          ...  \n",
       "1531  [https://www.moxfield.com/decks/1vqfLIEtWkOnZo...            3  \n",
       "1532  [https://www.moxfield.com/decks/kLygDHVCskGtvw...            2  \n",
       "1533  [https://www.moxfield.com/decks/3jJGHnq1-UO_dH...            3  \n",
       "1534  [https://www.moxfield.com/decks/1t0Cpm1xqUeyA-...            3  \n",
       "1535  [https://www.moxfield.com/decks/qULIEoTSeUqKxm...            1  \n",
       "\n",
       "[1536 rows x 4 columns]"
      ],
      "text/html": "<div>\n<style scoped>\n    .dataframe tbody tr th:only-of-type {\n        vertical-align: middle;\n    }\n\n    .dataframe tbody tr th {\n        vertical-align: top;\n    }\n\n    .dataframe thead th {\n        text-align: right;\n    }\n</style>\n<table border=\"1\" class=\"dataframe\">\n  <thead>\n    <tr style=\"text-align: right;\">\n      <th></th>\n      <th>Card Name</th>\n      <th>Title</th>\n      <th>Link</th>\n      <th>Occurrences</th>\n    </tr>\n  </thead>\n  <tbody>\n    <tr>\n      <th>0</th>\n      <td>Abandon Reason</td>\n      <td>[Filter Anje cEDH Primer]</td>\n      <td>[https://www.moxfield.com/decks/PFGBjM5BnESfH9...</td>\n      <td>1</td>\n    </tr>\n    <tr>\n      <th>1</th>\n      <td>Abeyance</td>\n      <td>[Heliod II: Sunshine Boogaloo]</td>\n      <td>[https://www.moxfield.com/decks/rohOeIs-dEmA1L...</td>\n      <td>1</td>\n    </tr>\n    <tr>\n      <th>2</th>\n      <td>Abrade</td>\n      <td>[Frozen Scepter Parun 2.0, Rielle Adaptative W...</td>\n      <td>[https://www.moxfield.com/decks/belqftDqDEWVEZ...</td>\n      <td>31</td>\n    </tr>\n    <tr>\n      <th>3</th>\n      <td>Abrupt Decay</td>\n      <td>[Tymna/Sidar Raza, The King's Chain, Medium Mi...</td>\n      <td>[https://www.moxfield.com/decks/1vqfLIEtWkOnZo...</td>\n      <td>64</td>\n    </tr>\n    <tr>\n      <th>4</th>\n      <td>Abundance</td>\n      <td>[Simic Ad Naus in the CZ]</td>\n      <td>[https://www.moxfield.com/decks/Vva2blXPDEWTPC...</td>\n      <td>1</td>\n    </tr>\n    <tr>\n      <th>...</th>\n      <td>...</td>\n      <td>...</td>\n      <td>...</td>\n      <td>...</td>\n    </tr>\n    <tr>\n      <th>1531</th>\n      <td>Zealous Persecution</td>\n      <td>[Tymna/Sidar Raza, The Pet Cemetery, Metapod P...</td>\n      <td>[https://www.moxfield.com/decks/1vqfLIEtWkOnZo...</td>\n      <td>3</td>\n    </tr>\n    <tr>\n      <th>1532</th>\n      <td>Zirda, the Dawnwaker</td>\n      <td>[Dawnwaker Thrasios, Advantage Blue Pod (ABP)]</td>\n      <td>[https://www.moxfield.com/decks/kLygDHVCskGtvw...</td>\n      <td>2</td>\n    </tr>\n    <tr>\n      <th>1533</th>\n      <td>Zulaport Cutthroat</td>\n      <td>[Turbo Poison Hulk, Demoncratic Markov, The Gr...</td>\n      <td>[https://www.moxfield.com/decks/3jJGHnq1-UO_dH...</td>\n      <td>3</td>\n    </tr>\n    <tr>\n      <th>1534</th>\n      <td>Zur the Enchanter</td>\n      <td>[Consultation Zur, Shining Shimmering Splendor...</td>\n      <td>[https://www.moxfield.com/decks/1t0Cpm1xqUeyA-...</td>\n      <td>3</td>\n    </tr>\n    <tr>\n      <th>1535</th>\n      <td>Zur's Weirding</td>\n      <td>[Make no Gravetide Image]</td>\n      <td>[https://www.moxfield.com/decks/qULIEoTSeUqKxm...</td>\n      <td>1</td>\n    </tr>\n  </tbody>\n</table>\n<p>1536 rows × 4 columns</p>\n</div>"
     },
     "metadata": {},
     "execution_count": 35
    }
   ],
   "source": [
    "full_cards = pd.merge(df_12,card_vc, on = 'Card Name')\n",
    "full_cards"
   ]
  },
  {
   "source": [
    "# EXPORT RESULTS\n",
    "* JSON file with only cards and card occurrences\n",
    "* JSON file with cards and decklists information\n",
    "* CSV with cards and occurrences"
   ],
   "cell_type": "markdown",
   "metadata": {}
  },
  {
   "cell_type": "code",
   "execution_count": 36,
   "metadata": {},
   "outputs": [],
   "source": [
    "card_vc.to_json('results/competitiveCards.json', orient='records')\n",
    "card_vc.to_csv('results/competitive_cards.csv')\n",
    "full_cards.to_json('results/competitiveCards_full.json', orient='records')"
   ]
  },
  {
   "cell_type": "code",
   "execution_count": null,
   "metadata": {},
   "outputs": [],
   "source": []
  }
 ]
}