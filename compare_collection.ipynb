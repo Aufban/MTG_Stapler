{
 "metadata": {
  "language_info": {
   "codemirror_mode": {
    "name": "ipython",
    "version": 3
   },
   "file_extension": ".py",
   "mimetype": "text/x-python",
   "name": "python",
   "nbconvert_exporter": "python",
   "pygments_lexer": "ipython3",
   "version": "3.9.5"
  },
  "orig_nbformat": 4,
  "kernelspec": {
   "name": "python3",
   "display_name": "Python 3.9.5 64-bit ('scrapper': conda)"
  },
  "interpreter": {
   "hash": "6b411f96bd496b37eb8fda9b3e7b617aec005b90464881fef6869f06f7582f62"
  }
 },
 "nbformat": 4,
 "nbformat_minor": 2,
 "cells": [
  {
   "cell_type": "code",
   "execution_count": 14,
   "metadata": {},
   "outputs": [],
   "source": [
    "import pandas as pd"
   ]
  },
  {
   "cell_type": "code",
   "execution_count": 15,
   "metadata": {},
   "outputs": [],
   "source": [
    "collection_file_name = 'ArchidektCollection-Sat Jul 10 2021.csv'"
   ]
  },
  {
   "cell_type": "code",
   "execution_count": 16,
   "metadata": {},
   "outputs": [],
   "source": [
    "cedh = pd.read_json('results/cedh_scry.json')\n",
    "collection = pd.read_csv('collection/' + collection_file_name)"
   ]
  },
  {
   "cell_type": "code",
   "execution_count": 17,
   "metadata": {},
   "outputs": [
    {
     "output_type": "execute_result",
     "data": {
      "text/plain": [
       "                 scrapName                                          deckNames  \\\n",
       "0           Abandon Reason                          [Filter Anje cEDH Primer]   \n",
       "1                 Abeyance                     [Heliod II: Sunshine Boogaloo]   \n",
       "2                   Abrade  [Frozen Scepter Parun 2.0, Rielle Adaptative W...   \n",
       "3             Abrupt Decay  [Tymna/Sidar Raza, The King's Chain, Medium Mi...   \n",
       "4                Abundance                          [Simic Ad Naus in the CZ]   \n",
       "...                    ...                                                ...   \n",
       "1533   Zealous Persecution  [Tymna/Sidar Raza, The Pet Cemetery, Metapod P...   \n",
       "1534  Zirda, the Dawnwaker     [Dawnwaker Thrasios, Advantage Blue Pod (ABP)]   \n",
       "1535    Zulaport Cutthroat  [Turbo Poison Hulk, Demoncratic Markov, The Gr...   \n",
       "1536     Zur the Enchanter  [Consultation Zur, Shining Shimmering Splendor...   \n",
       "1537        Zur's Weirding                          [Make no Gravetide Image]   \n",
       "\n",
       "                                              deckLinks  Occurrences  \\\n",
       "0     [https://www.moxfield.com/decks/PFGBjM5BnESfH9...            1   \n",
       "1     [https://www.moxfield.com/decks/rohOeIs-dEmA1L...            1   \n",
       "2     [https://www.moxfield.com/decks/belqftDqDEWVEZ...           31   \n",
       "3     [https://www.moxfield.com/decks/1vqfLIEtWkOnZo...           64   \n",
       "4     [https://www.moxfield.com/decks/Vva2blXPDEWTPC...            1   \n",
       "...                                                 ...          ...   \n",
       "1533  [https://www.moxfield.com/decks/1vqfLIEtWkOnZo...            3   \n",
       "1534  [https://www.moxfield.com/decks/kLygDHVCskGtvw...            2   \n",
       "1535  [https://www.moxfield.com/decks/3jJGHnq1-UO_dH...            3   \n",
       "1536  [https://www.moxfield.com/decks/1t0Cpm1xqUeyA-...            3   \n",
       "1537  [https://www.moxfield.com/decks/qULIEoTSeUqKxm...            1   \n",
       "\n",
       "                  cardName colorIdentity                            typeLine  \\\n",
       "0           Abandon Reason           [R]                             Instant   \n",
       "1                 Abeyance           [W]                             Instant   \n",
       "2                   Abrade           [R]                             Instant   \n",
       "3             Abrupt Decay        [B, G]                             Instant   \n",
       "4                Abundance           [G]                         Enchantment   \n",
       "...                    ...           ...                                 ...   \n",
       "1533   Zealous Persecution        [B, W]                             Instant   \n",
       "1534  Zirda, the Dawnwaker        [R, W]  Legendary Creature — Elemental Fox   \n",
       "1535    Zulaport Cutthroat           [B]         Creature — Human Rogue Ally   \n",
       "1536     Zur the Enchanter     [B, U, W]   Legendary Creature — Human Wizard   \n",
       "1537        Zur's Weirding           [U]                         Enchantment   \n",
       "\n",
       "      reserved                                             prices mergedSource  \n",
       "0        False  {'usd': '0.10', 'usd_foil': '0.26', 'eur': '0....         both  \n",
       "1         True  {'usd': '31.10', 'usd_foil': None, 'eur': '3.9...         both  \n",
       "2        False  {'usd': '0.45', 'usd_foil': None, 'eur': '0.24...         both  \n",
       "3        False  {'usd': '6.13', 'usd_foil': '14.48', 'eur': '5...         both  \n",
       "4        False  {'usd': '0.23', 'usd_foil': None, 'eur': '0.20...         both  \n",
       "...        ...                                                ...          ...  \n",
       "1533     False  {'usd': '0.16', 'usd_foil': '0.85', 'eur': '0....         both  \n",
       "1534     False  {'usd': '1.24', 'usd_foil': '2.12', 'eur': '0....         both  \n",
       "1535     False  {'usd': '0.63', 'usd_foil': None, 'eur': '0.27...         both  \n",
       "1536     False  {'usd': '4.25', 'usd_foil': '6.35', 'eur': '1....         both  \n",
       "1537     False  {'usd': '1.01', 'usd_foil': '18.12', 'eur': '0...         both  \n",
       "\n",
       "[1538 rows x 10 columns]"
      ],
      "text/html": "<div>\n<style scoped>\n    .dataframe tbody tr th:only-of-type {\n        vertical-align: middle;\n    }\n\n    .dataframe tbody tr th {\n        vertical-align: top;\n    }\n\n    .dataframe thead th {\n        text-align: right;\n    }\n</style>\n<table border=\"1\" class=\"dataframe\">\n  <thead>\n    <tr style=\"text-align: right;\">\n      <th></th>\n      <th>scrapName</th>\n      <th>deckNames</th>\n      <th>deckLinks</th>\n      <th>Occurrences</th>\n      <th>cardName</th>\n      <th>colorIdentity</th>\n      <th>typeLine</th>\n      <th>reserved</th>\n      <th>prices</th>\n      <th>mergedSource</th>\n    </tr>\n  </thead>\n  <tbody>\n    <tr>\n      <th>0</th>\n      <td>Abandon Reason</td>\n      <td>[Filter Anje cEDH Primer]</td>\n      <td>[https://www.moxfield.com/decks/PFGBjM5BnESfH9...</td>\n      <td>1</td>\n      <td>Abandon Reason</td>\n      <td>[R]</td>\n      <td>Instant</td>\n      <td>False</td>\n      <td>{'usd': '0.10', 'usd_foil': '0.26', 'eur': '0....</td>\n      <td>both</td>\n    </tr>\n    <tr>\n      <th>1</th>\n      <td>Abeyance</td>\n      <td>[Heliod II: Sunshine Boogaloo]</td>\n      <td>[https://www.moxfield.com/decks/rohOeIs-dEmA1L...</td>\n      <td>1</td>\n      <td>Abeyance</td>\n      <td>[W]</td>\n      <td>Instant</td>\n      <td>True</td>\n      <td>{'usd': '31.10', 'usd_foil': None, 'eur': '3.9...</td>\n      <td>both</td>\n    </tr>\n    <tr>\n      <th>2</th>\n      <td>Abrade</td>\n      <td>[Frozen Scepter Parun 2.0, Rielle Adaptative W...</td>\n      <td>[https://www.moxfield.com/decks/belqftDqDEWVEZ...</td>\n      <td>31</td>\n      <td>Abrade</td>\n      <td>[R]</td>\n      <td>Instant</td>\n      <td>False</td>\n      <td>{'usd': '0.45', 'usd_foil': None, 'eur': '0.24...</td>\n      <td>both</td>\n    </tr>\n    <tr>\n      <th>3</th>\n      <td>Abrupt Decay</td>\n      <td>[Tymna/Sidar Raza, The King's Chain, Medium Mi...</td>\n      <td>[https://www.moxfield.com/decks/1vqfLIEtWkOnZo...</td>\n      <td>64</td>\n      <td>Abrupt Decay</td>\n      <td>[B, G]</td>\n      <td>Instant</td>\n      <td>False</td>\n      <td>{'usd': '6.13', 'usd_foil': '14.48', 'eur': '5...</td>\n      <td>both</td>\n    </tr>\n    <tr>\n      <th>4</th>\n      <td>Abundance</td>\n      <td>[Simic Ad Naus in the CZ]</td>\n      <td>[https://www.moxfield.com/decks/Vva2blXPDEWTPC...</td>\n      <td>1</td>\n      <td>Abundance</td>\n      <td>[G]</td>\n      <td>Enchantment</td>\n      <td>False</td>\n      <td>{'usd': '0.23', 'usd_foil': None, 'eur': '0.20...</td>\n      <td>both</td>\n    </tr>\n    <tr>\n      <th>...</th>\n      <td>...</td>\n      <td>...</td>\n      <td>...</td>\n      <td>...</td>\n      <td>...</td>\n      <td>...</td>\n      <td>...</td>\n      <td>...</td>\n      <td>...</td>\n      <td>...</td>\n    </tr>\n    <tr>\n      <th>1533</th>\n      <td>Zealous Persecution</td>\n      <td>[Tymna/Sidar Raza, The Pet Cemetery, Metapod P...</td>\n      <td>[https://www.moxfield.com/decks/1vqfLIEtWkOnZo...</td>\n      <td>3</td>\n      <td>Zealous Persecution</td>\n      <td>[B, W]</td>\n      <td>Instant</td>\n      <td>False</td>\n      <td>{'usd': '0.16', 'usd_foil': '0.85', 'eur': '0....</td>\n      <td>both</td>\n    </tr>\n    <tr>\n      <th>1534</th>\n      <td>Zirda, the Dawnwaker</td>\n      <td>[Dawnwaker Thrasios, Advantage Blue Pod (ABP)]</td>\n      <td>[https://www.moxfield.com/decks/kLygDHVCskGtvw...</td>\n      <td>2</td>\n      <td>Zirda, the Dawnwaker</td>\n      <td>[R, W]</td>\n      <td>Legendary Creature — Elemental Fox</td>\n      <td>False</td>\n      <td>{'usd': '1.24', 'usd_foil': '2.12', 'eur': '0....</td>\n      <td>both</td>\n    </tr>\n    <tr>\n      <th>1535</th>\n      <td>Zulaport Cutthroat</td>\n      <td>[Turbo Poison Hulk, Demoncratic Markov, The Gr...</td>\n      <td>[https://www.moxfield.com/decks/3jJGHnq1-UO_dH...</td>\n      <td>3</td>\n      <td>Zulaport Cutthroat</td>\n      <td>[B]</td>\n      <td>Creature — Human Rogue Ally</td>\n      <td>False</td>\n      <td>{'usd': '0.63', 'usd_foil': None, 'eur': '0.27...</td>\n      <td>both</td>\n    </tr>\n    <tr>\n      <th>1536</th>\n      <td>Zur the Enchanter</td>\n      <td>[Consultation Zur, Shining Shimmering Splendor...</td>\n      <td>[https://www.moxfield.com/decks/1t0Cpm1xqUeyA-...</td>\n      <td>3</td>\n      <td>Zur the Enchanter</td>\n      <td>[B, U, W]</td>\n      <td>Legendary Creature — Human Wizard</td>\n      <td>False</td>\n      <td>{'usd': '4.25', 'usd_foil': '6.35', 'eur': '1....</td>\n      <td>both</td>\n    </tr>\n    <tr>\n      <th>1537</th>\n      <td>Zur's Weirding</td>\n      <td>[Make no Gravetide Image]</td>\n      <td>[https://www.moxfield.com/decks/qULIEoTSeUqKxm...</td>\n      <td>1</td>\n      <td>Zur's Weirding</td>\n      <td>[U]</td>\n      <td>Enchantment</td>\n      <td>False</td>\n      <td>{'usd': '1.01', 'usd_foil': '18.12', 'eur': '0...</td>\n      <td>both</td>\n    </tr>\n  </tbody>\n</table>\n<p>1538 rows × 10 columns</p>\n</div>"
     },
     "metadata": {},
     "execution_count": 17
    }
   ],
   "source": [
    "cedh"
   ]
  },
  {
   "cell_type": "code",
   "execution_count": 18,
   "metadata": {},
   "outputs": [
    {
     "output_type": "execute_result",
     "data": {
      "text/plain": [
       "                 scrapName                                          deckNames  \\\n",
       "0           Abandon Reason                          [Filter Anje cEDH Primer]   \n",
       "1                 Abeyance                     [Heliod II: Sunshine Boogaloo]   \n",
       "2                   Abrade  [Frozen Scepter Parun 2.0, Rielle Adaptative W...   \n",
       "3             Abrupt Decay  [Tymna/Sidar Raza, The King's Chain, Medium Mi...   \n",
       "4                Abundance                          [Simic Ad Naus in the CZ]   \n",
       "...                    ...                                                ...   \n",
       "1542   Zealous Persecution  [Tymna/Sidar Raza, The Pet Cemetery, Metapod P...   \n",
       "1543  Zirda, the Dawnwaker     [Dawnwaker Thrasios, Advantage Blue Pod (ABP)]   \n",
       "1544    Zulaport Cutthroat  [Turbo Poison Hulk, Demoncratic Markov, The Gr...   \n",
       "1545     Zur the Enchanter  [Consultation Zur, Shining Shimmering Splendor...   \n",
       "1546        Zur's Weirding                          [Make no Gravetide Image]   \n",
       "\n",
       "                                              deckLinks  Occurrences  \\\n",
       "0     [https://www.moxfield.com/decks/PFGBjM5BnESfH9...            1   \n",
       "1     [https://www.moxfield.com/decks/rohOeIs-dEmA1L...            1   \n",
       "2     [https://www.moxfield.com/decks/belqftDqDEWVEZ...           31   \n",
       "3     [https://www.moxfield.com/decks/1vqfLIEtWkOnZo...           64   \n",
       "4     [https://www.moxfield.com/decks/Vva2blXPDEWTPC...            1   \n",
       "...                                                 ...          ...   \n",
       "1542  [https://www.moxfield.com/decks/1vqfLIEtWkOnZo...            3   \n",
       "1543  [https://www.moxfield.com/decks/kLygDHVCskGtvw...            2   \n",
       "1544  [https://www.moxfield.com/decks/3jJGHnq1-UO_dH...            3   \n",
       "1545  [https://www.moxfield.com/decks/1t0Cpm1xqUeyA-...            3   \n",
       "1546  [https://www.moxfield.com/decks/qULIEoTSeUqKxm...            1   \n",
       "\n",
       "                  cardName colorIdentity                            typeLine  \\\n",
       "0           Abandon Reason           [R]                             Instant   \n",
       "1                 Abeyance           [W]                             Instant   \n",
       "2                   Abrade           [R]                             Instant   \n",
       "3             Abrupt Decay        [B, G]                             Instant   \n",
       "4                Abundance           [G]                         Enchantment   \n",
       "...                    ...           ...                                 ...   \n",
       "1542   Zealous Persecution        [B, W]                             Instant   \n",
       "1543  Zirda, the Dawnwaker        [R, W]  Legendary Creature — Elemental Fox   \n",
       "1544    Zulaport Cutthroat           [B]         Creature — Human Rogue Ally   \n",
       "1545     Zur the Enchanter     [B, U, W]   Legendary Creature — Human Wizard   \n",
       "1546        Zur's Weirding           [U]                         Enchantment   \n",
       "\n",
       "      reserved                                             prices  \\\n",
       "0        False  {'usd': '0.10', 'usd_foil': '0.26', 'eur': '0....   \n",
       "1         True  {'usd': '31.10', 'usd_foil': None, 'eur': '3.9...   \n",
       "2        False  {'usd': '0.45', 'usd_foil': None, 'eur': '0.24...   \n",
       "3        False  {'usd': '6.13', 'usd_foil': '14.48', 'eur': '5...   \n",
       "4        False  {'usd': '0.23', 'usd_foil': None, 'eur': '0.20...   \n",
       "...        ...                                                ...   \n",
       "1542     False  {'usd': '0.16', 'usd_foil': '0.85', 'eur': '0....   \n",
       "1543     False  {'usd': '1.24', 'usd_foil': '2.12', 'eur': '0....   \n",
       "1544     False  {'usd': '0.63', 'usd_foil': None, 'eur': '0.27...   \n",
       "1545     False  {'usd': '4.25', 'usd_foil': '6.35', 'eur': '1....   \n",
       "1546     False  {'usd': '1.01', 'usd_foil': '18.12', 'eur': '0...   \n",
       "\n",
       "     mergedSource  Quantity                  Name     _merge  \n",
       "0            both       NaN                   NaN  left_only  \n",
       "1            both       NaN                   NaN  left_only  \n",
       "2            both       1.0                Abrade       both  \n",
       "3            both       1.0          Abrupt Decay       both  \n",
       "4            both       NaN                   NaN  left_only  \n",
       "...           ...       ...                   ...        ...  \n",
       "1542         both       NaN                   NaN  left_only  \n",
       "1543         both       1.0  Zirda, the Dawnwaker       both  \n",
       "1544         both       1.0    Zulaport Cutthroat       both  \n",
       "1545         both       1.0     Zur the Enchanter       both  \n",
       "1546         both       1.0        Zur's Weirding       both  \n",
       "\n",
       "[1547 rows x 13 columns]"
      ],
      "text/html": "<div>\n<style scoped>\n    .dataframe tbody tr th:only-of-type {\n        vertical-align: middle;\n    }\n\n    .dataframe tbody tr th {\n        vertical-align: top;\n    }\n\n    .dataframe thead th {\n        text-align: right;\n    }\n</style>\n<table border=\"1\" class=\"dataframe\">\n  <thead>\n    <tr style=\"text-align: right;\">\n      <th></th>\n      <th>scrapName</th>\n      <th>deckNames</th>\n      <th>deckLinks</th>\n      <th>Occurrences</th>\n      <th>cardName</th>\n      <th>colorIdentity</th>\n      <th>typeLine</th>\n      <th>reserved</th>\n      <th>prices</th>\n      <th>mergedSource</th>\n      <th>Quantity</th>\n      <th>Name</th>\n      <th>_merge</th>\n    </tr>\n  </thead>\n  <tbody>\n    <tr>\n      <th>0</th>\n      <td>Abandon Reason</td>\n      <td>[Filter Anje cEDH Primer]</td>\n      <td>[https://www.moxfield.com/decks/PFGBjM5BnESfH9...</td>\n      <td>1</td>\n      <td>Abandon Reason</td>\n      <td>[R]</td>\n      <td>Instant</td>\n      <td>False</td>\n      <td>{'usd': '0.10', 'usd_foil': '0.26', 'eur': '0....</td>\n      <td>both</td>\n      <td>NaN</td>\n      <td>NaN</td>\n      <td>left_only</td>\n    </tr>\n    <tr>\n      <th>1</th>\n      <td>Abeyance</td>\n      <td>[Heliod II: Sunshine Boogaloo]</td>\n      <td>[https://www.moxfield.com/decks/rohOeIs-dEmA1L...</td>\n      <td>1</td>\n      <td>Abeyance</td>\n      <td>[W]</td>\n      <td>Instant</td>\n      <td>True</td>\n      <td>{'usd': '31.10', 'usd_foil': None, 'eur': '3.9...</td>\n      <td>both</td>\n      <td>NaN</td>\n      <td>NaN</td>\n      <td>left_only</td>\n    </tr>\n    <tr>\n      <th>2</th>\n      <td>Abrade</td>\n      <td>[Frozen Scepter Parun 2.0, Rielle Adaptative W...</td>\n      <td>[https://www.moxfield.com/decks/belqftDqDEWVEZ...</td>\n      <td>31</td>\n      <td>Abrade</td>\n      <td>[R]</td>\n      <td>Instant</td>\n      <td>False</td>\n      <td>{'usd': '0.45', 'usd_foil': None, 'eur': '0.24...</td>\n      <td>both</td>\n      <td>1.0</td>\n      <td>Abrade</td>\n      <td>both</td>\n    </tr>\n    <tr>\n      <th>3</th>\n      <td>Abrupt Decay</td>\n      <td>[Tymna/Sidar Raza, The King's Chain, Medium Mi...</td>\n      <td>[https://www.moxfield.com/decks/1vqfLIEtWkOnZo...</td>\n      <td>64</td>\n      <td>Abrupt Decay</td>\n      <td>[B, G]</td>\n      <td>Instant</td>\n      <td>False</td>\n      <td>{'usd': '6.13', 'usd_foil': '14.48', 'eur': '5...</td>\n      <td>both</td>\n      <td>1.0</td>\n      <td>Abrupt Decay</td>\n      <td>both</td>\n    </tr>\n    <tr>\n      <th>4</th>\n      <td>Abundance</td>\n      <td>[Simic Ad Naus in the CZ]</td>\n      <td>[https://www.moxfield.com/decks/Vva2blXPDEWTPC...</td>\n      <td>1</td>\n      <td>Abundance</td>\n      <td>[G]</td>\n      <td>Enchantment</td>\n      <td>False</td>\n      <td>{'usd': '0.23', 'usd_foil': None, 'eur': '0.20...</td>\n      <td>both</td>\n      <td>NaN</td>\n      <td>NaN</td>\n      <td>left_only</td>\n    </tr>\n    <tr>\n      <th>...</th>\n      <td>...</td>\n      <td>...</td>\n      <td>...</td>\n      <td>...</td>\n      <td>...</td>\n      <td>...</td>\n      <td>...</td>\n      <td>...</td>\n      <td>...</td>\n      <td>...</td>\n      <td>...</td>\n      <td>...</td>\n      <td>...</td>\n    </tr>\n    <tr>\n      <th>1542</th>\n      <td>Zealous Persecution</td>\n      <td>[Tymna/Sidar Raza, The Pet Cemetery, Metapod P...</td>\n      <td>[https://www.moxfield.com/decks/1vqfLIEtWkOnZo...</td>\n      <td>3</td>\n      <td>Zealous Persecution</td>\n      <td>[B, W]</td>\n      <td>Instant</td>\n      <td>False</td>\n      <td>{'usd': '0.16', 'usd_foil': '0.85', 'eur': '0....</td>\n      <td>both</td>\n      <td>NaN</td>\n      <td>NaN</td>\n      <td>left_only</td>\n    </tr>\n    <tr>\n      <th>1543</th>\n      <td>Zirda, the Dawnwaker</td>\n      <td>[Dawnwaker Thrasios, Advantage Blue Pod (ABP)]</td>\n      <td>[https://www.moxfield.com/decks/kLygDHVCskGtvw...</td>\n      <td>2</td>\n      <td>Zirda, the Dawnwaker</td>\n      <td>[R, W]</td>\n      <td>Legendary Creature — Elemental Fox</td>\n      <td>False</td>\n      <td>{'usd': '1.24', 'usd_foil': '2.12', 'eur': '0....</td>\n      <td>both</td>\n      <td>1.0</td>\n      <td>Zirda, the Dawnwaker</td>\n      <td>both</td>\n    </tr>\n    <tr>\n      <th>1544</th>\n      <td>Zulaport Cutthroat</td>\n      <td>[Turbo Poison Hulk, Demoncratic Markov, The Gr...</td>\n      <td>[https://www.moxfield.com/decks/3jJGHnq1-UO_dH...</td>\n      <td>3</td>\n      <td>Zulaport Cutthroat</td>\n      <td>[B]</td>\n      <td>Creature — Human Rogue Ally</td>\n      <td>False</td>\n      <td>{'usd': '0.63', 'usd_foil': None, 'eur': '0.27...</td>\n      <td>both</td>\n      <td>1.0</td>\n      <td>Zulaport Cutthroat</td>\n      <td>both</td>\n    </tr>\n    <tr>\n      <th>1545</th>\n      <td>Zur the Enchanter</td>\n      <td>[Consultation Zur, Shining Shimmering Splendor...</td>\n      <td>[https://www.moxfield.com/decks/1t0Cpm1xqUeyA-...</td>\n      <td>3</td>\n      <td>Zur the Enchanter</td>\n      <td>[B, U, W]</td>\n      <td>Legendary Creature — Human Wizard</td>\n      <td>False</td>\n      <td>{'usd': '4.25', 'usd_foil': '6.35', 'eur': '1....</td>\n      <td>both</td>\n      <td>1.0</td>\n      <td>Zur the Enchanter</td>\n      <td>both</td>\n    </tr>\n    <tr>\n      <th>1546</th>\n      <td>Zur's Weirding</td>\n      <td>[Make no Gravetide Image]</td>\n      <td>[https://www.moxfield.com/decks/qULIEoTSeUqKxm...</td>\n      <td>1</td>\n      <td>Zur's Weirding</td>\n      <td>[U]</td>\n      <td>Enchantment</td>\n      <td>False</td>\n      <td>{'usd': '1.01', 'usd_foil': '18.12', 'eur': '0...</td>\n      <td>both</td>\n      <td>1.0</td>\n      <td>Zur's Weirding</td>\n      <td>both</td>\n    </tr>\n  </tbody>\n</table>\n<p>1547 rows × 13 columns</p>\n</div>"
     },
     "metadata": {},
     "execution_count": 18
    }
   ],
   "source": [
    "comparison = pd.merge(cedh,collection, how='left', left_on='cardName', right_on='Name', indicator=True)\n",
    "comparison"
   ]
  },
  {
   "cell_type": "code",
   "execution_count": 19,
   "metadata": {},
   "outputs": [],
   "source": [
    "not_collection = comparison[comparison['_merge']=='left_only']\n",
    "not_collection.to_csv('results/not_in_collecion.csv')"
   ]
  },
  {
   "cell_type": "code",
   "execution_count": 20,
   "metadata": {},
   "outputs": [
    {
     "output_type": "execute_result",
     "data": {
      "text/plain": [
       "                      scrapName  \\\n",
       "0                Abandon Reason   \n",
       "1                      Abeyance   \n",
       "4                     Abundance   \n",
       "7         Acererak the Archlich   \n",
       "9            Adaptive Automaton   \n",
       "...                         ...   \n",
       "1535  Yidris, Maelstrom Wielder   \n",
       "1537    You Find Some Prisoners   \n",
       "1538                 Young Wolf   \n",
       "1540      Zaxara, the Exemplary   \n",
       "1542        Zealous Persecution   \n",
       "\n",
       "                                              deckNames  \\\n",
       "0                             [Filter Anje cEDH Primer]   \n",
       "1                        [Heliod II: Sunshine Boogaloo]   \n",
       "4                             [Simic Ad Naus in the CZ]   \n",
       "7                                         [Seattle '27]   \n",
       "9     [PRIMER: Clockside Outlaw, Fullmetal Magda!?, ...   \n",
       "...                                                 ...   \n",
       "1535               [[Primer] Yidris Storm Consultation]   \n",
       "1537          [PRIMER: Clockside Outlaw, Time is Money]   \n",
       "1538  [Ghave Earthcraft Adnaus ♾, ⚰️ Enigmatic Reani...   \n",
       "1540                             [Freed Zaxara (cEDH) ]   \n",
       "1542  [Tymna/Sidar Raza, The Pet Cemetery, Metapod P...   \n",
       "\n",
       "                                              deckLinks  Occurrences  \\\n",
       "0     [https://www.moxfield.com/decks/PFGBjM5BnESfH9...            1   \n",
       "1     [https://www.moxfield.com/decks/rohOeIs-dEmA1L...            1   \n",
       "4     [https://www.moxfield.com/decks/Vva2blXPDEWTPC...            1   \n",
       "7     [https://www.moxfield.com/decks/V0c3IB9tTUyVhM...            1   \n",
       "9     [https://www.moxfield.com/decks/xmH0i1HMHUi2iC...            3   \n",
       "...                                                 ...          ...   \n",
       "1535  [https://www.moxfield.com/decks/ZUw1dxdOJUyMvi...            1   \n",
       "1537  [https://www.moxfield.com/decks/xmH0i1HMHUi2iC...            2   \n",
       "1538  [https://www.moxfield.com/decks/fsrJzDCtX0-8UZ...            3   \n",
       "1540  [https://www.moxfield.com/decks/qcFvPNMzzE28jo...            1   \n",
       "1542  [https://www.moxfield.com/decks/1vqfLIEtWkOnZo...            3   \n",
       "\n",
       "                       cardName colorIdentity  \\\n",
       "0                Abandon Reason           [R]   \n",
       "1                      Abeyance           [W]   \n",
       "4                     Abundance           [G]   \n",
       "7         Acererak the Archlich           [B]   \n",
       "9            Adaptive Automaton            []   \n",
       "...                         ...           ...   \n",
       "1535  Yidris, Maelstrom Wielder  [B, G, R, U]   \n",
       "1537    You Find Some Prisoners           [R]   \n",
       "1538                 Young Wolf           [G]   \n",
       "1540      Zaxara, the Exemplary     [B, G, U]   \n",
       "1542        Zealous Persecution        [B, W]   \n",
       "\n",
       "                                  typeLine  reserved  \\\n",
       "0                                  Instant     False   \n",
       "1                                  Instant      True   \n",
       "4                              Enchantment     False   \n",
       "7       Legendary Creature — Zombie Wizard     False   \n",
       "9            Artifact Creature — Construct     False   \n",
       "...                                    ...       ...   \n",
       "1535      Legendary Creature — Ogre Wizard     False   \n",
       "1537                               Instant     False   \n",
       "1538                       Creature — Wolf     False   \n",
       "1540  Legendary Creature — Nightmare Hydra     False   \n",
       "1542                               Instant     False   \n",
       "\n",
       "                                                 prices mergedSource  \\\n",
       "0     {'usd': '0.10', 'usd_foil': '0.26', 'eur': '0....         both   \n",
       "1     {'usd': '31.10', 'usd_foil': None, 'eur': '3.9...         both   \n",
       "4     {'usd': '0.23', 'usd_foil': None, 'eur': '0.20...         both   \n",
       "7     {'usd': '8.96', 'usd_foil': '14.99', 'eur': '1...         both   \n",
       "9     {'usd': '2.88', 'usd_foil': '3.29', 'eur': '0....         both   \n",
       "...                                                 ...          ...   \n",
       "1535  {'usd': None, 'usd_foil': '12.00', 'eur': None...         both   \n",
       "1537  {'usd': '0.61', 'usd_foil': '1.39', 'eur': '0....         both   \n",
       "1538  {'usd': '0.44', 'usd_foil': '7.78', 'eur': '0....         both   \n",
       "1540  {'usd': '2.96', 'usd_foil': '1.05', 'eur': '0....         both   \n",
       "1542  {'usd': '0.16', 'usd_foil': '0.85', 'eur': '0....         both   \n",
       "\n",
       "      Quantity Name     _merge  \n",
       "0          NaN  NaN  left_only  \n",
       "1          NaN  NaN  left_only  \n",
       "4          NaN  NaN  left_only  \n",
       "7          NaN  NaN  left_only  \n",
       "9          NaN  NaN  left_only  \n",
       "...        ...  ...        ...  \n",
       "1535       NaN  NaN  left_only  \n",
       "1537       NaN  NaN  left_only  \n",
       "1538       NaN  NaN  left_only  \n",
       "1540       NaN  NaN  left_only  \n",
       "1542       NaN  NaN  left_only  \n",
       "\n",
       "[627 rows x 13 columns]"
      ],
      "text/html": "<div>\n<style scoped>\n    .dataframe tbody tr th:only-of-type {\n        vertical-align: middle;\n    }\n\n    .dataframe tbody tr th {\n        vertical-align: top;\n    }\n\n    .dataframe thead th {\n        text-align: right;\n    }\n</style>\n<table border=\"1\" class=\"dataframe\">\n  <thead>\n    <tr style=\"text-align: right;\">\n      <th></th>\n      <th>scrapName</th>\n      <th>deckNames</th>\n      <th>deckLinks</th>\n      <th>Occurrences</th>\n      <th>cardName</th>\n      <th>colorIdentity</th>\n      <th>typeLine</th>\n      <th>reserved</th>\n      <th>prices</th>\n      <th>mergedSource</th>\n      <th>Quantity</th>\n      <th>Name</th>\n      <th>_merge</th>\n    </tr>\n  </thead>\n  <tbody>\n    <tr>\n      <th>0</th>\n      <td>Abandon Reason</td>\n      <td>[Filter Anje cEDH Primer]</td>\n      <td>[https://www.moxfield.com/decks/PFGBjM5BnESfH9...</td>\n      <td>1</td>\n      <td>Abandon Reason</td>\n      <td>[R]</td>\n      <td>Instant</td>\n      <td>False</td>\n      <td>{'usd': '0.10', 'usd_foil': '0.26', 'eur': '0....</td>\n      <td>both</td>\n      <td>NaN</td>\n      <td>NaN</td>\n      <td>left_only</td>\n    </tr>\n    <tr>\n      <th>1</th>\n      <td>Abeyance</td>\n      <td>[Heliod II: Sunshine Boogaloo]</td>\n      <td>[https://www.moxfield.com/decks/rohOeIs-dEmA1L...</td>\n      <td>1</td>\n      <td>Abeyance</td>\n      <td>[W]</td>\n      <td>Instant</td>\n      <td>True</td>\n      <td>{'usd': '31.10', 'usd_foil': None, 'eur': '3.9...</td>\n      <td>both</td>\n      <td>NaN</td>\n      <td>NaN</td>\n      <td>left_only</td>\n    </tr>\n    <tr>\n      <th>4</th>\n      <td>Abundance</td>\n      <td>[Simic Ad Naus in the CZ]</td>\n      <td>[https://www.moxfield.com/decks/Vva2blXPDEWTPC...</td>\n      <td>1</td>\n      <td>Abundance</td>\n      <td>[G]</td>\n      <td>Enchantment</td>\n      <td>False</td>\n      <td>{'usd': '0.23', 'usd_foil': None, 'eur': '0.20...</td>\n      <td>both</td>\n      <td>NaN</td>\n      <td>NaN</td>\n      <td>left_only</td>\n    </tr>\n    <tr>\n      <th>7</th>\n      <td>Acererak the Archlich</td>\n      <td>[Seattle '27]</td>\n      <td>[https://www.moxfield.com/decks/V0c3IB9tTUyVhM...</td>\n      <td>1</td>\n      <td>Acererak the Archlich</td>\n      <td>[B]</td>\n      <td>Legendary Creature — Zombie Wizard</td>\n      <td>False</td>\n      <td>{'usd': '8.96', 'usd_foil': '14.99', 'eur': '1...</td>\n      <td>both</td>\n      <td>NaN</td>\n      <td>NaN</td>\n      <td>left_only</td>\n    </tr>\n    <tr>\n      <th>9</th>\n      <td>Adaptive Automaton</td>\n      <td>[PRIMER: Clockside Outlaw, Fullmetal Magda!?, ...</td>\n      <td>[https://www.moxfield.com/decks/xmH0i1HMHUi2iC...</td>\n      <td>3</td>\n      <td>Adaptive Automaton</td>\n      <td>[]</td>\n      <td>Artifact Creature — Construct</td>\n      <td>False</td>\n      <td>{'usd': '2.88', 'usd_foil': '3.29', 'eur': '0....</td>\n      <td>both</td>\n      <td>NaN</td>\n      <td>NaN</td>\n      <td>left_only</td>\n    </tr>\n    <tr>\n      <th>...</th>\n      <td>...</td>\n      <td>...</td>\n      <td>...</td>\n      <td>...</td>\n      <td>...</td>\n      <td>...</td>\n      <td>...</td>\n      <td>...</td>\n      <td>...</td>\n      <td>...</td>\n      <td>...</td>\n      <td>...</td>\n      <td>...</td>\n    </tr>\n    <tr>\n      <th>1535</th>\n      <td>Yidris, Maelstrom Wielder</td>\n      <td>[[Primer] Yidris Storm Consultation]</td>\n      <td>[https://www.moxfield.com/decks/ZUw1dxdOJUyMvi...</td>\n      <td>1</td>\n      <td>Yidris, Maelstrom Wielder</td>\n      <td>[B, G, R, U]</td>\n      <td>Legendary Creature — Ogre Wizard</td>\n      <td>False</td>\n      <td>{'usd': None, 'usd_foil': '12.00', 'eur': None...</td>\n      <td>both</td>\n      <td>NaN</td>\n      <td>NaN</td>\n      <td>left_only</td>\n    </tr>\n    <tr>\n      <th>1537</th>\n      <td>You Find Some Prisoners</td>\n      <td>[PRIMER: Clockside Outlaw, Time is Money]</td>\n      <td>[https://www.moxfield.com/decks/xmH0i1HMHUi2iC...</td>\n      <td>2</td>\n      <td>You Find Some Prisoners</td>\n      <td>[R]</td>\n      <td>Instant</td>\n      <td>False</td>\n      <td>{'usd': '0.61', 'usd_foil': '1.39', 'eur': '0....</td>\n      <td>both</td>\n      <td>NaN</td>\n      <td>NaN</td>\n      <td>left_only</td>\n    </tr>\n    <tr>\n      <th>1538</th>\n      <td>Young Wolf</td>\n      <td>[Ghave Earthcraft Adnaus ♾, ⚰️ Enigmatic Reani...</td>\n      <td>[https://www.moxfield.com/decks/fsrJzDCtX0-8UZ...</td>\n      <td>3</td>\n      <td>Young Wolf</td>\n      <td>[G]</td>\n      <td>Creature — Wolf</td>\n      <td>False</td>\n      <td>{'usd': '0.44', 'usd_foil': '7.78', 'eur': '0....</td>\n      <td>both</td>\n      <td>NaN</td>\n      <td>NaN</td>\n      <td>left_only</td>\n    </tr>\n    <tr>\n      <th>1540</th>\n      <td>Zaxara, the Exemplary</td>\n      <td>[Freed Zaxara (cEDH) ]</td>\n      <td>[https://www.moxfield.com/decks/qcFvPNMzzE28jo...</td>\n      <td>1</td>\n      <td>Zaxara, the Exemplary</td>\n      <td>[B, G, U]</td>\n      <td>Legendary Creature — Nightmare Hydra</td>\n      <td>False</td>\n      <td>{'usd': '2.96', 'usd_foil': '1.05', 'eur': '0....</td>\n      <td>both</td>\n      <td>NaN</td>\n      <td>NaN</td>\n      <td>left_only</td>\n    </tr>\n    <tr>\n      <th>1542</th>\n      <td>Zealous Persecution</td>\n      <td>[Tymna/Sidar Raza, The Pet Cemetery, Metapod P...</td>\n      <td>[https://www.moxfield.com/decks/1vqfLIEtWkOnZo...</td>\n      <td>3</td>\n      <td>Zealous Persecution</td>\n      <td>[B, W]</td>\n      <td>Instant</td>\n      <td>False</td>\n      <td>{'usd': '0.16', 'usd_foil': '0.85', 'eur': '0....</td>\n      <td>both</td>\n      <td>NaN</td>\n      <td>NaN</td>\n      <td>left_only</td>\n    </tr>\n  </tbody>\n</table>\n<p>627 rows × 13 columns</p>\n</div>"
     },
     "metadata": {},
     "execution_count": 20
    }
   ],
   "source": [
    "not_collection"
   ]
  },
  {
   "cell_type": "code",
   "execution_count": null,
   "metadata": {},
   "outputs": [],
   "source": []
  },
  {
   "cell_type": "code",
   "execution_count": null,
   "metadata": {},
   "outputs": [],
   "source": []
  }
 ]
}